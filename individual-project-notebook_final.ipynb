{
 "cells": [
  {
   "cell_type": "markdown",
   "metadata": {},
   "source": [
    "# Executive Summary\n",
    "\n",
    "*** Goal *** : The goal of this project was to identify common technical indicators, strip them of their signals and explore whether a classification machine learning model could reliably predict whether the price of ETH would either gain or fall on a daily basis from these features.\n",
    "\n",
    "*** Project Findings *** : Both the Random Forest and Logistic Regression models outperformed the Baseline with accuracies of roughly 55%.  However, the Random Forest model more reliably predicted both target outcomes with precision on both target outcomes of 55%-56%.  The Random Forest model overweighted the EMA feature which is an important component in the calculation of the 'signal' indicators which were the lowest weighted features. This suggests there is room for improvement should we incorporate the signals into the modeling. \n",
    "\n",
    "*** Next Steps *** : \n",
    "* Incorporate signals and fully utilize the potential impact of the 'signal' features in isolating high probability scenarios.  The noise reduction should lead to improvements in the model's predictive performance.\n",
    "* Run model predictions through a simulated market environment to evaluate the model's success rate versus market return after accounting for transaction costs and potential price performance. "
   ]
  },
  {
   "cell_type": "code",
   "execution_count": 377,
   "metadata": {},
   "outputs": [],
   "source": [
    "import warnings\n",
    "warnings.filterwarnings(\"ignore\")\n",
    "\n",
    "import numpy as np\n",
    "import pandas as pd\n",
    "from math import floor\n",
    "from math import sqrt\n",
    "from scipy import stats\n",
    "import prepare\n",
    "\n",
    "# visualize \n",
    "import matplotlib.pyplot as plt\n",
    "%matplotlib inline\n",
    "import seaborn as sns\n",
    "\n",
    "\n",
    "# working with dates\n",
    "from datetime import datetime\n",
    "\n",
    "# to evaluated performance using rmse\n",
    "from sklearn.metrics import mean_squared_error\n",
    "from math import sqrt \n",
    "\n",
    "from sklearn.model_selection import train_test_split\n",
    "\n",
    "# for tsa \n",
    "import statsmodels.api as sm"
   ]
  },
  {
   "cell_type": "code",
   "execution_count": 3,
   "metadata": {},
   "outputs": [],
   "source": [
    "# plotting defaults\n",
    "plt.rc('figure', figsize=(13, 7))\n",
    "plt.style.use('seaborn-whitegrid')\n",
    "plt.rc('font', size=16)"
   ]
  },
  {
   "cell_type": "markdown",
   "metadata": {},
   "source": [
    "# Acquire"
   ]
  },
  {
   "cell_type": "code",
   "execution_count": 4,
   "metadata": {},
   "outputs": [],
   "source": [
    "eth = prepare.get_data()"
   ]
  },
  {
   "cell_type": "raw",
   "metadata": {},
   "source": [
    "def get_data():\n",
    "\n",
    "    filename = 'ETH-USD.csv'\n",
    "\n",
    "    if os.path.isfile(filename):\n",
    "        return pd.read_csv(filename)\n",
    "    else:\n",
    "        # read .csv file from github\n",
    "        df = pd.read('https://raw.githubusercontent.com/albertopuentes/Individual-Project/master/ETH-USD.csv')\n",
    "\n",
    "        # Write that dataframe to disk for later. Called \"caching\" the data for later.\n",
    "        df.to_file(filename)\n",
    "\n",
    "        # Return the dataframe to the calling code\n",
    "        return df  "
   ]
  },
  {
   "cell_type": "code",
   "execution_count": 5,
   "metadata": {},
   "outputs": [
    {
     "data": {
      "text/html": [
       "<div>\n",
       "<style scoped>\n",
       "    .dataframe tbody tr th:only-of-type {\n",
       "        vertical-align: middle;\n",
       "    }\n",
       "\n",
       "    .dataframe tbody tr th {\n",
       "        vertical-align: top;\n",
       "    }\n",
       "\n",
       "    .dataframe thead th {\n",
       "        text-align: right;\n",
       "    }\n",
       "</style>\n",
       "<table border=\"1\" class=\"dataframe\">\n",
       "  <thead>\n",
       "    <tr style=\"text-align: right;\">\n",
       "      <th></th>\n",
       "      <th>Date</th>\n",
       "      <th>Open</th>\n",
       "      <th>High</th>\n",
       "      <th>Low</th>\n",
       "      <th>Close</th>\n",
       "      <th>Adj Close</th>\n",
       "      <th>Volume</th>\n",
       "    </tr>\n",
       "  </thead>\n",
       "  <tbody>\n",
       "    <tr>\n",
       "      <th>0</th>\n",
       "      <td>2015-08-08</td>\n",
       "      <td>2.793760</td>\n",
       "      <td>2.798810</td>\n",
       "      <td>0.714725</td>\n",
       "      <td>0.753325</td>\n",
       "      <td>0.753325</td>\n",
       "      <td>674188.0</td>\n",
       "    </tr>\n",
       "    <tr>\n",
       "      <th>1</th>\n",
       "      <td>2015-08-09</td>\n",
       "      <td>0.706136</td>\n",
       "      <td>0.879810</td>\n",
       "      <td>0.629191</td>\n",
       "      <td>0.701897</td>\n",
       "      <td>0.701897</td>\n",
       "      <td>532170.0</td>\n",
       "    </tr>\n",
       "    <tr>\n",
       "      <th>2</th>\n",
       "      <td>2015-08-10</td>\n",
       "      <td>0.713989</td>\n",
       "      <td>0.729854</td>\n",
       "      <td>0.636546</td>\n",
       "      <td>0.708448</td>\n",
       "      <td>0.708448</td>\n",
       "      <td>405283.0</td>\n",
       "    </tr>\n",
       "    <tr>\n",
       "      <th>3</th>\n",
       "      <td>2015-08-11</td>\n",
       "      <td>0.708087</td>\n",
       "      <td>1.131410</td>\n",
       "      <td>0.663235</td>\n",
       "      <td>1.067860</td>\n",
       "      <td>1.067860</td>\n",
       "      <td>1463100.0</td>\n",
       "    </tr>\n",
       "    <tr>\n",
       "      <th>4</th>\n",
       "      <td>2015-08-12</td>\n",
       "      <td>1.058750</td>\n",
       "      <td>1.289940</td>\n",
       "      <td>0.883608</td>\n",
       "      <td>1.217440</td>\n",
       "      <td>1.217440</td>\n",
       "      <td>2150620.0</td>\n",
       "    </tr>\n",
       "  </tbody>\n",
       "</table>\n",
       "</div>"
      ],
      "text/plain": [
       "         Date      Open      High       Low     Close  Adj Close     Volume\n",
       "0  2015-08-08  2.793760  2.798810  0.714725  0.753325   0.753325   674188.0\n",
       "1  2015-08-09  0.706136  0.879810  0.629191  0.701897   0.701897   532170.0\n",
       "2  2015-08-10  0.713989  0.729854  0.636546  0.708448   0.708448   405283.0\n",
       "3  2015-08-11  0.708087  1.131410  0.663235  1.067860   1.067860  1463100.0\n",
       "4  2015-08-12  1.058750  1.289940  0.883608  1.217440   1.217440  2150620.0"
      ]
     },
     "execution_count": 5,
     "metadata": {},
     "output_type": "execute_result"
    }
   ],
   "source": [
    "eth.head()"
   ]
  },
  {
   "cell_type": "code",
   "execution_count": 6,
   "metadata": {},
   "outputs": [
    {
     "data": {
      "text/plain": [
       "Date         0\n",
       "Open         4\n",
       "High         4\n",
       "Low          4\n",
       "Close        4\n",
       "Adj Close    4\n",
       "Volume       4\n",
       "dtype: int64"
      ]
     },
     "execution_count": 6,
     "metadata": {},
     "output_type": "execute_result"
    }
   ],
   "source": [
    "# check for missing/null data\n",
    "eth.isnull().sum()"
   ]
  },
  {
   "cell_type": "code",
   "execution_count": 7,
   "metadata": {},
   "outputs": [
    {
     "data": {
      "text/html": [
       "<div>\n",
       "<style scoped>\n",
       "    .dataframe tbody tr th:only-of-type {\n",
       "        vertical-align: middle;\n",
       "    }\n",
       "\n",
       "    .dataframe tbody tr th {\n",
       "        vertical-align: top;\n",
       "    }\n",
       "\n",
       "    .dataframe thead th {\n",
       "        text-align: right;\n",
       "    }\n",
       "</style>\n",
       "<table border=\"1\" class=\"dataframe\">\n",
       "  <thead>\n",
       "    <tr style=\"text-align: right;\">\n",
       "      <th></th>\n",
       "      <th>Open</th>\n",
       "      <th>High</th>\n",
       "      <th>Low</th>\n",
       "      <th>Close</th>\n",
       "      <th>Adj Close</th>\n",
       "      <th>Volume</th>\n",
       "    </tr>\n",
       "  </thead>\n",
       "  <tbody>\n",
       "    <tr>\n",
       "      <th>count</th>\n",
       "      <td>2116.000000</td>\n",
       "      <td>2116.000000</td>\n",
       "      <td>2116.000000</td>\n",
       "      <td>2116.000000</td>\n",
       "      <td>2116.000000</td>\n",
       "      <td>2.116000e+03</td>\n",
       "    </tr>\n",
       "    <tr>\n",
       "      <th>mean</th>\n",
       "      <td>345.996625</td>\n",
       "      <td>359.900218</td>\n",
       "      <td>330.685773</td>\n",
       "      <td>347.228301</td>\n",
       "      <td>347.228301</td>\n",
       "      <td>6.653876e+09</td>\n",
       "    </tr>\n",
       "    <tr>\n",
       "      <th>std</th>\n",
       "      <td>540.224970</td>\n",
       "      <td>566.906229</td>\n",
       "      <td>510.258962</td>\n",
       "      <td>542.654011</td>\n",
       "      <td>542.654011</td>\n",
       "      <td>1.035570e+10</td>\n",
       "    </tr>\n",
       "    <tr>\n",
       "      <th>min</th>\n",
       "      <td>0.431589</td>\n",
       "      <td>0.482988</td>\n",
       "      <td>0.420897</td>\n",
       "      <td>0.434829</td>\n",
       "      <td>0.434829</td>\n",
       "      <td>1.021280e+05</td>\n",
       "    </tr>\n",
       "    <tr>\n",
       "      <th>25%</th>\n",
       "      <td>13.281750</td>\n",
       "      <td>13.855525</td>\n",
       "      <td>13.032900</td>\n",
       "      <td>13.325150</td>\n",
       "      <td>13.325150</td>\n",
       "      <td>3.605552e+07</td>\n",
       "    </tr>\n",
       "    <tr>\n",
       "      <th>50%</th>\n",
       "      <td>194.705276</td>\n",
       "      <td>201.004501</td>\n",
       "      <td>187.054772</td>\n",
       "      <td>194.787369</td>\n",
       "      <td>194.787369</td>\n",
       "      <td>2.021149e+09</td>\n",
       "    </tr>\n",
       "    <tr>\n",
       "      <th>75%</th>\n",
       "      <td>371.200424</td>\n",
       "      <td>383.609542</td>\n",
       "      <td>363.656357</td>\n",
       "      <td>371.154121</td>\n",
       "      <td>371.154121</td>\n",
       "      <td>9.060469e+09</td>\n",
       "    </tr>\n",
       "    <tr>\n",
       "      <th>max</th>\n",
       "      <td>4174.635742</td>\n",
       "      <td>4362.350586</td>\n",
       "      <td>3785.848633</td>\n",
       "      <td>4168.701172</td>\n",
       "      <td>4168.701172</td>\n",
       "      <td>8.448291e+10</td>\n",
       "    </tr>\n",
       "  </tbody>\n",
       "</table>\n",
       "</div>"
      ],
      "text/plain": [
       "              Open         High          Low        Close    Adj Close  \\\n",
       "count  2116.000000  2116.000000  2116.000000  2116.000000  2116.000000   \n",
       "mean    345.996625   359.900218   330.685773   347.228301   347.228301   \n",
       "std     540.224970   566.906229   510.258962   542.654011   542.654011   \n",
       "min       0.431589     0.482988     0.420897     0.434829     0.434829   \n",
       "25%      13.281750    13.855525    13.032900    13.325150    13.325150   \n",
       "50%     194.705276   201.004501   187.054772   194.787369   194.787369   \n",
       "75%     371.200424   383.609542   363.656357   371.154121   371.154121   \n",
       "max    4174.635742  4362.350586  3785.848633  4168.701172  4168.701172   \n",
       "\n",
       "             Volume  \n",
       "count  2.116000e+03  \n",
       "mean   6.653876e+09  \n",
       "std    1.035570e+10  \n",
       "min    1.021280e+05  \n",
       "25%    3.605552e+07  \n",
       "50%    2.021149e+09  \n",
       "75%    9.060469e+09  \n",
       "max    8.448291e+10  "
      ]
     },
     "execution_count": 7,
     "metadata": {},
     "output_type": "execute_result"
    }
   ],
   "source": [
    "eth.describe()"
   ]
  },
  {
   "cell_type": "code",
   "execution_count": 8,
   "metadata": {},
   "outputs": [
    {
     "data": {
      "text/html": [
       "<div>\n",
       "<style scoped>\n",
       "    .dataframe tbody tr th:only-of-type {\n",
       "        vertical-align: middle;\n",
       "    }\n",
       "\n",
       "    .dataframe tbody tr th {\n",
       "        vertical-align: top;\n",
       "    }\n",
       "\n",
       "    .dataframe thead th {\n",
       "        text-align: right;\n",
       "    }\n",
       "</style>\n",
       "<table border=\"1\" class=\"dataframe\">\n",
       "  <thead>\n",
       "    <tr style=\"text-align: right;\">\n",
       "      <th></th>\n",
       "      <th>Date</th>\n",
       "      <th>Open</th>\n",
       "      <th>High</th>\n",
       "      <th>Low</th>\n",
       "      <th>Close</th>\n",
       "      <th>Adj Close</th>\n",
       "      <th>Volume</th>\n",
       "    </tr>\n",
       "  </thead>\n",
       "  <tbody>\n",
       "    <tr>\n",
       "      <th>1714</th>\n",
       "      <td>2020-04-17</td>\n",
       "      <td>NaN</td>\n",
       "      <td>NaN</td>\n",
       "      <td>NaN</td>\n",
       "      <td>NaN</td>\n",
       "      <td>NaN</td>\n",
       "      <td>NaN</td>\n",
       "    </tr>\n",
       "    <tr>\n",
       "      <th>1889</th>\n",
       "      <td>2020-10-09</td>\n",
       "      <td>NaN</td>\n",
       "      <td>NaN</td>\n",
       "      <td>NaN</td>\n",
       "      <td>NaN</td>\n",
       "      <td>NaN</td>\n",
       "      <td>NaN</td>\n",
       "    </tr>\n",
       "    <tr>\n",
       "      <th>1892</th>\n",
       "      <td>2020-10-12</td>\n",
       "      <td>NaN</td>\n",
       "      <td>NaN</td>\n",
       "      <td>NaN</td>\n",
       "      <td>NaN</td>\n",
       "      <td>NaN</td>\n",
       "      <td>NaN</td>\n",
       "    </tr>\n",
       "    <tr>\n",
       "      <th>1893</th>\n",
       "      <td>2020-10-13</td>\n",
       "      <td>NaN</td>\n",
       "      <td>NaN</td>\n",
       "      <td>NaN</td>\n",
       "      <td>NaN</td>\n",
       "      <td>NaN</td>\n",
       "      <td>NaN</td>\n",
       "    </tr>\n",
       "  </tbody>\n",
       "</table>\n",
       "</div>"
      ],
      "text/plain": [
       "            Date  Open  High  Low  Close  Adj Close  Volume\n",
       "1714  2020-04-17   NaN   NaN  NaN    NaN        NaN     NaN\n",
       "1889  2020-10-09   NaN   NaN  NaN    NaN        NaN     NaN\n",
       "1892  2020-10-12   NaN   NaN  NaN    NaN        NaN     NaN\n",
       "1893  2020-10-13   NaN   NaN  NaN    NaN        NaN     NaN"
      ]
     },
     "execution_count": 8,
     "metadata": {},
     "output_type": "execute_result"
    }
   ],
   "source": [
    "# view null rows\n",
    "eth[eth['Open'].isna()]"
   ]
  },
  {
   "cell_type": "markdown",
   "metadata": {},
   "source": [
    "Note: Looks like all nulls in same rows. Considering the minimal amount of null values, I think a simple interopation would be acceptable here"
   ]
  },
  {
   "cell_type": "markdown",
   "metadata": {},
   "source": [
    "# Prepare"
   ]
  },
  {
   "cell_type": "markdown",
   "metadata": {},
   "source": [
    "#### Data Cleanup"
   ]
  },
  {
   "cell_type": "code",
   "execution_count": 9,
   "metadata": {},
   "outputs": [],
   "source": [
    "# handle null data by interpolating missing values \n",
    "eth = eth.interpolate(method='linear')"
   ]
  },
  {
   "cell_type": "code",
   "execution_count": 10,
   "metadata": {},
   "outputs": [
    {
     "data": {
      "text/plain": [
       "Date         0\n",
       "Open         0\n",
       "High         0\n",
       "Low          0\n",
       "Close        0\n",
       "Adj Close    0\n",
       "Volume       0\n",
       "dtype: int64"
      ]
     },
     "execution_count": 10,
     "metadata": {},
     "output_type": "execute_result"
    }
   ],
   "source": [
    "eth.isnull().sum()"
   ]
  },
  {
   "cell_type": "code",
   "execution_count": 11,
   "metadata": {},
   "outputs": [
    {
     "name": "stdout",
     "output_type": "stream",
     "text": [
      "<class 'pandas.core.frame.DataFrame'>\n",
      "RangeIndex: 2120 entries, 0 to 2119\n",
      "Data columns (total 7 columns):\n",
      " #   Column     Non-Null Count  Dtype  \n",
      "---  ------     --------------  -----  \n",
      " 0   Date       2120 non-null   object \n",
      " 1   Open       2120 non-null   float64\n",
      " 2   High       2120 non-null   float64\n",
      " 3   Low        2120 non-null   float64\n",
      " 4   Close      2120 non-null   float64\n",
      " 5   Adj Close  2120 non-null   float64\n",
      " 6   Volume     2120 non-null   float64\n",
      "dtypes: float64(6), object(1)\n",
      "memory usage: 116.1+ KB\n"
     ]
    }
   ],
   "source": [
    "eth.info()"
   ]
  },
  {
   "cell_type": "code",
   "execution_count": 12,
   "metadata": {},
   "outputs": [],
   "source": [
    "# Date not in DateTime format.  Convert and set as index\n",
    "eth.Date = pd.to_datetime(eth.Date)\n",
    "eth = eth.set_index('Date').sort_index()"
   ]
  },
  {
   "cell_type": "code",
   "execution_count": 13,
   "metadata": {},
   "outputs": [
    {
     "data": {
      "text/html": [
       "<div>\n",
       "<style scoped>\n",
       "    .dataframe tbody tr th:only-of-type {\n",
       "        vertical-align: middle;\n",
       "    }\n",
       "\n",
       "    .dataframe tbody tr th {\n",
       "        vertical-align: top;\n",
       "    }\n",
       "\n",
       "    .dataframe thead th {\n",
       "        text-align: right;\n",
       "    }\n",
       "</style>\n",
       "<table border=\"1\" class=\"dataframe\">\n",
       "  <thead>\n",
       "    <tr style=\"text-align: right;\">\n",
       "      <th></th>\n",
       "      <th>Open</th>\n",
       "      <th>High</th>\n",
       "      <th>Low</th>\n",
       "      <th>Close</th>\n",
       "      <th>Adj Close</th>\n",
       "      <th>Volume</th>\n",
       "    </tr>\n",
       "    <tr>\n",
       "      <th>Date</th>\n",
       "      <th></th>\n",
       "      <th></th>\n",
       "      <th></th>\n",
       "      <th></th>\n",
       "      <th></th>\n",
       "      <th></th>\n",
       "    </tr>\n",
       "  </thead>\n",
       "  <tbody>\n",
       "  </tbody>\n",
       "</table>\n",
       "</div>"
      ],
      "text/plain": [
       "Empty DataFrame\n",
       "Columns: [Open, High, Low, Close, Adj Close, Volume]\n",
       "Index: []"
      ]
     },
     "execution_count": 13,
     "metadata": {},
     "output_type": "execute_result"
    }
   ],
   "source": [
    "# compare Close and Adj Close.  Appear to be same info, need to confirm:\n",
    "eth[eth['Close'] != eth['Adj Close']]"
   ]
  },
  {
   "cell_type": "code",
   "execution_count": 14,
   "metadata": {},
   "outputs": [],
   "source": [
    "# columns are equivalent so drop 'Adj Close'\n",
    "eth = eth.drop(columns=('Adj Close'))"
   ]
  },
  {
   "cell_type": "code",
   "execution_count": 15,
   "metadata": {},
   "outputs": [
    {
     "name": "stdout",
     "output_type": "stream",
     "text": [
      "<class 'pandas.core.frame.DataFrame'>\n",
      "DatetimeIndex: 2120 entries, 2015-08-08 to 2021-05-27\n",
      "Data columns (total 5 columns):\n",
      " #   Column  Non-Null Count  Dtype  \n",
      "---  ------  --------------  -----  \n",
      " 0   Open    2120 non-null   float64\n",
      " 1   High    2120 non-null   float64\n",
      " 2   Low     2120 non-null   float64\n",
      " 3   Close   2120 non-null   float64\n",
      " 4   Volume  2120 non-null   float64\n",
      "dtypes: float64(5)\n",
      "memory usage: 99.4 KB\n"
     ]
    }
   ],
   "source": [
    "eth.info()"
   ]
  },
  {
   "cell_type": "code",
   "execution_count": 16,
   "metadata": {},
   "outputs": [
    {
     "data": {
      "text/plain": [
       "Index(['Open', 'High', 'Low', 'Close', 'Volume'], dtype='object')"
      ]
     },
     "execution_count": 16,
     "metadata": {},
     "output_type": "execute_result"
    }
   ],
   "source": [
    "eth.columns"
   ]
  },
  {
   "cell_type": "code",
   "execution_count": 17,
   "metadata": {},
   "outputs": [],
   "source": [
    "# drop columns that aren't going to be used as features or in feature engineering\n",
    "eth = eth.drop(columns=['Open', 'High', 'Low'])"
   ]
  },
  {
   "cell_type": "code",
   "execution_count": 18,
   "metadata": {},
   "outputs": [
    {
     "data": {
      "text/html": [
       "<div>\n",
       "<style scoped>\n",
       "    .dataframe tbody tr th:only-of-type {\n",
       "        vertical-align: middle;\n",
       "    }\n",
       "\n",
       "    .dataframe tbody tr th {\n",
       "        vertical-align: top;\n",
       "    }\n",
       "\n",
       "    .dataframe thead th {\n",
       "        text-align: right;\n",
       "    }\n",
       "</style>\n",
       "<table border=\"1\" class=\"dataframe\">\n",
       "  <thead>\n",
       "    <tr style=\"text-align: right;\">\n",
       "      <th></th>\n",
       "      <th>Close</th>\n",
       "      <th>Volume</th>\n",
       "    </tr>\n",
       "    <tr>\n",
       "      <th>Date</th>\n",
       "      <th></th>\n",
       "      <th></th>\n",
       "    </tr>\n",
       "  </thead>\n",
       "  <tbody>\n",
       "    <tr>\n",
       "      <th>2015-08-08</th>\n",
       "      <td>0.753325</td>\n",
       "      <td>674188.0</td>\n",
       "    </tr>\n",
       "    <tr>\n",
       "      <th>2015-08-09</th>\n",
       "      <td>0.701897</td>\n",
       "      <td>532170.0</td>\n",
       "    </tr>\n",
       "    <tr>\n",
       "      <th>2015-08-10</th>\n",
       "      <td>0.708448</td>\n",
       "      <td>405283.0</td>\n",
       "    </tr>\n",
       "    <tr>\n",
       "      <th>2015-08-11</th>\n",
       "      <td>1.067860</td>\n",
       "      <td>1463100.0</td>\n",
       "    </tr>\n",
       "    <tr>\n",
       "      <th>2015-08-12</th>\n",
       "      <td>1.217440</td>\n",
       "      <td>2150620.0</td>\n",
       "    </tr>\n",
       "  </tbody>\n",
       "</table>\n",
       "</div>"
      ],
      "text/plain": [
       "               Close     Volume\n",
       "Date                           \n",
       "2015-08-08  0.753325   674188.0\n",
       "2015-08-09  0.701897   532170.0\n",
       "2015-08-10  0.708448   405283.0\n",
       "2015-08-11  1.067860  1463100.0\n",
       "2015-08-12  1.217440  2150620.0"
      ]
     },
     "execution_count": 18,
     "metadata": {},
     "output_type": "execute_result"
    }
   ],
   "source": [
    "eth.head()"
   ]
  },
  {
   "cell_type": "raw",
   "metadata": {},
   "source": [
    "def clean_data(eth):\n",
    "    # handle null data by interpolating missing values \n",
    "    eth = eth.interpolate(method='linear')\n",
    "    # Convert Date to DateTime format and set as index\n",
    "    eth.Date = pd.to_datetime(eth.Date)\n",
    "    eth = eth.set_index('Date').sort_index()\n",
    "    # drop 'Adj Close'\n",
    "    eth = eth.drop(columns=('Adj Close'))\n",
    "    # drop columns that aren't going to be used as features or in feature engineering\n",
    "    eth = eth.drop(columns=['Open', 'High', 'Low'])\n",
    "    return eth"
   ]
  },
  {
   "cell_type": "markdown",
   "metadata": {},
   "source": [
    "#### Feature Engineering "
   ]
  },
  {
   "cell_type": "code",
   "execution_count": 19,
   "metadata": {},
   "outputs": [],
   "source": [
    "# Create % change Day-over-Day data columns\n",
    "eth['close_DoD'] = round(eth.Close.pct_change(), 2)\n",
    "eth['vol_DoD'] = round(eth.Volume.pct_change(), 2)"
   ]
  },
  {
   "cell_type": "code",
   "execution_count": 20,
   "metadata": {},
   "outputs": [],
   "source": [
    "# Create Close 50 & 200 day rolling averages (Close & Volume)\n",
    "dfm = eth.assign(\n",
    "rolling_50C=lambda eth: eth.Close.rolling(50).mean(),\n",
    "rolling_200C=lambda eth: eth.Close.rolling(200).mean(),\n",
    "rolling_50V=lambda eth: eth.Volume.rolling(50).mean(),\n",
    "rolling_200V=lambda eth: eth.Volume.rolling(200).mean())"
   ]
  },
  {
   "cell_type": "raw",
   "metadata": {},
   "source": [
    "def delta_rolling(eth)\n",
    "    '''function will take in cleaned data and add % change day-over-day & rolling avg columns'''\n",
    "    # Create % change Day-over-Day data columns\n",
    "    eth['close_DoD'] = round(eth.Close.pct_change(), 2)\n",
    "    eth['vol_DoD'] = round(eth.Volume.pct_change(), 2)\n",
    "    # Create Close 50 & 200 day rolling averages (Close & Volume)\n",
    "    dfm = eth.assign(\n",
    "    rolling_50C=lambda eth: eth.Close.rolling(50).mean(),\n",
    "    rolling_200C=lambda eth: eth.Close.rolling(200).mean(),\n",
    "    rolling_50V=lambda eth: eth.Volume.rolling(50).mean(),\n",
    "    rolling_200V=lambda eth: eth.Volume.rolling(200).mean())\n",
    "    return dfm"
   ]
  },
  {
   "cell_type": "code",
   "execution_count": 21,
   "metadata": {},
   "outputs": [],
   "source": [
    "def EMA(df, period, column):\n",
    "    return df[column].ewm(span=period, adjust=False).mean()"
   ]
  },
  {
   "cell_type": "raw",
   "metadata": {},
   "source": [
    "# Exponential Moving Average Indicator Function\n",
    "def EMA(dfm, period, column):\n",
    "    return dfm[column].ewm(span=period, adjust=False).mean()"
   ]
  },
  {
   "cell_type": "raw",
   "metadata": {},
   "source": [
    "# Relative Strength Indicator Function (Exponential Moving Average)\n",
    "def RSI(df, period, column):\n",
    "    window_length= period\n",
    "    # Dates\n",
    "    start = eth.index.min()\n",
    "    end = eth.index.max()\n",
    "    # Get the difference in price from previous step\n",
    "    delta = eth.Close.diff()\n",
    "    # Get rid of the first row, which is NaN since it did not have a previous \n",
    "    # row to calculate the differences\n",
    "    delta = delta[1:]\n",
    "    # Make the positive gains (up) and negative gains (down) Series\n",
    "    up, down = delta.clip(lower=0), delta.clip(upper=0)\n",
    "    # Calculate the EWMA\n",
    "    roll_up1 = up.ewm(span=window_length).mean()\n",
    "    roll_down1 = down.abs().ewm(span=window_length).mean()\n",
    "\n",
    "    # Calculate the RSI based on EWMA\n",
    "    RS1 = roll_up1 / roll_down1\n",
    "    RSI = 100.0 - (100.0 / (1.0 + RS1))\n",
    "    \n",
    "    df['RSI'+str(period)] = RSI\n",
    "    return df"
   ]
  },
  {
   "cell_type": "code",
   "execution_count": 22,
   "metadata": {},
   "outputs": [],
   "source": [
    "def RSI(df, period):\n",
    "    window_length= period\n",
    "    # Dates\n",
    "    start = df.index.min()\n",
    "    end = df.index.max()\n",
    "    # Get the difference in price from previous step\n",
    "    delta = df.Close.diff()\n",
    "    # Get rid of the first row, which is NaN since it did not have a previous \n",
    "    # row to calculate the differences\n",
    "    delta = delta[1:]\n",
    "    # Make the positive gains (up) and negative gains (down) Series\n",
    "    up, down = delta.clip(lower=0), delta.clip(upper=0)\n",
    "    # Calculate the EWMA\n",
    "    roll_up1 = up.ewm(span=window_length).mean()\n",
    "    roll_down1 = down.abs().ewm(span=window_length).mean()\n",
    "\n",
    "    # Calculate the RSI based on EWMA\n",
    "    RS1 = roll_up1 / roll_down1\n",
    "    RSI = 100.0 - (100.0 / (1.0 + RS1))\n",
    "    \n",
    "    df['RSI'+str(period)] = RSI\n",
    "    return df"
   ]
  },
  {
   "cell_type": "code",
   "execution_count": 23,
   "metadata": {},
   "outputs": [
    {
     "data": {
      "text/html": [
       "<div>\n",
       "<style scoped>\n",
       "    .dataframe tbody tr th:only-of-type {\n",
       "        vertical-align: middle;\n",
       "    }\n",
       "\n",
       "    .dataframe tbody tr th {\n",
       "        vertical-align: top;\n",
       "    }\n",
       "\n",
       "    .dataframe thead th {\n",
       "        text-align: right;\n",
       "    }\n",
       "</style>\n",
       "<table border=\"1\" class=\"dataframe\">\n",
       "  <thead>\n",
       "    <tr style=\"text-align: right;\">\n",
       "      <th></th>\n",
       "      <th>Close</th>\n",
       "      <th>Volume</th>\n",
       "      <th>close_DoD</th>\n",
       "      <th>vol_DoD</th>\n",
       "      <th>rolling_50C</th>\n",
       "      <th>rolling_200C</th>\n",
       "      <th>rolling_50V</th>\n",
       "      <th>rolling_200V</th>\n",
       "      <th>RSI7</th>\n",
       "      <th>RSI12</th>\n",
       "      <th>RSI26</th>\n",
       "      <th>EMA7</th>\n",
       "      <th>EMA12</th>\n",
       "      <th>EMA26</th>\n",
       "      <th>momentum-cross</th>\n",
       "    </tr>\n",
       "    <tr>\n",
       "      <th>Date</th>\n",
       "      <th></th>\n",
       "      <th></th>\n",
       "      <th></th>\n",
       "      <th></th>\n",
       "      <th></th>\n",
       "      <th></th>\n",
       "      <th></th>\n",
       "      <th></th>\n",
       "      <th></th>\n",
       "      <th></th>\n",
       "      <th></th>\n",
       "      <th></th>\n",
       "      <th></th>\n",
       "      <th></th>\n",
       "      <th></th>\n",
       "    </tr>\n",
       "  </thead>\n",
       "  <tbody>\n",
       "    <tr>\n",
       "      <th>2015-08-08</th>\n",
       "      <td>0.753325</td>\n",
       "      <td>6.741880e+05</td>\n",
       "      <td>NaN</td>\n",
       "      <td>NaN</td>\n",
       "      <td>NaN</td>\n",
       "      <td>NaN</td>\n",
       "      <td>NaN</td>\n",
       "      <td>NaN</td>\n",
       "      <td>NaN</td>\n",
       "      <td>NaN</td>\n",
       "      <td>NaN</td>\n",
       "      <td>0.753325</td>\n",
       "      <td>0.753325</td>\n",
       "      <td>0.753325</td>\n",
       "      <td>NaN</td>\n",
       "    </tr>\n",
       "    <tr>\n",
       "      <th>2015-08-09</th>\n",
       "      <td>0.701897</td>\n",
       "      <td>5.321700e+05</td>\n",
       "      <td>-0.07</td>\n",
       "      <td>-0.21</td>\n",
       "      <td>NaN</td>\n",
       "      <td>NaN</td>\n",
       "      <td>NaN</td>\n",
       "      <td>NaN</td>\n",
       "      <td>0.000000</td>\n",
       "      <td>0.000000</td>\n",
       "      <td>0.000000</td>\n",
       "      <td>0.740468</td>\n",
       "      <td>0.745413</td>\n",
       "      <td>0.749516</td>\n",
       "      <td>NaN</td>\n",
       "    </tr>\n",
       "    <tr>\n",
       "      <th>2015-08-10</th>\n",
       "      <td>0.708448</td>\n",
       "      <td>4.052830e+05</td>\n",
       "      <td>0.01</td>\n",
       "      <td>-0.24</td>\n",
       "      <td>NaN</td>\n",
       "      <td>NaN</td>\n",
       "      <td>NaN</td>\n",
       "      <td>NaN</td>\n",
       "      <td>14.518417</td>\n",
       "      <td>13.084467</td>\n",
       "      <td>12.093517</td>\n",
       "      <td>0.732463</td>\n",
       "      <td>0.739726</td>\n",
       "      <td>0.746473</td>\n",
       "      <td>NaN</td>\n",
       "    </tr>\n",
       "    <tr>\n",
       "      <th>2015-08-11</th>\n",
       "      <td>1.067860</td>\n",
       "      <td>1.463100e+06</td>\n",
       "      <td>0.51</td>\n",
       "      <td>2.61</td>\n",
       "      <td>NaN</td>\n",
       "      <td>NaN</td>\n",
       "      <td>NaN</td>\n",
       "      <td>NaN</td>\n",
       "      <td>92.643867</td>\n",
       "      <td>90.835392</td>\n",
       "      <td>89.234726</td>\n",
       "      <td>0.816312</td>\n",
       "      <td>0.790208</td>\n",
       "      <td>0.770280</td>\n",
       "      <td>NaN</td>\n",
       "    </tr>\n",
       "    <tr>\n",
       "      <th>2015-08-12</th>\n",
       "      <td>1.217440</td>\n",
       "      <td>2.150620e+06</td>\n",
       "      <td>0.14</td>\n",
       "      <td>0.47</td>\n",
       "      <td>NaN</td>\n",
       "      <td>NaN</td>\n",
       "      <td>NaN</td>\n",
       "      <td>NaN</td>\n",
       "      <td>95.119189</td>\n",
       "      <td>93.635631</td>\n",
       "      <td>92.279805</td>\n",
       "      <td>0.916594</td>\n",
       "      <td>0.855936</td>\n",
       "      <td>0.803403</td>\n",
       "      <td>NaN</td>\n",
       "    </tr>\n",
       "    <tr>\n",
       "      <th>...</th>\n",
       "      <td>...</td>\n",
       "      <td>...</td>\n",
       "      <td>...</td>\n",
       "      <td>...</td>\n",
       "      <td>...</td>\n",
       "      <td>...</td>\n",
       "      <td>...</td>\n",
       "      <td>...</td>\n",
       "      <td>...</td>\n",
       "      <td>...</td>\n",
       "      <td>...</td>\n",
       "      <td>...</td>\n",
       "      <td>...</td>\n",
       "      <td>...</td>\n",
       "      <td>...</td>\n",
       "    </tr>\n",
       "    <tr>\n",
       "      <th>2021-05-23</th>\n",
       "      <td>2109.579834</td>\n",
       "      <td>5.600572e+10</td>\n",
       "      <td>-0.08</td>\n",
       "      <td>0.33</td>\n",
       "      <td>2787.276658</td>\n",
       "      <td>1582.527753</td>\n",
       "      <td>4.196180e+10</td>\n",
       "      <td>3.013594e+10</td>\n",
       "      <td>18.430450</td>\n",
       "      <td>24.147085</td>\n",
       "      <td>34.381818</td>\n",
       "      <td>2634.165140</td>\n",
       "      <td>2891.064501</td>\n",
       "      <td>3015.199330</td>\n",
       "      <td>1.76</td>\n",
       "    </tr>\n",
       "    <tr>\n",
       "      <th>2021-05-24</th>\n",
       "      <td>2643.591064</td>\n",
       "      <td>5.369712e+10</td>\n",
       "      <td>0.25</td>\n",
       "      <td>-0.04</td>\n",
       "      <td>2798.286023</td>\n",
       "      <td>1593.675372</td>\n",
       "      <td>4.251561e+10</td>\n",
       "      <td>3.032722e+10</td>\n",
       "      <td>50.345309</td>\n",
       "      <td>43.950537</td>\n",
       "      <td>44.588112</td>\n",
       "      <td>2636.521621</td>\n",
       "      <td>2852.991665</td>\n",
       "      <td>2987.672792</td>\n",
       "      <td>1.76</td>\n",
       "    </tr>\n",
       "    <tr>\n",
       "      <th>2021-05-25</th>\n",
       "      <td>2706.628906</td>\n",
       "      <td>4.955833e+10</td>\n",
       "      <td>0.02</td>\n",
       "      <td>-0.08</td>\n",
       "      <td>2810.260857</td>\n",
       "      <td>1604.934920</td>\n",
       "      <td>4.292899e+10</td>\n",
       "      <td>3.049132e+10</td>\n",
       "      <td>53.225765</td>\n",
       "      <td>45.920259</td>\n",
       "      <td>45.665553</td>\n",
       "      <td>2654.048442</td>\n",
       "      <td>2830.474317</td>\n",
       "      <td>2966.854726</td>\n",
       "      <td>1.75</td>\n",
       "    </tr>\n",
       "    <tr>\n",
       "      <th>2021-05-26</th>\n",
       "      <td>2888.698730</td>\n",
       "      <td>4.249977e+10</td>\n",
       "      <td>0.07</td>\n",
       "      <td>-0.14</td>\n",
       "      <td>2825.667253</td>\n",
       "      <td>1617.199848</td>\n",
       "      <td>4.319453e+10</td>\n",
       "      <td>3.060946e+10</td>\n",
       "      <td>61.766904</td>\n",
       "      <td>51.712604</td>\n",
       "      <td>48.772639</td>\n",
       "      <td>2712.711014</td>\n",
       "      <td>2839.431919</td>\n",
       "      <td>2961.065393</td>\n",
       "      <td>1.75</td>\n",
       "    </tr>\n",
       "    <tr>\n",
       "      <th>2021-05-27</th>\n",
       "      <td>2776.133057</td>\n",
       "      <td>3.456504e+10</td>\n",
       "      <td>-0.04</td>\n",
       "      <td>-0.19</td>\n",
       "      <td>2841.768369</td>\n",
       "      <td>1628.812739</td>\n",
       "      <td>4.316350e+10</td>\n",
       "      <td>3.072582e+10</td>\n",
       "      <td>53.685726</td>\n",
       "      <td>47.959319</td>\n",
       "      <td>46.978847</td>\n",
       "      <td>2728.566525</td>\n",
       "      <td>2829.693633</td>\n",
       "      <td>2947.366701</td>\n",
       "      <td>1.74</td>\n",
       "    </tr>\n",
       "  </tbody>\n",
       "</table>\n",
       "<p>2120 rows × 15 columns</p>\n",
       "</div>"
      ],
      "text/plain": [
       "                  Close        Volume  close_DoD  vol_DoD  rolling_50C  \\\n",
       "Date                                                                     \n",
       "2015-08-08     0.753325  6.741880e+05        NaN      NaN          NaN   \n",
       "2015-08-09     0.701897  5.321700e+05      -0.07    -0.21          NaN   \n",
       "2015-08-10     0.708448  4.052830e+05       0.01    -0.24          NaN   \n",
       "2015-08-11     1.067860  1.463100e+06       0.51     2.61          NaN   \n",
       "2015-08-12     1.217440  2.150620e+06       0.14     0.47          NaN   \n",
       "...                 ...           ...        ...      ...          ...   \n",
       "2021-05-23  2109.579834  5.600572e+10      -0.08     0.33  2787.276658   \n",
       "2021-05-24  2643.591064  5.369712e+10       0.25    -0.04  2798.286023   \n",
       "2021-05-25  2706.628906  4.955833e+10       0.02    -0.08  2810.260857   \n",
       "2021-05-26  2888.698730  4.249977e+10       0.07    -0.14  2825.667253   \n",
       "2021-05-27  2776.133057  3.456504e+10      -0.04    -0.19  2841.768369   \n",
       "\n",
       "            rolling_200C   rolling_50V  rolling_200V       RSI7      RSI12  \\\n",
       "Date                                                                         \n",
       "2015-08-08           NaN           NaN           NaN        NaN        NaN   \n",
       "2015-08-09           NaN           NaN           NaN   0.000000   0.000000   \n",
       "2015-08-10           NaN           NaN           NaN  14.518417  13.084467   \n",
       "2015-08-11           NaN           NaN           NaN  92.643867  90.835392   \n",
       "2015-08-12           NaN           NaN           NaN  95.119189  93.635631   \n",
       "...                  ...           ...           ...        ...        ...   \n",
       "2021-05-23   1582.527753  4.196180e+10  3.013594e+10  18.430450  24.147085   \n",
       "2021-05-24   1593.675372  4.251561e+10  3.032722e+10  50.345309  43.950537   \n",
       "2021-05-25   1604.934920  4.292899e+10  3.049132e+10  53.225765  45.920259   \n",
       "2021-05-26   1617.199848  4.319453e+10  3.060946e+10  61.766904  51.712604   \n",
       "2021-05-27   1628.812739  4.316350e+10  3.072582e+10  53.685726  47.959319   \n",
       "\n",
       "                RSI26         EMA7        EMA12        EMA26  momentum-cross  \n",
       "Date                                                                          \n",
       "2015-08-08        NaN     0.753325     0.753325     0.753325             NaN  \n",
       "2015-08-09   0.000000     0.740468     0.745413     0.749516             NaN  \n",
       "2015-08-10  12.093517     0.732463     0.739726     0.746473             NaN  \n",
       "2015-08-11  89.234726     0.816312     0.790208     0.770280             NaN  \n",
       "2015-08-12  92.279805     0.916594     0.855936     0.803403             NaN  \n",
       "...               ...          ...          ...          ...             ...  \n",
       "2021-05-23  34.381818  2634.165140  2891.064501  3015.199330            1.76  \n",
       "2021-05-24  44.588112  2636.521621  2852.991665  2987.672792            1.76  \n",
       "2021-05-25  45.665553  2654.048442  2830.474317  2966.854726            1.75  \n",
       "2021-05-26  48.772639  2712.711014  2839.431919  2961.065393            1.75  \n",
       "2021-05-27  46.978847  2728.566525  2829.693633  2947.366701            1.74  \n",
       "\n",
       "[2120 rows x 15 columns]"
      ]
     },
     "execution_count": 23,
     "metadata": {},
     "output_type": "execute_result"
    }
   ],
   "source": [
    "# run functions to add indicator features\n",
    "prepare.indicators(dfm)"
   ]
  },
  {
   "cell_type": "code",
   "execution_count": 24,
   "metadata": {},
   "outputs": [
    {
     "data": {
      "text/html": [
       "<div>\n",
       "<style scoped>\n",
       "    .dataframe tbody tr th:only-of-type {\n",
       "        vertical-align: middle;\n",
       "    }\n",
       "\n",
       "    .dataframe tbody tr th {\n",
       "        vertical-align: top;\n",
       "    }\n",
       "\n",
       "    .dataframe thead th {\n",
       "        text-align: right;\n",
       "    }\n",
       "</style>\n",
       "<table border=\"1\" class=\"dataframe\">\n",
       "  <thead>\n",
       "    <tr style=\"text-align: right;\">\n",
       "      <th></th>\n",
       "      <th>Close</th>\n",
       "      <th>Volume</th>\n",
       "      <th>close_DoD</th>\n",
       "      <th>vol_DoD</th>\n",
       "      <th>rolling_50C</th>\n",
       "      <th>rolling_200C</th>\n",
       "      <th>rolling_50V</th>\n",
       "      <th>rolling_200V</th>\n",
       "      <th>RSI7</th>\n",
       "      <th>RSI12</th>\n",
       "      <th>RSI26</th>\n",
       "      <th>EMA7</th>\n",
       "      <th>EMA12</th>\n",
       "      <th>EMA26</th>\n",
       "      <th>momentum-cross</th>\n",
       "    </tr>\n",
       "    <tr>\n",
       "      <th>Date</th>\n",
       "      <th></th>\n",
       "      <th></th>\n",
       "      <th></th>\n",
       "      <th></th>\n",
       "      <th></th>\n",
       "      <th></th>\n",
       "      <th></th>\n",
       "      <th></th>\n",
       "      <th></th>\n",
       "      <th></th>\n",
       "      <th></th>\n",
       "      <th></th>\n",
       "      <th></th>\n",
       "      <th></th>\n",
       "      <th></th>\n",
       "    </tr>\n",
       "  </thead>\n",
       "  <tbody>\n",
       "    <tr>\n",
       "      <th>2015-08-08</th>\n",
       "      <td>0.753325</td>\n",
       "      <td>674188.0</td>\n",
       "      <td>NaN</td>\n",
       "      <td>NaN</td>\n",
       "      <td>NaN</td>\n",
       "      <td>NaN</td>\n",
       "      <td>NaN</td>\n",
       "      <td>NaN</td>\n",
       "      <td>NaN</td>\n",
       "      <td>NaN</td>\n",
       "      <td>NaN</td>\n",
       "      <td>0.753325</td>\n",
       "      <td>0.753325</td>\n",
       "      <td>0.753325</td>\n",
       "      <td>NaN</td>\n",
       "    </tr>\n",
       "    <tr>\n",
       "      <th>2015-08-09</th>\n",
       "      <td>0.701897</td>\n",
       "      <td>532170.0</td>\n",
       "      <td>-0.07</td>\n",
       "      <td>-0.21</td>\n",
       "      <td>NaN</td>\n",
       "      <td>NaN</td>\n",
       "      <td>NaN</td>\n",
       "      <td>NaN</td>\n",
       "      <td>0.000000</td>\n",
       "      <td>0.000000</td>\n",
       "      <td>0.000000</td>\n",
       "      <td>0.740468</td>\n",
       "      <td>0.745413</td>\n",
       "      <td>0.749516</td>\n",
       "      <td>NaN</td>\n",
       "    </tr>\n",
       "    <tr>\n",
       "      <th>2015-08-10</th>\n",
       "      <td>0.708448</td>\n",
       "      <td>405283.0</td>\n",
       "      <td>0.01</td>\n",
       "      <td>-0.24</td>\n",
       "      <td>NaN</td>\n",
       "      <td>NaN</td>\n",
       "      <td>NaN</td>\n",
       "      <td>NaN</td>\n",
       "      <td>14.518417</td>\n",
       "      <td>13.084467</td>\n",
       "      <td>12.093517</td>\n",
       "      <td>0.732463</td>\n",
       "      <td>0.739726</td>\n",
       "      <td>0.746473</td>\n",
       "      <td>NaN</td>\n",
       "    </tr>\n",
       "    <tr>\n",
       "      <th>2015-08-11</th>\n",
       "      <td>1.067860</td>\n",
       "      <td>1463100.0</td>\n",
       "      <td>0.51</td>\n",
       "      <td>2.61</td>\n",
       "      <td>NaN</td>\n",
       "      <td>NaN</td>\n",
       "      <td>NaN</td>\n",
       "      <td>NaN</td>\n",
       "      <td>92.643867</td>\n",
       "      <td>90.835392</td>\n",
       "      <td>89.234726</td>\n",
       "      <td>0.816312</td>\n",
       "      <td>0.790208</td>\n",
       "      <td>0.770280</td>\n",
       "      <td>NaN</td>\n",
       "    </tr>\n",
       "    <tr>\n",
       "      <th>2015-08-12</th>\n",
       "      <td>1.217440</td>\n",
       "      <td>2150620.0</td>\n",
       "      <td>0.14</td>\n",
       "      <td>0.47</td>\n",
       "      <td>NaN</td>\n",
       "      <td>NaN</td>\n",
       "      <td>NaN</td>\n",
       "      <td>NaN</td>\n",
       "      <td>95.119189</td>\n",
       "      <td>93.635631</td>\n",
       "      <td>92.279805</td>\n",
       "      <td>0.916594</td>\n",
       "      <td>0.855936</td>\n",
       "      <td>0.803403</td>\n",
       "      <td>NaN</td>\n",
       "    </tr>\n",
       "  </tbody>\n",
       "</table>\n",
       "</div>"
      ],
      "text/plain": [
       "               Close     Volume  close_DoD  vol_DoD  rolling_50C  \\\n",
       "Date                                                               \n",
       "2015-08-08  0.753325   674188.0        NaN      NaN          NaN   \n",
       "2015-08-09  0.701897   532170.0      -0.07    -0.21          NaN   \n",
       "2015-08-10  0.708448   405283.0       0.01    -0.24          NaN   \n",
       "2015-08-11  1.067860  1463100.0       0.51     2.61          NaN   \n",
       "2015-08-12  1.217440  2150620.0       0.14     0.47          NaN   \n",
       "\n",
       "            rolling_200C  rolling_50V  rolling_200V       RSI7      RSI12  \\\n",
       "Date                                                                        \n",
       "2015-08-08           NaN          NaN           NaN        NaN        NaN   \n",
       "2015-08-09           NaN          NaN           NaN   0.000000   0.000000   \n",
       "2015-08-10           NaN          NaN           NaN  14.518417  13.084467   \n",
       "2015-08-11           NaN          NaN           NaN  92.643867  90.835392   \n",
       "2015-08-12           NaN          NaN           NaN  95.119189  93.635631   \n",
       "\n",
       "                RSI26      EMA7     EMA12     EMA26  momentum-cross  \n",
       "Date                                                                 \n",
       "2015-08-08        NaN  0.753325  0.753325  0.753325             NaN  \n",
       "2015-08-09   0.000000  0.740468  0.745413  0.749516             NaN  \n",
       "2015-08-10  12.093517  0.732463  0.739726  0.746473             NaN  \n",
       "2015-08-11  89.234726  0.816312  0.790208  0.770280             NaN  \n",
       "2015-08-12  92.279805  0.916594  0.855936  0.803403             NaN  "
      ]
     },
     "execution_count": 24,
     "metadata": {},
     "output_type": "execute_result"
    }
   ],
   "source": [
    "dfm.head()"
   ]
  },
  {
   "cell_type": "code",
   "execution_count": 25,
   "metadata": {},
   "outputs": [],
   "source": [
    "# Add Crossover indicator (rollling 50 vs rolling 200)\n",
    "dfm['momentum-cross'] = round(dfm.rolling_50C/dfm.rolling_200C, 2)"
   ]
  },
  {
   "cell_type": "code",
   "execution_count": 26,
   "metadata": {},
   "outputs": [
    {
     "data": {
      "text/html": [
       "<div>\n",
       "<style scoped>\n",
       "    .dataframe tbody tr th:only-of-type {\n",
       "        vertical-align: middle;\n",
       "    }\n",
       "\n",
       "    .dataframe tbody tr th {\n",
       "        vertical-align: top;\n",
       "    }\n",
       "\n",
       "    .dataframe thead th {\n",
       "        text-align: right;\n",
       "    }\n",
       "</style>\n",
       "<table border=\"1\" class=\"dataframe\">\n",
       "  <thead>\n",
       "    <tr style=\"text-align: right;\">\n",
       "      <th></th>\n",
       "      <th>Close</th>\n",
       "      <th>Volume</th>\n",
       "      <th>close_DoD</th>\n",
       "      <th>vol_DoD</th>\n",
       "      <th>rolling_50C</th>\n",
       "      <th>rolling_200C</th>\n",
       "      <th>rolling_50V</th>\n",
       "      <th>rolling_200V</th>\n",
       "      <th>RSI7</th>\n",
       "      <th>RSI12</th>\n",
       "      <th>RSI26</th>\n",
       "      <th>EMA7</th>\n",
       "      <th>EMA12</th>\n",
       "      <th>EMA26</th>\n",
       "      <th>momentum-cross</th>\n",
       "    </tr>\n",
       "    <tr>\n",
       "      <th>Date</th>\n",
       "      <th></th>\n",
       "      <th></th>\n",
       "      <th></th>\n",
       "      <th></th>\n",
       "      <th></th>\n",
       "      <th></th>\n",
       "      <th></th>\n",
       "      <th></th>\n",
       "      <th></th>\n",
       "      <th></th>\n",
       "      <th></th>\n",
       "      <th></th>\n",
       "      <th></th>\n",
       "      <th></th>\n",
       "      <th></th>\n",
       "    </tr>\n",
       "  </thead>\n",
       "  <tbody>\n",
       "    <tr>\n",
       "      <th>2021-05-23</th>\n",
       "      <td>2109.579834</td>\n",
       "      <td>5.600572e+10</td>\n",
       "      <td>-0.08</td>\n",
       "      <td>0.33</td>\n",
       "      <td>2787.276658</td>\n",
       "      <td>1582.527753</td>\n",
       "      <td>4.196180e+10</td>\n",
       "      <td>3.013594e+10</td>\n",
       "      <td>18.430450</td>\n",
       "      <td>24.147085</td>\n",
       "      <td>34.381818</td>\n",
       "      <td>2634.165140</td>\n",
       "      <td>2891.064501</td>\n",
       "      <td>3015.199330</td>\n",
       "      <td>1.76</td>\n",
       "    </tr>\n",
       "    <tr>\n",
       "      <th>2021-05-24</th>\n",
       "      <td>2643.591064</td>\n",
       "      <td>5.369712e+10</td>\n",
       "      <td>0.25</td>\n",
       "      <td>-0.04</td>\n",
       "      <td>2798.286023</td>\n",
       "      <td>1593.675372</td>\n",
       "      <td>4.251561e+10</td>\n",
       "      <td>3.032722e+10</td>\n",
       "      <td>50.345309</td>\n",
       "      <td>43.950537</td>\n",
       "      <td>44.588112</td>\n",
       "      <td>2636.521621</td>\n",
       "      <td>2852.991665</td>\n",
       "      <td>2987.672792</td>\n",
       "      <td>1.76</td>\n",
       "    </tr>\n",
       "    <tr>\n",
       "      <th>2021-05-25</th>\n",
       "      <td>2706.628906</td>\n",
       "      <td>4.955833e+10</td>\n",
       "      <td>0.02</td>\n",
       "      <td>-0.08</td>\n",
       "      <td>2810.260857</td>\n",
       "      <td>1604.934920</td>\n",
       "      <td>4.292899e+10</td>\n",
       "      <td>3.049132e+10</td>\n",
       "      <td>53.225765</td>\n",
       "      <td>45.920259</td>\n",
       "      <td>45.665553</td>\n",
       "      <td>2654.048442</td>\n",
       "      <td>2830.474317</td>\n",
       "      <td>2966.854726</td>\n",
       "      <td>1.75</td>\n",
       "    </tr>\n",
       "    <tr>\n",
       "      <th>2021-05-26</th>\n",
       "      <td>2888.698730</td>\n",
       "      <td>4.249977e+10</td>\n",
       "      <td>0.07</td>\n",
       "      <td>-0.14</td>\n",
       "      <td>2825.667253</td>\n",
       "      <td>1617.199848</td>\n",
       "      <td>4.319453e+10</td>\n",
       "      <td>3.060946e+10</td>\n",
       "      <td>61.766904</td>\n",
       "      <td>51.712604</td>\n",
       "      <td>48.772639</td>\n",
       "      <td>2712.711014</td>\n",
       "      <td>2839.431919</td>\n",
       "      <td>2961.065393</td>\n",
       "      <td>1.75</td>\n",
       "    </tr>\n",
       "    <tr>\n",
       "      <th>2021-05-27</th>\n",
       "      <td>2776.133057</td>\n",
       "      <td>3.456504e+10</td>\n",
       "      <td>-0.04</td>\n",
       "      <td>-0.19</td>\n",
       "      <td>2841.768369</td>\n",
       "      <td>1628.812739</td>\n",
       "      <td>4.316350e+10</td>\n",
       "      <td>3.072582e+10</td>\n",
       "      <td>53.685726</td>\n",
       "      <td>47.959319</td>\n",
       "      <td>46.978847</td>\n",
       "      <td>2728.566525</td>\n",
       "      <td>2829.693633</td>\n",
       "      <td>2947.366701</td>\n",
       "      <td>1.74</td>\n",
       "    </tr>\n",
       "  </tbody>\n",
       "</table>\n",
       "</div>"
      ],
      "text/plain": [
       "                  Close        Volume  close_DoD  vol_DoD  rolling_50C  \\\n",
       "Date                                                                     \n",
       "2021-05-23  2109.579834  5.600572e+10      -0.08     0.33  2787.276658   \n",
       "2021-05-24  2643.591064  5.369712e+10       0.25    -0.04  2798.286023   \n",
       "2021-05-25  2706.628906  4.955833e+10       0.02    -0.08  2810.260857   \n",
       "2021-05-26  2888.698730  4.249977e+10       0.07    -0.14  2825.667253   \n",
       "2021-05-27  2776.133057  3.456504e+10      -0.04    -0.19  2841.768369   \n",
       "\n",
       "            rolling_200C   rolling_50V  rolling_200V       RSI7      RSI12  \\\n",
       "Date                                                                         \n",
       "2021-05-23   1582.527753  4.196180e+10  3.013594e+10  18.430450  24.147085   \n",
       "2021-05-24   1593.675372  4.251561e+10  3.032722e+10  50.345309  43.950537   \n",
       "2021-05-25   1604.934920  4.292899e+10  3.049132e+10  53.225765  45.920259   \n",
       "2021-05-26   1617.199848  4.319453e+10  3.060946e+10  61.766904  51.712604   \n",
       "2021-05-27   1628.812739  4.316350e+10  3.072582e+10  53.685726  47.959319   \n",
       "\n",
       "                RSI26         EMA7        EMA12        EMA26  momentum-cross  \n",
       "Date                                                                          \n",
       "2021-05-23  34.381818  2634.165140  2891.064501  3015.199330            1.76  \n",
       "2021-05-24  44.588112  2636.521621  2852.991665  2987.672792            1.76  \n",
       "2021-05-25  45.665553  2654.048442  2830.474317  2966.854726            1.75  \n",
       "2021-05-26  48.772639  2712.711014  2839.431919  2961.065393            1.75  \n",
       "2021-05-27  46.978847  2728.566525  2829.693633  2947.366701            1.74  "
      ]
     },
     "execution_count": 26,
     "metadata": {},
     "output_type": "execute_result"
    }
   ],
   "source": [
    "dfm.tail()"
   ]
  },
  {
   "cell_type": "code",
   "execution_count": 27,
   "metadata": {},
   "outputs": [],
   "source": [
    "# Add On Balance Volume indicator\n",
    "def obv(df):  \n",
    "    obv = (np.sign(df['Close'].diff()) * df['Volume']).fillna(0).cumsum()\n",
    "    df['OBV'] = round(obv, 0)\n",
    "    return df"
   ]
  },
  {
   "cell_type": "code",
   "execution_count": 28,
   "metadata": {},
   "outputs": [
    {
     "data": {
      "text/html": [
       "<div>\n",
       "<style scoped>\n",
       "    .dataframe tbody tr th:only-of-type {\n",
       "        vertical-align: middle;\n",
       "    }\n",
       "\n",
       "    .dataframe tbody tr th {\n",
       "        vertical-align: top;\n",
       "    }\n",
       "\n",
       "    .dataframe thead th {\n",
       "        text-align: right;\n",
       "    }\n",
       "</style>\n",
       "<table border=\"1\" class=\"dataframe\">\n",
       "  <thead>\n",
       "    <tr style=\"text-align: right;\">\n",
       "      <th></th>\n",
       "      <th>Close</th>\n",
       "      <th>Volume</th>\n",
       "      <th>close_DoD</th>\n",
       "      <th>vol_DoD</th>\n",
       "      <th>rolling_50C</th>\n",
       "      <th>rolling_200C</th>\n",
       "      <th>rolling_50V</th>\n",
       "      <th>rolling_200V</th>\n",
       "      <th>RSI7</th>\n",
       "      <th>RSI12</th>\n",
       "      <th>RSI26</th>\n",
       "      <th>EMA7</th>\n",
       "      <th>EMA12</th>\n",
       "      <th>EMA26</th>\n",
       "      <th>momentum-cross</th>\n",
       "      <th>OBV</th>\n",
       "    </tr>\n",
       "    <tr>\n",
       "      <th>Date</th>\n",
       "      <th></th>\n",
       "      <th></th>\n",
       "      <th></th>\n",
       "      <th></th>\n",
       "      <th></th>\n",
       "      <th></th>\n",
       "      <th></th>\n",
       "      <th></th>\n",
       "      <th></th>\n",
       "      <th></th>\n",
       "      <th></th>\n",
       "      <th></th>\n",
       "      <th></th>\n",
       "      <th></th>\n",
       "      <th></th>\n",
       "      <th></th>\n",
       "    </tr>\n",
       "  </thead>\n",
       "  <tbody>\n",
       "    <tr>\n",
       "      <th>2015-08-08</th>\n",
       "      <td>0.753325</td>\n",
       "      <td>6.741880e+05</td>\n",
       "      <td>NaN</td>\n",
       "      <td>NaN</td>\n",
       "      <td>NaN</td>\n",
       "      <td>NaN</td>\n",
       "      <td>NaN</td>\n",
       "      <td>NaN</td>\n",
       "      <td>NaN</td>\n",
       "      <td>NaN</td>\n",
       "      <td>NaN</td>\n",
       "      <td>0.753325</td>\n",
       "      <td>0.753325</td>\n",
       "      <td>0.753325</td>\n",
       "      <td>NaN</td>\n",
       "      <td>0.000000e+00</td>\n",
       "    </tr>\n",
       "    <tr>\n",
       "      <th>2015-08-09</th>\n",
       "      <td>0.701897</td>\n",
       "      <td>5.321700e+05</td>\n",
       "      <td>-0.07</td>\n",
       "      <td>-0.21</td>\n",
       "      <td>NaN</td>\n",
       "      <td>NaN</td>\n",
       "      <td>NaN</td>\n",
       "      <td>NaN</td>\n",
       "      <td>0.000000</td>\n",
       "      <td>0.000000</td>\n",
       "      <td>0.000000</td>\n",
       "      <td>0.740468</td>\n",
       "      <td>0.745413</td>\n",
       "      <td>0.749516</td>\n",
       "      <td>NaN</td>\n",
       "      <td>-5.321700e+05</td>\n",
       "    </tr>\n",
       "    <tr>\n",
       "      <th>2015-08-10</th>\n",
       "      <td>0.708448</td>\n",
       "      <td>4.052830e+05</td>\n",
       "      <td>0.01</td>\n",
       "      <td>-0.24</td>\n",
       "      <td>NaN</td>\n",
       "      <td>NaN</td>\n",
       "      <td>NaN</td>\n",
       "      <td>NaN</td>\n",
       "      <td>14.518417</td>\n",
       "      <td>13.084467</td>\n",
       "      <td>12.093517</td>\n",
       "      <td>0.732463</td>\n",
       "      <td>0.739726</td>\n",
       "      <td>0.746473</td>\n",
       "      <td>NaN</td>\n",
       "      <td>-1.268870e+05</td>\n",
       "    </tr>\n",
       "    <tr>\n",
       "      <th>2015-08-11</th>\n",
       "      <td>1.067860</td>\n",
       "      <td>1.463100e+06</td>\n",
       "      <td>0.51</td>\n",
       "      <td>2.61</td>\n",
       "      <td>NaN</td>\n",
       "      <td>NaN</td>\n",
       "      <td>NaN</td>\n",
       "      <td>NaN</td>\n",
       "      <td>92.643867</td>\n",
       "      <td>90.835392</td>\n",
       "      <td>89.234726</td>\n",
       "      <td>0.816312</td>\n",
       "      <td>0.790208</td>\n",
       "      <td>0.770280</td>\n",
       "      <td>NaN</td>\n",
       "      <td>1.336213e+06</td>\n",
       "    </tr>\n",
       "    <tr>\n",
       "      <th>2015-08-12</th>\n",
       "      <td>1.217440</td>\n",
       "      <td>2.150620e+06</td>\n",
       "      <td>0.14</td>\n",
       "      <td>0.47</td>\n",
       "      <td>NaN</td>\n",
       "      <td>NaN</td>\n",
       "      <td>NaN</td>\n",
       "      <td>NaN</td>\n",
       "      <td>95.119189</td>\n",
       "      <td>93.635631</td>\n",
       "      <td>92.279805</td>\n",
       "      <td>0.916594</td>\n",
       "      <td>0.855936</td>\n",
       "      <td>0.803403</td>\n",
       "      <td>NaN</td>\n",
       "      <td>3.486833e+06</td>\n",
       "    </tr>\n",
       "    <tr>\n",
       "      <th>...</th>\n",
       "      <td>...</td>\n",
       "      <td>...</td>\n",
       "      <td>...</td>\n",
       "      <td>...</td>\n",
       "      <td>...</td>\n",
       "      <td>...</td>\n",
       "      <td>...</td>\n",
       "      <td>...</td>\n",
       "      <td>...</td>\n",
       "      <td>...</td>\n",
       "      <td>...</td>\n",
       "      <td>...</td>\n",
       "      <td>...</td>\n",
       "      <td>...</td>\n",
       "      <td>...</td>\n",
       "      <td>...</td>\n",
       "    </tr>\n",
       "    <tr>\n",
       "      <th>2021-05-23</th>\n",
       "      <td>2109.579834</td>\n",
       "      <td>5.600572e+10</td>\n",
       "      <td>-0.08</td>\n",
       "      <td>0.33</td>\n",
       "      <td>2787.276658</td>\n",
       "      <td>1582.527753</td>\n",
       "      <td>4.196180e+10</td>\n",
       "      <td>3.013594e+10</td>\n",
       "      <td>18.430450</td>\n",
       "      <td>24.147085</td>\n",
       "      <td>34.381818</td>\n",
       "      <td>2634.165140</td>\n",
       "      <td>2891.064501</td>\n",
       "      <td>3015.199330</td>\n",
       "      <td>1.76</td>\n",
       "      <td>1.403957e+12</td>\n",
       "    </tr>\n",
       "    <tr>\n",
       "      <th>2021-05-24</th>\n",
       "      <td>2643.591064</td>\n",
       "      <td>5.369712e+10</td>\n",
       "      <td>0.25</td>\n",
       "      <td>-0.04</td>\n",
       "      <td>2798.286023</td>\n",
       "      <td>1593.675372</td>\n",
       "      <td>4.251561e+10</td>\n",
       "      <td>3.032722e+10</td>\n",
       "      <td>50.345309</td>\n",
       "      <td>43.950537</td>\n",
       "      <td>44.588112</td>\n",
       "      <td>2636.521621</td>\n",
       "      <td>2852.991665</td>\n",
       "      <td>2987.672792</td>\n",
       "      <td>1.76</td>\n",
       "      <td>1.457654e+12</td>\n",
       "    </tr>\n",
       "    <tr>\n",
       "      <th>2021-05-25</th>\n",
       "      <td>2706.628906</td>\n",
       "      <td>4.955833e+10</td>\n",
       "      <td>0.02</td>\n",
       "      <td>-0.08</td>\n",
       "      <td>2810.260857</td>\n",
       "      <td>1604.934920</td>\n",
       "      <td>4.292899e+10</td>\n",
       "      <td>3.049132e+10</td>\n",
       "      <td>53.225765</td>\n",
       "      <td>45.920259</td>\n",
       "      <td>45.665553</td>\n",
       "      <td>2654.048442</td>\n",
       "      <td>2830.474317</td>\n",
       "      <td>2966.854726</td>\n",
       "      <td>1.75</td>\n",
       "      <td>1.507212e+12</td>\n",
       "    </tr>\n",
       "    <tr>\n",
       "      <th>2021-05-26</th>\n",
       "      <td>2888.698730</td>\n",
       "      <td>4.249977e+10</td>\n",
       "      <td>0.07</td>\n",
       "      <td>-0.14</td>\n",
       "      <td>2825.667253</td>\n",
       "      <td>1617.199848</td>\n",
       "      <td>4.319453e+10</td>\n",
       "      <td>3.060946e+10</td>\n",
       "      <td>61.766904</td>\n",
       "      <td>51.712604</td>\n",
       "      <td>48.772639</td>\n",
       "      <td>2712.711014</td>\n",
       "      <td>2839.431919</td>\n",
       "      <td>2961.065393</td>\n",
       "      <td>1.75</td>\n",
       "      <td>1.549712e+12</td>\n",
       "    </tr>\n",
       "    <tr>\n",
       "      <th>2021-05-27</th>\n",
       "      <td>2776.133057</td>\n",
       "      <td>3.456504e+10</td>\n",
       "      <td>-0.04</td>\n",
       "      <td>-0.19</td>\n",
       "      <td>2841.768369</td>\n",
       "      <td>1628.812739</td>\n",
       "      <td>4.316350e+10</td>\n",
       "      <td>3.072582e+10</td>\n",
       "      <td>53.685726</td>\n",
       "      <td>47.959319</td>\n",
       "      <td>46.978847</td>\n",
       "      <td>2728.566525</td>\n",
       "      <td>2829.693633</td>\n",
       "      <td>2947.366701</td>\n",
       "      <td>1.74</td>\n",
       "      <td>1.515147e+12</td>\n",
       "    </tr>\n",
       "  </tbody>\n",
       "</table>\n",
       "<p>2120 rows × 16 columns</p>\n",
       "</div>"
      ],
      "text/plain": [
       "                  Close        Volume  close_DoD  vol_DoD  rolling_50C  \\\n",
       "Date                                                                     \n",
       "2015-08-08     0.753325  6.741880e+05        NaN      NaN          NaN   \n",
       "2015-08-09     0.701897  5.321700e+05      -0.07    -0.21          NaN   \n",
       "2015-08-10     0.708448  4.052830e+05       0.01    -0.24          NaN   \n",
       "2015-08-11     1.067860  1.463100e+06       0.51     2.61          NaN   \n",
       "2015-08-12     1.217440  2.150620e+06       0.14     0.47          NaN   \n",
       "...                 ...           ...        ...      ...          ...   \n",
       "2021-05-23  2109.579834  5.600572e+10      -0.08     0.33  2787.276658   \n",
       "2021-05-24  2643.591064  5.369712e+10       0.25    -0.04  2798.286023   \n",
       "2021-05-25  2706.628906  4.955833e+10       0.02    -0.08  2810.260857   \n",
       "2021-05-26  2888.698730  4.249977e+10       0.07    -0.14  2825.667253   \n",
       "2021-05-27  2776.133057  3.456504e+10      -0.04    -0.19  2841.768369   \n",
       "\n",
       "            rolling_200C   rolling_50V  rolling_200V       RSI7      RSI12  \\\n",
       "Date                                                                         \n",
       "2015-08-08           NaN           NaN           NaN        NaN        NaN   \n",
       "2015-08-09           NaN           NaN           NaN   0.000000   0.000000   \n",
       "2015-08-10           NaN           NaN           NaN  14.518417  13.084467   \n",
       "2015-08-11           NaN           NaN           NaN  92.643867  90.835392   \n",
       "2015-08-12           NaN           NaN           NaN  95.119189  93.635631   \n",
       "...                  ...           ...           ...        ...        ...   \n",
       "2021-05-23   1582.527753  4.196180e+10  3.013594e+10  18.430450  24.147085   \n",
       "2021-05-24   1593.675372  4.251561e+10  3.032722e+10  50.345309  43.950537   \n",
       "2021-05-25   1604.934920  4.292899e+10  3.049132e+10  53.225765  45.920259   \n",
       "2021-05-26   1617.199848  4.319453e+10  3.060946e+10  61.766904  51.712604   \n",
       "2021-05-27   1628.812739  4.316350e+10  3.072582e+10  53.685726  47.959319   \n",
       "\n",
       "                RSI26         EMA7        EMA12        EMA26  momentum-cross  \\\n",
       "Date                                                                           \n",
       "2015-08-08        NaN     0.753325     0.753325     0.753325             NaN   \n",
       "2015-08-09   0.000000     0.740468     0.745413     0.749516             NaN   \n",
       "2015-08-10  12.093517     0.732463     0.739726     0.746473             NaN   \n",
       "2015-08-11  89.234726     0.816312     0.790208     0.770280             NaN   \n",
       "2015-08-12  92.279805     0.916594     0.855936     0.803403             NaN   \n",
       "...               ...          ...          ...          ...             ...   \n",
       "2021-05-23  34.381818  2634.165140  2891.064501  3015.199330            1.76   \n",
       "2021-05-24  44.588112  2636.521621  2852.991665  2987.672792            1.76   \n",
       "2021-05-25  45.665553  2654.048442  2830.474317  2966.854726            1.75   \n",
       "2021-05-26  48.772639  2712.711014  2839.431919  2961.065393            1.75   \n",
       "2021-05-27  46.978847  2728.566525  2829.693633  2947.366701            1.74   \n",
       "\n",
       "                     OBV  \n",
       "Date                      \n",
       "2015-08-08  0.000000e+00  \n",
       "2015-08-09 -5.321700e+05  \n",
       "2015-08-10 -1.268870e+05  \n",
       "2015-08-11  1.336213e+06  \n",
       "2015-08-12  3.486833e+06  \n",
       "...                  ...  \n",
       "2021-05-23  1.403957e+12  \n",
       "2021-05-24  1.457654e+12  \n",
       "2021-05-25  1.507212e+12  \n",
       "2021-05-26  1.549712e+12  \n",
       "2021-05-27  1.515147e+12  \n",
       "\n",
       "[2120 rows x 16 columns]"
      ]
     },
     "execution_count": 28,
     "metadata": {},
     "output_type": "execute_result"
    }
   ],
   "source": [
    "# Execute obv function:\n",
    "prepare.obv(dfm)"
   ]
  },
  {
   "cell_type": "code",
   "execution_count": 29,
   "metadata": {},
   "outputs": [
    {
     "data": {
      "text/html": [
       "<div>\n",
       "<style scoped>\n",
       "    .dataframe tbody tr th:only-of-type {\n",
       "        vertical-align: middle;\n",
       "    }\n",
       "\n",
       "    .dataframe tbody tr th {\n",
       "        vertical-align: top;\n",
       "    }\n",
       "\n",
       "    .dataframe thead th {\n",
       "        text-align: right;\n",
       "    }\n",
       "</style>\n",
       "<table border=\"1\" class=\"dataframe\">\n",
       "  <thead>\n",
       "    <tr style=\"text-align: right;\">\n",
       "      <th></th>\n",
       "      <th>Close</th>\n",
       "      <th>Volume</th>\n",
       "      <th>close_DoD</th>\n",
       "      <th>vol_DoD</th>\n",
       "      <th>rolling_50C</th>\n",
       "      <th>rolling_200C</th>\n",
       "      <th>rolling_50V</th>\n",
       "      <th>rolling_200V</th>\n",
       "      <th>RSI7</th>\n",
       "      <th>RSI12</th>\n",
       "      <th>RSI26</th>\n",
       "      <th>EMA7</th>\n",
       "      <th>EMA12</th>\n",
       "      <th>EMA26</th>\n",
       "      <th>momentum-cross</th>\n",
       "      <th>OBV</th>\n",
       "    </tr>\n",
       "    <tr>\n",
       "      <th>Date</th>\n",
       "      <th></th>\n",
       "      <th></th>\n",
       "      <th></th>\n",
       "      <th></th>\n",
       "      <th></th>\n",
       "      <th></th>\n",
       "      <th></th>\n",
       "      <th></th>\n",
       "      <th></th>\n",
       "      <th></th>\n",
       "      <th></th>\n",
       "      <th></th>\n",
       "      <th></th>\n",
       "      <th></th>\n",
       "      <th></th>\n",
       "      <th></th>\n",
       "    </tr>\n",
       "  </thead>\n",
       "  <tbody>\n",
       "    <tr>\n",
       "      <th>2015-08-08</th>\n",
       "      <td>0.753325</td>\n",
       "      <td>674188.0</td>\n",
       "      <td>NaN</td>\n",
       "      <td>NaN</td>\n",
       "      <td>NaN</td>\n",
       "      <td>NaN</td>\n",
       "      <td>NaN</td>\n",
       "      <td>NaN</td>\n",
       "      <td>NaN</td>\n",
       "      <td>NaN</td>\n",
       "      <td>NaN</td>\n",
       "      <td>0.753325</td>\n",
       "      <td>0.753325</td>\n",
       "      <td>0.753325</td>\n",
       "      <td>NaN</td>\n",
       "      <td>0.0</td>\n",
       "    </tr>\n",
       "    <tr>\n",
       "      <th>2015-08-09</th>\n",
       "      <td>0.701897</td>\n",
       "      <td>532170.0</td>\n",
       "      <td>-0.07</td>\n",
       "      <td>-0.21</td>\n",
       "      <td>NaN</td>\n",
       "      <td>NaN</td>\n",
       "      <td>NaN</td>\n",
       "      <td>NaN</td>\n",
       "      <td>0.000000</td>\n",
       "      <td>0.000000</td>\n",
       "      <td>0.000000</td>\n",
       "      <td>0.740468</td>\n",
       "      <td>0.745413</td>\n",
       "      <td>0.749516</td>\n",
       "      <td>NaN</td>\n",
       "      <td>-532170.0</td>\n",
       "    </tr>\n",
       "    <tr>\n",
       "      <th>2015-08-10</th>\n",
       "      <td>0.708448</td>\n",
       "      <td>405283.0</td>\n",
       "      <td>0.01</td>\n",
       "      <td>-0.24</td>\n",
       "      <td>NaN</td>\n",
       "      <td>NaN</td>\n",
       "      <td>NaN</td>\n",
       "      <td>NaN</td>\n",
       "      <td>14.518417</td>\n",
       "      <td>13.084467</td>\n",
       "      <td>12.093517</td>\n",
       "      <td>0.732463</td>\n",
       "      <td>0.739726</td>\n",
       "      <td>0.746473</td>\n",
       "      <td>NaN</td>\n",
       "      <td>-126887.0</td>\n",
       "    </tr>\n",
       "    <tr>\n",
       "      <th>2015-08-11</th>\n",
       "      <td>1.067860</td>\n",
       "      <td>1463100.0</td>\n",
       "      <td>0.51</td>\n",
       "      <td>2.61</td>\n",
       "      <td>NaN</td>\n",
       "      <td>NaN</td>\n",
       "      <td>NaN</td>\n",
       "      <td>NaN</td>\n",
       "      <td>92.643867</td>\n",
       "      <td>90.835392</td>\n",
       "      <td>89.234726</td>\n",
       "      <td>0.816312</td>\n",
       "      <td>0.790208</td>\n",
       "      <td>0.770280</td>\n",
       "      <td>NaN</td>\n",
       "      <td>1336213.0</td>\n",
       "    </tr>\n",
       "    <tr>\n",
       "      <th>2015-08-12</th>\n",
       "      <td>1.217440</td>\n",
       "      <td>2150620.0</td>\n",
       "      <td>0.14</td>\n",
       "      <td>0.47</td>\n",
       "      <td>NaN</td>\n",
       "      <td>NaN</td>\n",
       "      <td>NaN</td>\n",
       "      <td>NaN</td>\n",
       "      <td>95.119189</td>\n",
       "      <td>93.635631</td>\n",
       "      <td>92.279805</td>\n",
       "      <td>0.916594</td>\n",
       "      <td>0.855936</td>\n",
       "      <td>0.803403</td>\n",
       "      <td>NaN</td>\n",
       "      <td>3486833.0</td>\n",
       "    </tr>\n",
       "  </tbody>\n",
       "</table>\n",
       "</div>"
      ],
      "text/plain": [
       "               Close     Volume  close_DoD  vol_DoD  rolling_50C  \\\n",
       "Date                                                               \n",
       "2015-08-08  0.753325   674188.0        NaN      NaN          NaN   \n",
       "2015-08-09  0.701897   532170.0      -0.07    -0.21          NaN   \n",
       "2015-08-10  0.708448   405283.0       0.01    -0.24          NaN   \n",
       "2015-08-11  1.067860  1463100.0       0.51     2.61          NaN   \n",
       "2015-08-12  1.217440  2150620.0       0.14     0.47          NaN   \n",
       "\n",
       "            rolling_200C  rolling_50V  rolling_200V       RSI7      RSI12  \\\n",
       "Date                                                                        \n",
       "2015-08-08           NaN          NaN           NaN        NaN        NaN   \n",
       "2015-08-09           NaN          NaN           NaN   0.000000   0.000000   \n",
       "2015-08-10           NaN          NaN           NaN  14.518417  13.084467   \n",
       "2015-08-11           NaN          NaN           NaN  92.643867  90.835392   \n",
       "2015-08-12           NaN          NaN           NaN  95.119189  93.635631   \n",
       "\n",
       "                RSI26      EMA7     EMA12     EMA26  momentum-cross        OBV  \n",
       "Date                                                                            \n",
       "2015-08-08        NaN  0.753325  0.753325  0.753325             NaN        0.0  \n",
       "2015-08-09   0.000000  0.740468  0.745413  0.749516             NaN  -532170.0  \n",
       "2015-08-10  12.093517  0.732463  0.739726  0.746473             NaN  -126887.0  \n",
       "2015-08-11  89.234726  0.816312  0.790208  0.770280             NaN  1336213.0  \n",
       "2015-08-12  92.279805  0.916594  0.855936  0.803403             NaN  3486833.0  "
      ]
     },
     "execution_count": 29,
     "metadata": {},
     "output_type": "execute_result"
    }
   ],
   "source": [
    "dfm.head()"
   ]
  },
  {
   "cell_type": "code",
   "execution_count": 30,
   "metadata": {},
   "outputs": [],
   "source": [
    "# Calculate Moving Average Convergence/Divergence\n",
    "exp1 = dfm.Close.ewm(span=12, adjust=False).mean()\n",
    "exp2 = dfm.Close.ewm(span=26, adjust=False).mean()\n",
    "dfm['macd'] = exp1 - exp2"
   ]
  },
  {
   "cell_type": "raw",
   "metadata": {},
   "source": [
    "def macd(df):\n",
    "    exp1 = df.Close.ewm(span=12, adjust=False).mean()\n",
    "    exp2 = df.Close.ewm(span=26, adjust=False).mean()\n",
    "    df['macd'] = exp1 - exp2\n",
    "    return df"
   ]
  },
  {
   "cell_type": "code",
   "execution_count": 31,
   "metadata": {},
   "outputs": [
    {
     "data": {
      "text/html": [
       "<div>\n",
       "<style scoped>\n",
       "    .dataframe tbody tr th:only-of-type {\n",
       "        vertical-align: middle;\n",
       "    }\n",
       "\n",
       "    .dataframe tbody tr th {\n",
       "        vertical-align: top;\n",
       "    }\n",
       "\n",
       "    .dataframe thead th {\n",
       "        text-align: right;\n",
       "    }\n",
       "</style>\n",
       "<table border=\"1\" class=\"dataframe\">\n",
       "  <thead>\n",
       "    <tr style=\"text-align: right;\">\n",
       "      <th></th>\n",
       "      <th>Close</th>\n",
       "      <th>Volume</th>\n",
       "      <th>close_DoD</th>\n",
       "      <th>vol_DoD</th>\n",
       "      <th>rolling_50C</th>\n",
       "      <th>rolling_200C</th>\n",
       "      <th>rolling_50V</th>\n",
       "      <th>rolling_200V</th>\n",
       "      <th>RSI7</th>\n",
       "      <th>RSI12</th>\n",
       "      <th>RSI26</th>\n",
       "      <th>EMA7</th>\n",
       "      <th>EMA12</th>\n",
       "      <th>EMA26</th>\n",
       "      <th>momentum-cross</th>\n",
       "      <th>OBV</th>\n",
       "      <th>macd</th>\n",
       "    </tr>\n",
       "    <tr>\n",
       "      <th>Date</th>\n",
       "      <th></th>\n",
       "      <th></th>\n",
       "      <th></th>\n",
       "      <th></th>\n",
       "      <th></th>\n",
       "      <th></th>\n",
       "      <th></th>\n",
       "      <th></th>\n",
       "      <th></th>\n",
       "      <th></th>\n",
       "      <th></th>\n",
       "      <th></th>\n",
       "      <th></th>\n",
       "      <th></th>\n",
       "      <th></th>\n",
       "      <th></th>\n",
       "      <th></th>\n",
       "    </tr>\n",
       "  </thead>\n",
       "  <tbody>\n",
       "    <tr>\n",
       "      <th>2015-08-08</th>\n",
       "      <td>0.753325</td>\n",
       "      <td>674188.0</td>\n",
       "      <td>NaN</td>\n",
       "      <td>NaN</td>\n",
       "      <td>NaN</td>\n",
       "      <td>NaN</td>\n",
       "      <td>NaN</td>\n",
       "      <td>NaN</td>\n",
       "      <td>NaN</td>\n",
       "      <td>NaN</td>\n",
       "      <td>NaN</td>\n",
       "      <td>0.753325</td>\n",
       "      <td>0.753325</td>\n",
       "      <td>0.753325</td>\n",
       "      <td>NaN</td>\n",
       "      <td>0.0</td>\n",
       "      <td>0.000000</td>\n",
       "    </tr>\n",
       "    <tr>\n",
       "      <th>2015-08-09</th>\n",
       "      <td>0.701897</td>\n",
       "      <td>532170.0</td>\n",
       "      <td>-0.07</td>\n",
       "      <td>-0.21</td>\n",
       "      <td>NaN</td>\n",
       "      <td>NaN</td>\n",
       "      <td>NaN</td>\n",
       "      <td>NaN</td>\n",
       "      <td>0.000000</td>\n",
       "      <td>0.000000</td>\n",
       "      <td>0.000000</td>\n",
       "      <td>0.740468</td>\n",
       "      <td>0.745413</td>\n",
       "      <td>0.749516</td>\n",
       "      <td>NaN</td>\n",
       "      <td>-532170.0</td>\n",
       "      <td>-0.004103</td>\n",
       "    </tr>\n",
       "    <tr>\n",
       "      <th>2015-08-10</th>\n",
       "      <td>0.708448</td>\n",
       "      <td>405283.0</td>\n",
       "      <td>0.01</td>\n",
       "      <td>-0.24</td>\n",
       "      <td>NaN</td>\n",
       "      <td>NaN</td>\n",
       "      <td>NaN</td>\n",
       "      <td>NaN</td>\n",
       "      <td>14.518417</td>\n",
       "      <td>13.084467</td>\n",
       "      <td>12.093517</td>\n",
       "      <td>0.732463</td>\n",
       "      <td>0.739726</td>\n",
       "      <td>0.746473</td>\n",
       "      <td>NaN</td>\n",
       "      <td>-126887.0</td>\n",
       "      <td>-0.006747</td>\n",
       "    </tr>\n",
       "    <tr>\n",
       "      <th>2015-08-11</th>\n",
       "      <td>1.067860</td>\n",
       "      <td>1463100.0</td>\n",
       "      <td>0.51</td>\n",
       "      <td>2.61</td>\n",
       "      <td>NaN</td>\n",
       "      <td>NaN</td>\n",
       "      <td>NaN</td>\n",
       "      <td>NaN</td>\n",
       "      <td>92.643867</td>\n",
       "      <td>90.835392</td>\n",
       "      <td>89.234726</td>\n",
       "      <td>0.816312</td>\n",
       "      <td>0.790208</td>\n",
       "      <td>0.770280</td>\n",
       "      <td>NaN</td>\n",
       "      <td>1336213.0</td>\n",
       "      <td>0.019928</td>\n",
       "    </tr>\n",
       "    <tr>\n",
       "      <th>2015-08-12</th>\n",
       "      <td>1.217440</td>\n",
       "      <td>2150620.0</td>\n",
       "      <td>0.14</td>\n",
       "      <td>0.47</td>\n",
       "      <td>NaN</td>\n",
       "      <td>NaN</td>\n",
       "      <td>NaN</td>\n",
       "      <td>NaN</td>\n",
       "      <td>95.119189</td>\n",
       "      <td>93.635631</td>\n",
       "      <td>92.279805</td>\n",
       "      <td>0.916594</td>\n",
       "      <td>0.855936</td>\n",
       "      <td>0.803403</td>\n",
       "      <td>NaN</td>\n",
       "      <td>3486833.0</td>\n",
       "      <td>0.052533</td>\n",
       "    </tr>\n",
       "  </tbody>\n",
       "</table>\n",
       "</div>"
      ],
      "text/plain": [
       "               Close     Volume  close_DoD  vol_DoD  rolling_50C  \\\n",
       "Date                                                               \n",
       "2015-08-08  0.753325   674188.0        NaN      NaN          NaN   \n",
       "2015-08-09  0.701897   532170.0      -0.07    -0.21          NaN   \n",
       "2015-08-10  0.708448   405283.0       0.01    -0.24          NaN   \n",
       "2015-08-11  1.067860  1463100.0       0.51     2.61          NaN   \n",
       "2015-08-12  1.217440  2150620.0       0.14     0.47          NaN   \n",
       "\n",
       "            rolling_200C  rolling_50V  rolling_200V       RSI7      RSI12  \\\n",
       "Date                                                                        \n",
       "2015-08-08           NaN          NaN           NaN        NaN        NaN   \n",
       "2015-08-09           NaN          NaN           NaN   0.000000   0.000000   \n",
       "2015-08-10           NaN          NaN           NaN  14.518417  13.084467   \n",
       "2015-08-11           NaN          NaN           NaN  92.643867  90.835392   \n",
       "2015-08-12           NaN          NaN           NaN  95.119189  93.635631   \n",
       "\n",
       "                RSI26      EMA7     EMA12     EMA26  momentum-cross  \\\n",
       "Date                                                                  \n",
       "2015-08-08        NaN  0.753325  0.753325  0.753325             NaN   \n",
       "2015-08-09   0.000000  0.740468  0.745413  0.749516             NaN   \n",
       "2015-08-10  12.093517  0.732463  0.739726  0.746473             NaN   \n",
       "2015-08-11  89.234726  0.816312  0.790208  0.770280             NaN   \n",
       "2015-08-12  92.279805  0.916594  0.855936  0.803403             NaN   \n",
       "\n",
       "                  OBV      macd  \n",
       "Date                             \n",
       "2015-08-08        0.0  0.000000  \n",
       "2015-08-09  -532170.0 -0.004103  \n",
       "2015-08-10  -126887.0 -0.006747  \n",
       "2015-08-11  1336213.0  0.019928  \n",
       "2015-08-12  3486833.0  0.052533  "
      ]
     },
     "execution_count": 31,
     "metadata": {},
     "output_type": "execute_result"
    }
   ],
   "source": [
    "dfm.head()"
   ]
  },
  {
   "cell_type": "markdown",
   "metadata": {},
   "source": [
    "#### Create the target variable.  In this case, we are going look forward one day and determine whether the Close is higher or lower for our model to reference against the current observations"
   ]
  },
  {
   "cell_type": "code",
   "execution_count": 32,
   "metadata": {},
   "outputs": [],
   "source": [
    "# Calculate and add Target +/- column\n",
    "dfm['up_down'] = np.where(dfm.Close.shift(-1) > dfm.Close, 1, 0) "
   ]
  },
  {
   "cell_type": "raw",
   "metadata": {},
   "source": [
    "def target(df):\n",
    "    df['up_down'] = np.where(df.Close.shift(-1) > df.Close, 1, 0) \n",
    "    return df"
   ]
  },
  {
   "cell_type": "code",
   "execution_count": 33,
   "metadata": {},
   "outputs": [
    {
     "data": {
      "text/html": [
       "<div>\n",
       "<style scoped>\n",
       "    .dataframe tbody tr th:only-of-type {\n",
       "        vertical-align: middle;\n",
       "    }\n",
       "\n",
       "    .dataframe tbody tr th {\n",
       "        vertical-align: top;\n",
       "    }\n",
       "\n",
       "    .dataframe thead th {\n",
       "        text-align: right;\n",
       "    }\n",
       "</style>\n",
       "<table border=\"1\" class=\"dataframe\">\n",
       "  <thead>\n",
       "    <tr style=\"text-align: right;\">\n",
       "      <th></th>\n",
       "      <th>Close</th>\n",
       "      <th>Volume</th>\n",
       "      <th>close_DoD</th>\n",
       "      <th>vol_DoD</th>\n",
       "      <th>rolling_50C</th>\n",
       "      <th>rolling_200C</th>\n",
       "      <th>rolling_50V</th>\n",
       "      <th>rolling_200V</th>\n",
       "      <th>RSI7</th>\n",
       "      <th>RSI12</th>\n",
       "      <th>RSI26</th>\n",
       "      <th>EMA7</th>\n",
       "      <th>EMA12</th>\n",
       "      <th>EMA26</th>\n",
       "      <th>momentum-cross</th>\n",
       "      <th>OBV</th>\n",
       "      <th>macd</th>\n",
       "      <th>up_down</th>\n",
       "    </tr>\n",
       "    <tr>\n",
       "      <th>Date</th>\n",
       "      <th></th>\n",
       "      <th></th>\n",
       "      <th></th>\n",
       "      <th></th>\n",
       "      <th></th>\n",
       "      <th></th>\n",
       "      <th></th>\n",
       "      <th></th>\n",
       "      <th></th>\n",
       "      <th></th>\n",
       "      <th></th>\n",
       "      <th></th>\n",
       "      <th></th>\n",
       "      <th></th>\n",
       "      <th></th>\n",
       "      <th></th>\n",
       "      <th></th>\n",
       "      <th></th>\n",
       "    </tr>\n",
       "  </thead>\n",
       "  <tbody>\n",
       "    <tr>\n",
       "      <th>2015-08-08</th>\n",
       "      <td>0.753325</td>\n",
       "      <td>674188.0</td>\n",
       "      <td>NaN</td>\n",
       "      <td>NaN</td>\n",
       "      <td>NaN</td>\n",
       "      <td>NaN</td>\n",
       "      <td>NaN</td>\n",
       "      <td>NaN</td>\n",
       "      <td>NaN</td>\n",
       "      <td>NaN</td>\n",
       "      <td>NaN</td>\n",
       "      <td>0.753325</td>\n",
       "      <td>0.753325</td>\n",
       "      <td>0.753325</td>\n",
       "      <td>NaN</td>\n",
       "      <td>0.0</td>\n",
       "      <td>0.000000</td>\n",
       "      <td>0</td>\n",
       "    </tr>\n",
       "    <tr>\n",
       "      <th>2015-08-09</th>\n",
       "      <td>0.701897</td>\n",
       "      <td>532170.0</td>\n",
       "      <td>-0.07</td>\n",
       "      <td>-0.21</td>\n",
       "      <td>NaN</td>\n",
       "      <td>NaN</td>\n",
       "      <td>NaN</td>\n",
       "      <td>NaN</td>\n",
       "      <td>0.000000</td>\n",
       "      <td>0.000000</td>\n",
       "      <td>0.000000</td>\n",
       "      <td>0.740468</td>\n",
       "      <td>0.745413</td>\n",
       "      <td>0.749516</td>\n",
       "      <td>NaN</td>\n",
       "      <td>-532170.0</td>\n",
       "      <td>-0.004103</td>\n",
       "      <td>1</td>\n",
       "    </tr>\n",
       "    <tr>\n",
       "      <th>2015-08-10</th>\n",
       "      <td>0.708448</td>\n",
       "      <td>405283.0</td>\n",
       "      <td>0.01</td>\n",
       "      <td>-0.24</td>\n",
       "      <td>NaN</td>\n",
       "      <td>NaN</td>\n",
       "      <td>NaN</td>\n",
       "      <td>NaN</td>\n",
       "      <td>14.518417</td>\n",
       "      <td>13.084467</td>\n",
       "      <td>12.093517</td>\n",
       "      <td>0.732463</td>\n",
       "      <td>0.739726</td>\n",
       "      <td>0.746473</td>\n",
       "      <td>NaN</td>\n",
       "      <td>-126887.0</td>\n",
       "      <td>-0.006747</td>\n",
       "      <td>1</td>\n",
       "    </tr>\n",
       "    <tr>\n",
       "      <th>2015-08-11</th>\n",
       "      <td>1.067860</td>\n",
       "      <td>1463100.0</td>\n",
       "      <td>0.51</td>\n",
       "      <td>2.61</td>\n",
       "      <td>NaN</td>\n",
       "      <td>NaN</td>\n",
       "      <td>NaN</td>\n",
       "      <td>NaN</td>\n",
       "      <td>92.643867</td>\n",
       "      <td>90.835392</td>\n",
       "      <td>89.234726</td>\n",
       "      <td>0.816312</td>\n",
       "      <td>0.790208</td>\n",
       "      <td>0.770280</td>\n",
       "      <td>NaN</td>\n",
       "      <td>1336213.0</td>\n",
       "      <td>0.019928</td>\n",
       "      <td>1</td>\n",
       "    </tr>\n",
       "    <tr>\n",
       "      <th>2015-08-12</th>\n",
       "      <td>1.217440</td>\n",
       "      <td>2150620.0</td>\n",
       "      <td>0.14</td>\n",
       "      <td>0.47</td>\n",
       "      <td>NaN</td>\n",
       "      <td>NaN</td>\n",
       "      <td>NaN</td>\n",
       "      <td>NaN</td>\n",
       "      <td>95.119189</td>\n",
       "      <td>93.635631</td>\n",
       "      <td>92.279805</td>\n",
       "      <td>0.916594</td>\n",
       "      <td>0.855936</td>\n",
       "      <td>0.803403</td>\n",
       "      <td>NaN</td>\n",
       "      <td>3486833.0</td>\n",
       "      <td>0.052533</td>\n",
       "      <td>1</td>\n",
       "    </tr>\n",
       "  </tbody>\n",
       "</table>\n",
       "</div>"
      ],
      "text/plain": [
       "               Close     Volume  close_DoD  vol_DoD  rolling_50C  \\\n",
       "Date                                                               \n",
       "2015-08-08  0.753325   674188.0        NaN      NaN          NaN   \n",
       "2015-08-09  0.701897   532170.0      -0.07    -0.21          NaN   \n",
       "2015-08-10  0.708448   405283.0       0.01    -0.24          NaN   \n",
       "2015-08-11  1.067860  1463100.0       0.51     2.61          NaN   \n",
       "2015-08-12  1.217440  2150620.0       0.14     0.47          NaN   \n",
       "\n",
       "            rolling_200C  rolling_50V  rolling_200V       RSI7      RSI12  \\\n",
       "Date                                                                        \n",
       "2015-08-08           NaN          NaN           NaN        NaN        NaN   \n",
       "2015-08-09           NaN          NaN           NaN   0.000000   0.000000   \n",
       "2015-08-10           NaN          NaN           NaN  14.518417  13.084467   \n",
       "2015-08-11           NaN          NaN           NaN  92.643867  90.835392   \n",
       "2015-08-12           NaN          NaN           NaN  95.119189  93.635631   \n",
       "\n",
       "                RSI26      EMA7     EMA12     EMA26  momentum-cross  \\\n",
       "Date                                                                  \n",
       "2015-08-08        NaN  0.753325  0.753325  0.753325             NaN   \n",
       "2015-08-09   0.000000  0.740468  0.745413  0.749516             NaN   \n",
       "2015-08-10  12.093517  0.732463  0.739726  0.746473             NaN   \n",
       "2015-08-11  89.234726  0.816312  0.790208  0.770280             NaN   \n",
       "2015-08-12  92.279805  0.916594  0.855936  0.803403             NaN   \n",
       "\n",
       "                  OBV      macd  up_down  \n",
       "Date                                      \n",
       "2015-08-08        0.0  0.000000        0  \n",
       "2015-08-09  -532170.0 -0.004103        1  \n",
       "2015-08-10  -126887.0 -0.006747        1  \n",
       "2015-08-11  1336213.0  0.019928        1  \n",
       "2015-08-12  3486833.0  0.052533        1  "
      ]
     },
     "execution_count": 33,
     "metadata": {},
     "output_type": "execute_result"
    }
   ],
   "source": [
    "dfm.head(5)"
   ]
  },
  {
   "cell_type": "code",
   "execution_count": 34,
   "metadata": {},
   "outputs": [
    {
     "data": {
      "text/plain": [
       "(Timestamp('2015-08-08 00:00:00'), Timestamp('2021-05-27 00:00:00'))"
      ]
     },
     "execution_count": 34,
     "metadata": {},
     "output_type": "execute_result"
    }
   ],
   "source": [
    "# Cull the first full year off of my df so in order to eliminate NaN\n",
    "dfm.index.min(), dfm.index.max()"
   ]
  },
  {
   "cell_type": "code",
   "execution_count": 35,
   "metadata": {},
   "outputs": [],
   "source": [
    "dfm = dfm['2017':]"
   ]
  },
  {
   "cell_type": "code",
   "execution_count": 36,
   "metadata": {},
   "outputs": [
    {
     "data": {
      "text/plain": [
       "Timestamp('2017-01-01 00:00:00')"
      ]
     },
     "execution_count": 36,
     "metadata": {},
     "output_type": "execute_result"
    }
   ],
   "source": [
    "# Control check\n",
    "dfm.index.min()"
   ]
  },
  {
   "cell_type": "code",
   "execution_count": 37,
   "metadata": {},
   "outputs": [
    {
     "data": {
      "text/plain": [
       "Close             0\n",
       "Volume            0\n",
       "close_DoD         0\n",
       "vol_DoD           0\n",
       "rolling_50C       0\n",
       "rolling_200C      0\n",
       "rolling_50V       0\n",
       "rolling_200V      0\n",
       "RSI7              0\n",
       "RSI12             0\n",
       "RSI26             0\n",
       "EMA7              0\n",
       "EMA12             0\n",
       "EMA26             0\n",
       "momentum-cross    0\n",
       "OBV               0\n",
       "macd              0\n",
       "up_down           0\n",
       "dtype: int64"
      ]
     },
     "execution_count": 37,
     "metadata": {},
     "output_type": "execute_result"
    }
   ],
   "source": [
    "dfm.isna().sum()"
   ]
  },
  {
   "cell_type": "markdown",
   "metadata": {},
   "source": [
    "# Data Split"
   ]
  },
  {
   "cell_type": "code",
   "execution_count": 38,
   "metadata": {},
   "outputs": [],
   "source": [
    "def split_data():\n",
    "    '''\n",
    "    take in a DataFrame and return train, validate, and test DataFrames; stratify on survived.\n",
    "    return train, validate, test DataFrames.\n",
    "    '''\n",
    "    train_validate, test = train_test_split(dfm, test_size=.2, random_state=123, stratify=dfm.up_down)\n",
    "    train, validate = train_test_split(train_validate, \n",
    "                                       test_size=.3, \n",
    "                                       random_state=123, \n",
    "                                       stratify=train_validate.up_down)\n",
    "    return train, validate, test"
   ]
  },
  {
   "cell_type": "code",
   "execution_count": 39,
   "metadata": {},
   "outputs": [],
   "source": [
    "train, validate, test = split_data()"
   ]
  },
  {
   "cell_type": "code",
   "execution_count": 40,
   "metadata": {},
   "outputs": [
    {
     "name": "stdout",
     "output_type": "stream",
     "text": [
      "train -> (900, 18)\n",
      "validate -> (386, 18)\n",
      "test -> (322, 18)\n"
     ]
    }
   ],
   "source": [
    "# Validate split\n",
    "\n",
    "print(f'train -> {train.shape}')\n",
    "print(f'validate -> {validate.shape}')\n",
    "print(f'test -> {test.shape}')\n"
   ]
  },
  {
   "cell_type": "markdown",
   "metadata": {},
   "source": [
    "# Explore"
   ]
  },
  {
   "cell_type": "code",
   "execution_count": 41,
   "metadata": {},
   "outputs": [
    {
     "data": {
      "text/plain": [
       "<matplotlib.legend.Legend at 0x7f95d890df10>"
      ]
     },
     "execution_count": 41,
     "metadata": {},
     "output_type": "execute_result"
    },
    {
     "data": {
      "image/png": "[encoded data removed]",
      "text/plain": [
       "<Figure size 936x504 with 2 Axes>"
      ]
     },
     "metadata": {},
     "output_type": "display_data"
    }
   ],
   "source": [
    "# Close vs rolling Volumes\n",
    "fig,ax = plt.subplots()\n",
    "ax.plot(dfm[['rolling_50C', 'rolling_200C']])\n",
    "plt.legend(['50C_roll', '200C_roll'])\n",
    "ax2=ax.twinx()\n",
    "ax2.plot(dfm.Close, color='green')\n",
    "plt.legend('Close', loc='upper right')"
   ]
  },
  {
   "cell_type": "code",
   "execution_count": 42,
   "metadata": {},
   "outputs": [
    {
     "data": {
      "text/plain": [
       "<matplotlib.legend.Legend at 0x7f9608bd2580>"
      ]
     },
     "execution_count": 42,
     "metadata": {},
     "output_type": "execute_result"
    },
    {
     "data": {
      "image/png": "[encoded data removed]",
      "text/plain": [
       "<Figure size 1080x360 with 2 Axes>"
      ]
     },
     "metadata": {},
     "output_type": "display_data"
    }
   ],
   "source": [
    "# View RSI Indicator and compare vs Close price\n",
    "fig, ax = plt.subplots(figsize=(15,5))\n",
    "ax.plot(dfm.RSI12['2021':])\n",
    "plt.axhline(y = 70, color =\"red\", linestyle =\"--\")\n",
    "plt.axhline(y = 30, color =\"green\", linestyle =\"--\")\n",
    "plt.legend(['RSI'])\n",
    "ax2=ax.twinx()\n",
    "ax2.plot(dfm['2021':].close_DoD, color='orange')\n",
    "plt.legend('DoD', loc ='upper left')"
   ]
  },
  {
   "cell_type": "markdown",
   "metadata": {},
   "source": [
    "Observation: \n",
    "\n",
    "* RSI indicator and daily delta on Close ('Price') appear to largely move in line with each other.  Large swings in RSI tend to be associated with large daily changes in closing prices.\n",
    "* RSI & Day-over-day price change confluence occurs between within the RSI 50-70 range. Price volatility is least volatile here.  Price volatility sharply increases as the RSI indicator exits the 50-70 range. "
   ]
  },
  {
   "cell_type": "code",
   "execution_count": 43,
   "metadata": {},
   "outputs": [
    {
     "data": {
      "text/plain": [
       "<matplotlib.legend.Legend at 0x7f95c0183130>"
      ]
     },
     "execution_count": 43,
     "metadata": {},
     "output_type": "execute_result"
    },
    {
     "data": {
      "image/png": "[encoded data removed]",
      "text/plain": [
       "<Figure size 1080x360 with 1 Axes>"
      ]
     },
     "metadata": {},
     "output_type": "display_data"
    }
   ],
   "source": [
    "fig, axes = plt.subplots(1, 1,figsize=(15,5))\n",
    "fig.suptitle('% Daily change Closing Price & Volume')\n",
    "dfm['vol_DoD'].plot()\n",
    "dfm['close_DoD'].plot()\n",
    "plt.legend()"
   ]
  },
  {
   "cell_type": "code",
   "execution_count": 44,
   "metadata": {},
   "outputs": [
    {
     "data": {
      "text/plain": [
       "<matplotlib.legend.Legend at 0x7f9608c664f0>"
      ]
     },
     "execution_count": 44,
     "metadata": {},
     "output_type": "execute_result"
    },
    {
     "data": {
      "image/png": "[encoded data removed]",
      "text/plain": [
       "<Figure size 1080x360 with 1 Axes>"
      ]
     },
     "metadata": {},
     "output_type": "display_data"
    }
   ],
   "source": [
    "fig, axes = plt.subplots(1, 1,figsize=(15,5))\n",
    "fig.suptitle('% Daily change Closing Price & Volume')\n",
    "dfm['2021':]['vol_DoD'].plot()\n",
    "dfm['2021':]['close_DoD'].plot()\n",
    "plt.legend()"
   ]
  },
  {
   "cell_type": "markdown",
   "metadata": {},
   "source": [
    "Observation: on the longer data timeline it was hard to identify some connection b/w price and volume but there definitely appears to be one after zooming in a bit with large changes in volume associated with larger daily changes in price.  However, the direction of the movements in volume and closing prices aren't always the same"
   ]
  },
  {
   "cell_type": "code",
   "execution_count": 45,
   "metadata": {},
   "outputs": [
    {
     "data": {
      "image/png": "[encoded data removed]",
      "text/plain": [
       "<Figure size 936x504 with 2 Axes>"
      ]
     },
     "metadata": {},
     "output_type": "display_data"
    },
    {
     "data": {
      "image/png": "[encoded data removed]",
      "text/plain": [
       "<Figure size 936x504 with 2 Axes>"
      ]
     },
     "metadata": {},
     "output_type": "display_data"
    },
    {
     "data": {
      "image/png": "[encoded data removed]",
      "text/plain": [
       "<Figure size 936x504 with 2 Axes>"
      ]
     },
     "metadata": {},
     "output_type": "display_data"
    },
    {
     "data": {
      "image/png": "[encoded data removed]",
      "text/plain": [
       "<Figure size 936x504 with 2 Axes>"
      ]
     },
     "metadata": {},
     "output_type": "display_data"
    },
    {
     "data": {
      "image/png": "[encoded data removed]",
      "text/plain": [
       "<Figure size 936x504 with 2 Axes>"
      ]
     },
     "metadata": {},
     "output_type": "display_data"
    },
    {
     "data": {
      "image/png": "[encoded data removed]",
      "text/plain": [
       "<Figure size 936x504 with 2 Axes>"
      ]
     },
     "metadata": {},
     "output_type": "display_data"
    },
    {
     "data": {
      "image/png": "[encoded data removed]",
      "text/plain": [
       "<Figure size 936x504 with 2 Axes>"
      ]
     },
     "metadata": {},
     "output_type": "display_data"
    },
    {
     "data": {
      "image/png": "[encoded data removed]",
      "text/plain": [
       "<Figure size 936x504 with 2 Axes>"
      ]
     },
     "metadata": {},
     "output_type": "display_data"
    },
    {
     "data": {
      "image/png": "[encoded data removed]",
      "text/plain": [
       "<Figure size 936x504 with 2 Axes>"
      ]
     },
     "metadata": {},
     "output_type": "display_data"
    },
    {
     "data": {
      "image/png": "[encoded data removed]",
      "text/plain": [
       "<Figure size 936x504 with 2 Axes>"
      ]
     },
     "metadata": {},
     "output_type": "display_data"
    },
    {
     "data": {
      "image/png": "[encoded data removed]",
      "text/plain": [
       "<Figure size 936x504 with 2 Axes>"
      ]
     },
     "metadata": {},
     "output_type": "display_data"
    },
    {
     "data": {
      "image/png": "[encoded data removed]",
      "text/plain": [
       "<Figure size 936x504 with 2 Axes>"
      ]
     },
     "metadata": {},
     "output_type": "display_data"
    },
    {
     "data": {
      "image/png": "[encoded data removed]",
      "text/plain": [
       "<Figure size 936x504 with 2 Axes>"
      ]
     },
     "metadata": {},
     "output_type": "display_data"
    }
   ],
   "source": [
    "features = ['Close', 'Volume', 'close_DoD', 'vol_DoD', 'RSI7', 'RSI12', 'RSI26', 'EMA7', 'EMA12', 'EMA26', 'momentum-cross', 'OBV', 'macd']\n",
    "for feature in features:\n",
    "    plt.subplot(121)\n",
    "    plt.hist(train[train.up_down == 1][feature])\n",
    "    plt.title(feature + str(' Up'))\n",
    "    plt.subplot(122)\n",
    "    plt.hist(train[train.up_down == 0][feature])\n",
    "    plt.title(feature + str(' Down'))\n",
    "    plt.show()"
   ]
  },
  {
   "cell_type": "markdown",
   "metadata": {},
   "source": [
    "Observation: Data appears to be normally distributed. "
   ]
  },
  {
   "cell_type": "markdown",
   "metadata": {},
   "source": [
    "# Hypothesis Testing"
   ]
  },
  {
   "cell_type": "code",
   "execution_count": 46,
   "metadata": {},
   "outputs": [],
   "source": [
    "# Begin by separating the train data into up/down subgroupings\n",
    "\n",
    "up = train[train.up_down == 1]\n",
    "down = train[train.up_down == 0]"
   ]
  },
  {
   "cell_type": "code",
   "execution_count": 47,
   "metadata": {},
   "outputs": [
    {
     "data": {
      "text/plain": [
       "['Close',\n",
       " 'Volume',\n",
       " 'close_DoD',\n",
       " 'vol_DoD',\n",
       " 'rolling_50C',\n",
       " 'rolling_200C',\n",
       " 'rolling_50V',\n",
       " 'rolling_200V',\n",
       " 'RSI7',\n",
       " 'RSI12',\n",
       " 'RSI26',\n",
       " 'EMA7',\n",
       " 'EMA12',\n",
       " 'EMA26',\n",
       " 'momentum-cross',\n",
       " 'OBV',\n",
       " 'macd',\n",
       " 'up_down']"
      ]
     },
     "execution_count": 47,
     "metadata": {},
     "output_type": "execute_result"
    }
   ],
   "source": [
    "# Identify features for hypothesis testing\n",
    "[col for col in train.columns]"
   ]
  },
  {
   "cell_type": "code",
   "execution_count": 48,
   "metadata": {},
   "outputs": [],
   "source": [
    "features = ['Close', 'Volume', 'close_DoD', 'vol_DoD', 'RSI7', 'RSI12', 'RSI26', 'EMA7', 'EMA12', 'EMA26', 'momentum-cross', 'OBV', 'macd']"
   ]
  },
  {
   "cell_type": "markdown",
   "metadata": {},
   "source": [
    "Null and alternative hypotheses \n",
    "\n",
    "$H_0$: there is no significant relationship between target and feature\n",
    "\n",
    "$H_a$: there is a significant relationship between target and feature\n",
    "\n",
    "Alpha = 0.05"
   ]
  },
  {
   "cell_type": "code",
   "execution_count": 49,
   "metadata": {},
   "outputs": [
    {
     "name": "stdout",
     "output_type": "stream",
     "text": [
      "Close\n",
      "MannwhitneyuResult(statistic=96625.0, pvalue=0.26047405887032926)\n",
      "Volume\n",
      "MannwhitneyuResult(statistic=100684.0, pvalue=0.9338011392492952)\n",
      "close_DoD\n",
      "MannwhitneyuResult(statistic=90095.0, pvalue=0.00492521458005248)\n",
      "vol_DoD\n",
      "MannwhitneyuResult(statistic=98968.0, pvalue=0.6004572033882556)\n",
      "RSI7\n",
      "MannwhitneyuResult(statistic=103966.0, pvalue=0.4476242887410917)\n",
      "RSI12\n",
      "MannwhitneyuResult(statistic=105326.0, pvalue=0.26761069300215523)\n",
      "RSI26\n",
      "MannwhitneyuResult(statistic=105486.0, pvalue=0.25028228070904657)\n",
      "EMA7\n",
      "MannwhitneyuResult(statistic=96927.0, pvalue=0.2947637481053167)\n",
      "EMA12\n",
      "MannwhitneyuResult(statistic=96811.0, pvalue=0.28125108790792097)\n",
      "EMA26\n",
      "MannwhitneyuResult(statistic=96534.0, pvalue=0.2507057113673947)\n",
      "momentum-cross\n",
      "MannwhitneyuResult(statistic=106678.0, pvalue=0.14544492980161938)\n",
      "OBV\n",
      "MannwhitneyuResult(statistic=100594.0, pvalue=0.9154457194647944)\n",
      "macd\n",
      "MannwhitneyuResult(statistic=103011.0, pvalue=0.6071322009124329)\n"
     ]
    }
   ],
   "source": [
    "# T-test and significance level for all features vs target\n",
    "for feature in features:\n",
    "    print(feature)\n",
    "    print(stats.mannwhitneyu(up[feature], down[feature], alternative='two-sided'))\n",
    "    "
   ]
  },
  {
   "cell_type": "code",
   "execution_count": 50,
   "metadata": {},
   "outputs": [],
   "source": [
    "model_features = ['close_DoD', 'vol_DoD', 'RSI7', 'RSI12', 'RSI26', 'EMA7', 'EMA12', 'EMA26', 'momentum-cross', 'OBV', 'macd']"
   ]
  },
  {
   "cell_type": "markdown",
   "metadata": {},
   "source": [
    "***\n",
    "Conclusion:\n",
    "\n",
    "* I can reject the null hypothesis and establish that there is a signficant relationship between my two 'observed delta' features and my up_down target\n",
    "    * I can not reject the null hypothesis for Close & Volume alone; no significant relationship\n",
    "* My engineered feature samples do not meet my confidence interval allowing me to reject the null hypothesis\n",
    "    * However, not as surprising as initially thought considering these features are constructed from and dependent on prior observations irrespective of target population \n",
    "***"
   ]
  },
  {
   "cell_type": "markdown",
   "metadata": {},
   "source": [
    "# Model Construction"
   ]
  },
  {
   "cell_type": "code",
   "execution_count": 89,
   "metadata": {},
   "outputs": [
    {
     "data": {
      "text/plain": [
       "['Close',\n",
       " 'Volume',\n",
       " 'close_DoD',\n",
       " 'vol_DoD',\n",
       " 'rolling_50C',\n",
       " 'rolling_200C',\n",
       " 'rolling_50V',\n",
       " 'rolling_200V',\n",
       " 'RSI7',\n",
       " 'RSI12',\n",
       " 'RSI26',\n",
       " 'EMA7',\n",
       " 'EMA12',\n",
       " 'EMA26',\n",
       " 'momentum-cross',\n",
       " 'OBV',\n",
       " 'macd',\n",
       " 'up_down']"
      ]
     },
     "execution_count": 89,
     "metadata": {},
     "output_type": "execute_result"
    }
   ],
   "source": [
    "# pare down features\n",
    "[col for col in train.columns]"
   ]
  },
  {
   "cell_type": "raw",
   "metadata": {},
   "source": [
    "'rolling_50C', 'rolling_200C', 'rolling_50V', 'rolling_200V'"
   ]
  },
  {
   "cell_type": "code",
   "execution_count": 337,
   "metadata": {},
   "outputs": [],
   "source": [
    "#  create X & y version of train, where y is a series with just the target feature and X are all the features. \n",
    "\n",
    "X_train = train.drop(columns=['up_down', 'Close', 'Volume', 'rolling_50C', 'rolling_200C', 'rolling_50V', 'rolling_200V'])\n",
    "y_train = train.up_down\n",
    "\n",
    "X_validate = validate.drop(columns=['up_down', 'Close', 'Volume', 'rolling_50C', 'rolling_200C', 'rolling_50V', 'rolling_200V'])\n",
    "y_validate = validate.up_down\n",
    "\n",
    "X_test = test.drop(columns=['up_down', 'Close', 'Volume', 'rolling_50C', 'rolling_200C', 'rolling_50V', 'rolling_200V'])\n",
    "y_test = test.up_down"
   ]
  },
  {
   "cell_type": "code",
   "execution_count": 338,
   "metadata": {},
   "outputs": [
    {
     "name": "stdout",
     "output_type": "stream",
     "text": [
      "train -> ((900, 11), (900,))\n",
      "validate -> ((386, 11), (386,))\n",
      "test -> ((322, 11), (322,))\n"
     ]
    }
   ],
   "source": [
    "# Confirm splits\n",
    "print(f'train -> {X_train.shape, y_train.shape}')\n",
    "print(f'validate -> {X_validate.shape, y_validate.shape}')\n",
    "print(f'test -> {X_test.shape, y_test.shape}')"
   ]
  },
  {
   "cell_type": "markdown",
   "metadata": {},
   "source": [
    "*** Establish Baseline ***"
   ]
  },
  {
   "cell_type": "code",
   "execution_count": 339,
   "metadata": {},
   "outputs": [
    {
     "data": {
      "text/plain": [
       "0    1\n",
       "dtype: int64"
      ]
     },
     "execution_count": 339,
     "metadata": {},
     "output_type": "execute_result"
    }
   ],
   "source": [
    "mode = dfm.up_down.mode()\n",
    "mode"
   ]
  },
  {
   "cell_type": "code",
   "execution_count": 340,
   "metadata": {},
   "outputs": [
    {
     "name": "stdout",
     "output_type": "stream",
     "text": [
      "My baseline accuracy is 52.44 %.\n"
     ]
    }
   ],
   "source": [
    "baseline = len(train[train.up_down == 1]) / len(train)\n",
    "print(f'My baseline accuracy is {round(baseline * 100,2)} %.')"
   ]
  },
  {
   "cell_type": "markdown",
   "metadata": {},
   "source": [
    "***\n",
    "Decision Tree\n",
    "***"
   ]
  },
  {
   "cell_type": "code",
   "execution_count": 341,
   "metadata": {},
   "outputs": [],
   "source": [
    "# Imports\n",
    "# ignore warnings\n",
    "import warnings\n",
    "warnings.filterwarnings(\"ignore\")\n",
    "\n",
    "from sklearn.tree import DecisionTreeClassifier\n",
    "from sklearn.tree import export_graphviz\n",
    "from sklearn.metrics import classification_report\n",
    "from sklearn.metrics import confusion_matrix"
   ]
  },
  {
   "cell_type": "code",
   "execution_count": 342,
   "metadata": {},
   "outputs": [],
   "source": [
    "# Set Decision Tree hyperparameters\n",
    "clf = DecisionTreeClassifier(max_depth=8, random_state=123)"
   ]
  },
  {
   "cell_type": "code",
   "execution_count": 343,
   "metadata": {},
   "outputs": [],
   "source": [
    "# Fit the random forest algorithm to the training data.\n",
    "clf = clf.fit(X_train, y_train)"
   ]
  },
  {
   "cell_type": "code",
   "execution_count": 344,
   "metadata": {},
   "outputs": [],
   "source": [
    "# make prediction on train obeservations\n",
    "y_pred = clf.predict(X_train)"
   ]
  },
  {
   "cell_type": "code",
   "execution_count": 345,
   "metadata": {},
   "outputs": [
    {
     "data": {
      "text/plain": [
       "array([[0.44134078, 0.55865922],\n",
       "       [0.25806452, 0.74193548],\n",
       "       [0.        , 1.        ],\n",
       "       ...,\n",
       "       [0.44134078, 0.55865922],\n",
       "       [0.55223881, 0.44776119],\n",
       "       [0.83333333, 0.16666667]])"
      ]
     },
     "execution_count": 345,
     "metadata": {},
     "output_type": "execute_result"
    }
   ],
   "source": [
    "# Feature importance\n",
    "y_pred_proba = clf.predict_proba(X_train)\n",
    "y_pred_proba"
   ]
  },
  {
   "cell_type": "code",
   "execution_count": 346,
   "metadata": {},
   "outputs": [
    {
     "name": "stdout",
     "output_type": "stream",
     "text": [
      "Accuracy of Decision Tree classifier on training set: 0.72\n"
     ]
    }
   ],
   "source": [
    "print('Accuracy of Decision Tree classifier on training set: {:.2f}'\n",
    "      .format(clf.score(X_train, y_train)))"
   ]
  },
  {
   "cell_type": "code",
   "execution_count": 347,
   "metadata": {},
   "outputs": [
    {
     "name": "stdout",
     "output_type": "stream",
     "text": [
      "              precision    recall  f1-score   support\n",
      "\n",
      "           0       0.71      0.71      0.71       428\n",
      "           1       0.74      0.73      0.73       472\n",
      "\n",
      "    accuracy                           0.72       900\n",
      "   macro avg       0.72      0.72      0.72       900\n",
      "weighted avg       0.72      0.72      0.72       900\n",
      "\n"
     ]
    }
   ],
   "source": [
    "print(classification_report(y_train, y_pred))"
   ]
  },
  {
   "cell_type": "code",
   "execution_count": 348,
   "metadata": {},
   "outputs": [
    {
     "name": "stdout",
     "output_type": "stream",
     "text": [
      "Accuracy of Decision Tree classifier on Validate set: 0.52\n"
     ]
    }
   ],
   "source": [
    "print('Accuracy of Decision Tree classifier on Validate set: {:.2f}'\n",
    "     .format(clf.score(X_validate, y_validate)))"
   ]
  },
  {
   "cell_type": "code",
   "execution_count": 349,
   "metadata": {},
   "outputs": [
    {
     "name": "stdout",
     "output_type": "stream",
     "text": [
      "              precision    recall  f1-score   support\n",
      "\n",
      "           0       0.49      0.45      0.47       184\n",
      "           1       0.54      0.58      0.56       202\n",
      "\n",
      "    accuracy                           0.52       386\n",
      "   macro avg       0.52      0.52      0.51       386\n",
      "weighted avg       0.52      0.52      0.52       386\n",
      "\n"
     ]
    }
   ],
   "source": [
    "# Produce y_predictions that come from the X_validate\n",
    "y_predv = clf.predict(X_validate)\n",
    "\n",
    "# Compare actual y values (from validate) to predicted y_values from the model run on X_validate\n",
    "print(classification_report(y_validate, y_predv))"
   ]
  },
  {
   "cell_type": "markdown",
   "metadata": {},
   "source": [
    "***\n",
    "Random Forest\n",
    "***"
   ]
  },
  {
   "cell_type": "code",
   "execution_count": 350,
   "metadata": {},
   "outputs": [],
   "source": [
    "# imports\n",
    "from sklearn.ensemble import RandomForestClassifier"
   ]
  },
  {
   "cell_type": "code",
   "execution_count": 351,
   "metadata": {},
   "outputs": [],
   "source": [
    "# Set Random Forest hyperparameters\n",
    "rf = RandomForestClassifier(bootstrap=True, \n",
    "                            class_weight=None, \n",
    "                            criterion='gini',\n",
    "                            min_samples_leaf=3,\n",
    "                            n_estimators=10,\n",
    "                            max_depth=3, \n",
    "                            random_state=123)\n"
   ]
  },
  {
   "cell_type": "code",
   "execution_count": 352,
   "metadata": {},
   "outputs": [
    {
     "data": {
      "text/plain": [
       "RandomForestClassifier(max_depth=3, min_samples_leaf=3, n_estimators=10,\n",
       "                       random_state=123)"
      ]
     },
     "execution_count": 352,
     "metadata": {},
     "output_type": "execute_result"
    }
   ],
   "source": [
    "# Fit the model to the Train data\n",
    "rf.fit(X_train, y_train)"
   ]
  },
  {
   "cell_type": "code",
   "execution_count": 353,
   "metadata": {},
   "outputs": [
    {
     "name": "stdout",
     "output_type": "stream",
     "text": [
      "[0.10767387 0.09275677 0.06153515 0.07931872 0.07724859 0.10804961\n",
      " 0.17429567 0.08941296 0.10233362 0.01831008 0.08906496]\n"
     ]
    }
   ],
   "source": [
    "# Feature importance as determined by model\n",
    "print(rf.feature_importances_)"
   ]
  },
  {
   "cell_type": "code",
   "execution_count": 354,
   "metadata": {},
   "outputs": [],
   "source": [
    "feature_list = [\n",
    " 'close_DoD',\n",
    " 'vol_DoD',\n",
    " 'RSI7',\n",
    " 'RSI12',\n",
    " 'RSI26',\n",
    " 'EMA7',\n",
    " 'EMA12',\n",
    " 'EMA26',\n",
    " 'momentum-cross',\n",
    " 'OBV',\n",
    " 'macd']"
   ]
  },
  {
   "cell_type": "code",
   "execution_count": 355,
   "metadata": {},
   "outputs": [
    {
     "name": "stdout",
     "output_type": "stream",
     "text": [
      "Variable: EMA12                Importance: 0.17\n",
      "Variable: close_DoD            Importance: 0.11\n",
      "Variable: EMA7                 Importance: 0.11\n",
      "Variable: momentum-cross       Importance: 0.1\n",
      "Variable: vol_DoD              Importance: 0.09\n",
      "Variable: EMA26                Importance: 0.09\n",
      "Variable: macd                 Importance: 0.09\n",
      "Variable: RSI12                Importance: 0.08\n",
      "Variable: RSI26                Importance: 0.08\n",
      "Variable: RSI7                 Importance: 0.06\n",
      "Variable: OBV                  Importance: 0.02\n"
     ]
    },
    {
     "data": {
      "text/plain": [
       "[None, None, None, None, None, None, None, None, None, None, None]"
      ]
     },
     "execution_count": 355,
     "metadata": {},
     "output_type": "execute_result"
    }
   ],
   "source": [
    "# Get numerical feature importances\n",
    "importances = list(rf.feature_importances_)\n",
    "# List of tuples with variable and importance\n",
    "feature_importances = [(feature, round(importance, 2)) for feature, importance in zip(feature_list, importances)]\n",
    "# Sort the feature importances by most important first\n",
    "feature_importances = sorted(feature_importances, key = lambda x: x[1], reverse = True)\n",
    "# Print out the feature and importances \n",
    "[print('Variable: {:20} Importance: {}'.format(*pair)) for pair in feature_importances]"
   ]
  },
  {
   "cell_type": "code",
   "execution_count": 356,
   "metadata": {},
   "outputs": [],
   "source": [
    "# Make predictions\n",
    "y_pred_rf = rf.predict(X_train)"
   ]
  },
  {
   "cell_type": "code",
   "execution_count": 357,
   "metadata": {},
   "outputs": [
    {
     "name": "stdout",
     "output_type": "stream",
     "text": [
      "Accuracy of random forest classifier on training set: 0.63\n"
     ]
    }
   ],
   "source": [
    "print('Accuracy of random forest classifier on training set: {:.2f}'\n",
    "     .format(rf.score(X_train, y_train)))"
   ]
  },
  {
   "cell_type": "code",
   "execution_count": 358,
   "metadata": {},
   "outputs": [
    {
     "name": "stdout",
     "output_type": "stream",
     "text": [
      "              precision    recall  f1-score   support\n",
      "\n",
      "           0       0.66      0.47      0.55       428\n",
      "           1       0.62      0.78      0.69       472\n",
      "\n",
      "    accuracy                           0.63       900\n",
      "   macro avg       0.64      0.63      0.62       900\n",
      "weighted avg       0.64      0.63      0.62       900\n",
      "\n"
     ]
    }
   ],
   "source": [
    "# Classification report\n",
    "print(classification_report(y_train, y_pred_rf))"
   ]
  },
  {
   "cell_type": "code",
   "execution_count": 359,
   "metadata": {},
   "outputs": [
    {
     "name": "stdout",
     "output_type": "stream",
     "text": [
      "Accuracy of random forest classifier on Validate set: 0.55\n"
     ]
    }
   ],
   "source": [
    "# Compute the accuracy of the model when run on the validate dataset.\n",
    "\n",
    "print('Accuracy of random forest classifier on Validate set: {:.2f}'\n",
    "     .format(rf.score(X_validate, y_validate)))"
   ]
  },
  {
   "cell_type": "code",
   "execution_count": 360,
   "metadata": {},
   "outputs": [
    {
     "name": "stdout",
     "output_type": "stream",
     "text": [
      "              precision    recall  f1-score   support\n",
      "\n",
      "           0       0.55      0.38      0.45       184\n",
      "           1       0.56      0.72      0.63       202\n",
      "\n",
      "    accuracy                           0.55       386\n",
      "   macro avg       0.55      0.55      0.54       386\n",
      "weighted avg       0.55      0.55      0.54       386\n",
      "\n"
     ]
    }
   ],
   "source": [
    "# Produce y_predictions that come from the X_validate\n",
    "y_pred_rfv = rf.predict(X_validate)\n",
    "\n",
    "# Compare actual y values (from validate) to predicted y_values from the model run on X_validate\n",
    "print(classification_report(y_validate, y_pred_rfv))"
   ]
  },
  {
   "cell_type": "markdown",
   "metadata": {},
   "source": [
    "***\n",
    "Logistic Regression\n",
    "***"
   ]
  },
  {
   "cell_type": "code",
   "execution_count": 361,
   "metadata": {},
   "outputs": [],
   "source": [
    "# imports\n",
    "from sklearn.linear_model import LogisticRegression"
   ]
  },
  {
   "cell_type": "code",
   "execution_count": 362,
   "metadata": {},
   "outputs": [],
   "source": [
    "# Set logit hyperparameters\n",
    "logit = LogisticRegression(C=1, class_weight={0:1, 1:1}, random_state=123, intercept_scaling=True, solver='lbfgs')"
   ]
  },
  {
   "cell_type": "code",
   "execution_count": 363,
   "metadata": {},
   "outputs": [
    {
     "data": {
      "text/plain": [
       "LogisticRegression(C=1, class_weight={0: 1, 1: 1}, intercept_scaling=True,\n",
       "                   random_state=123)"
      ]
     },
     "execution_count": 363,
     "metadata": {},
     "output_type": "execute_result"
    }
   ],
   "source": [
    "# Fit the model\n",
    "logit.fit(X_train, y_train)"
   ]
  },
  {
   "cell_type": "code",
   "execution_count": 364,
   "metadata": {},
   "outputs": [
    {
     "name": "stdout",
     "output_type": "stream",
     "text": [
      "Coefficient: \n",
      " [[-1.30467379e-25  1.15364004e-25  6.82915643e-23  7.12071753e-23\n",
      "   6.86201707e-23 -1.16049865e-22 -1.04556095e-22 -6.37872082e-23\n",
      "   1.71068721e-24  1.67679618e-13 -4.07688868e-23]]\n",
      "Intercept: \n",
      " [1.02377131e-24]\n"
     ]
    }
   ],
   "source": [
    "# Feature importance\n",
    "print('Coefficient: \\n', logit.coef_)\n",
    "print('Intercept: \\n', logit.intercept_)"
   ]
  },
  {
   "cell_type": "code",
   "execution_count": 365,
   "metadata": {},
   "outputs": [],
   "source": [
    "# Make Predictions\n",
    "y_predlog = logit.predict(X_train)"
   ]
  },
  {
   "cell_type": "code",
   "execution_count": 366,
   "metadata": {},
   "outputs": [
    {
     "name": "stdout",
     "output_type": "stream",
     "text": [
      "Accuracy of Logistic Regression classifier on training set: 0.51\n"
     ]
    }
   ],
   "source": [
    "print('Accuracy of Logistic Regression classifier on training set: {:.2f}'\n",
    "     .format(logit.score(X_train, y_train)))"
   ]
  },
  {
   "cell_type": "code",
   "execution_count": 367,
   "metadata": {},
   "outputs": [
    {
     "name": "stdout",
     "output_type": "stream",
     "text": [
      "              precision    recall  f1-score   support\n",
      "\n",
      "           0       0.45      0.19      0.26       428\n",
      "           1       0.52      0.79      0.63       472\n",
      "\n",
      "    accuracy                           0.51       900\n",
      "   macro avg       0.49      0.49      0.45       900\n",
      "weighted avg       0.49      0.51      0.45       900\n",
      "\n"
     ]
    }
   ],
   "source": [
    "# Classification report\n",
    "print(classification_report(y_train, y_predlog))"
   ]
  },
  {
   "cell_type": "code",
   "execution_count": 368,
   "metadata": {},
   "outputs": [
    {
     "name": "stdout",
     "output_type": "stream",
     "text": [
      "Accuracy of Logistic Regression on Validate set: 0.54\n"
     ]
    }
   ],
   "source": [
    "# Compute the accuracy of the model when run on the validate dataset.\n",
    "\n",
    "print('Accuracy of Logistic Regression on Validate set: {:.2f}'\n",
    "     .format(logit.score(X_validate, y_validate)))"
   ]
  },
  {
   "cell_type": "code",
   "execution_count": 369,
   "metadata": {},
   "outputs": [
    {
     "name": "stdout",
     "output_type": "stream",
     "text": [
      "              precision    recall  f1-score   support\n",
      "\n",
      "           0       0.54      0.21      0.30       184\n",
      "           1       0.54      0.84      0.65       202\n",
      "\n",
      "    accuracy                           0.54       386\n",
      "   macro avg       0.54      0.52      0.48       386\n",
      "weighted avg       0.54      0.54      0.48       386\n",
      "\n"
     ]
    }
   ],
   "source": [
    "# Produce y_predictions that come from the X_validate\n",
    "y_predlog_v = logit.predict(X_validate)\n",
    "\n",
    "# Compare actual y values (from validate) to predicted y_values from the model run on X_validate\n",
    "print(classification_report(y_validate, y_predlog_v))"
   ]
  },
  {
   "cell_type": "code",
   "execution_count": 370,
   "metadata": {},
   "outputs": [
    {
     "name": "stdout",
     "output_type": "stream",
     "text": [
      "-------------------- Decision Tree ---------------------\n",
      "              precision    recall  f1-score   support\n",
      "\n",
      "           0       0.49      0.45      0.47       184\n",
      "           1       0.54      0.58      0.56       202\n",
      "\n",
      "    accuracy                           0.52       386\n",
      "   macro avg       0.52      0.52      0.51       386\n",
      "weighted avg       0.52      0.52      0.52       386\n",
      "\n",
      "--------------------- Random Forest ---------------------\n",
      "              precision    recall  f1-score   support\n",
      "\n",
      "           0       0.55      0.38      0.45       184\n",
      "           1       0.56      0.72      0.63       202\n",
      "\n",
      "    accuracy                           0.55       386\n",
      "   macro avg       0.55      0.55      0.54       386\n",
      "weighted avg       0.55      0.55      0.54       386\n",
      "\n",
      "-------------------- Logistic Regression ---------------------\n",
      "              precision    recall  f1-score   support\n",
      "\n",
      "           0       0.54      0.21      0.30       184\n",
      "           1       0.54      0.84      0.65       202\n",
      "\n",
      "    accuracy                           0.54       386\n",
      "   macro avg       0.54      0.52      0.48       386\n",
      "weighted avg       0.54      0.54      0.48       386\n",
      "\n"
     ]
    }
   ],
   "source": [
    "# Compare classification reports across all 3 models\n",
    "print(f'-------------------- Decision Tree ---------------------')\n",
    "print(classification_report(y_validate, y_predv))\n",
    "print(f'--------------------- Random Forest ---------------------')\n",
    "print(classification_report(y_validate, y_pred_rfv))\n",
    "print(f'-------------------- Logistic Regression ---------------------')\n",
    "print(classification_report(y_validate, y_predlog_v))"
   ]
  },
  {
   "cell_type": "markdown",
   "metadata": {},
   "source": [
    "Conclusion: The Random Forest and Logistic Regression models significanlty outperformed on the triaining data sets but the results were moderated when evaluated against the validate sets. Still, both were able to outperform the benchmark and had accuracy metrics in line with each other.  \n",
    "\n",
    "Decision: Based on the validate results, the Random Forest model is my top performing model with an accuracy rate of 55% and precision scores of 56% & 55% for the 'up' & 'down' scenarios, respectively.  "
   ]
  },
  {
   "cell_type": "markdown",
   "metadata": {},
   "source": [
    "# Test"
   ]
  },
  {
   "cell_type": "code",
   "execution_count": 371,
   "metadata": {},
   "outputs": [],
   "source": [
    "rf = RandomForestClassifier(bootstrap=True, \n",
    "                            class_weight=None, \n",
    "                            criterion='gini',\n",
    "                            min_samples_leaf=3,\n",
    "                            n_estimators=10,\n",
    "                            max_depth=3, \n",
    "                            random_state=123)"
   ]
  },
  {
   "cell_type": "code",
   "execution_count": 372,
   "metadata": {},
   "outputs": [
    {
     "data": {
      "text/plain": [
       "RandomForestClassifier(max_depth=3, min_samples_leaf=3, n_estimators=10,\n",
       "                       random_state=123)"
      ]
     },
     "execution_count": 372,
     "metadata": {},
     "output_type": "execute_result"
    }
   ],
   "source": [
    "# Fit the model to the Train data\n",
    "rf.fit(X_test, y_test)"
   ]
  },
  {
   "cell_type": "code",
   "execution_count": 373,
   "metadata": {},
   "outputs": [],
   "source": [
    "# Make predictions\n",
    "y_pred_rf = rf.predict(X_test)"
   ]
  },
  {
   "cell_type": "code",
   "execution_count": 374,
   "metadata": {},
   "outputs": [
    {
     "name": "stdout",
     "output_type": "stream",
     "text": [
      "Accuracy of random forest classifier on test set: 0.52\n"
     ]
    }
   ],
   "source": [
    "print('Accuracy of random forest classifier on test set: {:.2f}'\n",
    "     .format(rf.score(X_train, y_train)))"
   ]
  },
  {
   "cell_type": "markdown",
   "metadata": {},
   "source": [
    "# Conclusion & Next Steps"
   ]
  },
  {
   "cell_type": "markdown",
   "metadata": {},
   "source": [
    "Conclusion: The Random Forest machine learning model was able to utilize the momentum indicators included as features and provide value in its predictions.  Specifically, it was 3% more accurate than the Baseline but, more importantly, the precision metrics were equally as robust across both 'up' (56%) and 'down' (55%) delta predictions. These recommendations are actionable considering we outperform the Baseline with either a 'long' or 'short' prediction.  The goal was to identify reliable 'long' and 'short' predictions with a level of confidence that exceeds the Baseline so the precision metrics were significant in determining confidence in either of the model's predictions.  Recall metrics weren't considered because the goal was not to capture as many of either the 'long' or 'short' opportunities but to maximize predictive performance in either direction.  Considering the Baseline has a 100% 'long' recall with 52% overall accuracy, I believe the Random Forest model achieved the goal.   \n",
    "\n",
    "* Considering the fact that a lot of the momentum indicators included in the model are usually deployed in conjunction with a signal, I'd say the model did a good job of interpreting the indicators and extrapolating predictive trends.  \n",
    "* In the Random Forest model, the features that were weighted more heavily in the model were the 'observed' delta features and the simple momentum indicators that weight the most recent data more heavily.  \n",
    "    * The indicators that are normally coupled with a signal event (RSI & MACD) were significantly weighted but carried the lowest importance within the model.  The assigned importance ('weightings') suggests the model was able to extrapolate useful information from the indicators but left room for improvement by incorporating a 'signal' event.  In fact, the MACD indicator is a relationship between the 12-period EMA & 26-period EMA features.  The 12-period EMA indicator was the most heavily weighted feature in the model.\n",
    "    \n",
    "Next Steps:\n",
    "\n",
    "* In order to improve on the predictive value of the model, we could add signals to those indicators where normally deployed.  The signals would try and capture the most likely scenarios and would decrease the noise by focusing on these high probability selections.  We could then evaluate the model performance incorporating this selectivity.  \n",
    "\n",
    "* Further evaluation: We can see from the model results that we can outperform the Baseline and do it reliably in both directions.  A 3-4% outperformance doesn't appear to be significant but, in terms of an investment, suggests the model is profitable.  Performance here only encompasses correctly predicting the opportunities, the model did not measure what kind of returns could be expected with a 55-56% success rate.  Additionally, we did not incorporate the costs of execution into the evaluation.  In order to do so, we could run the predictions versus a mock scenario to further evaluate how what a 55-56% success rate translates into return wise.  "
   ]
  },
  {
   "cell_type": "code",
   "execution_count": null,
   "metadata": {},
   "outputs": [],
   "source": []
  }
 ],
 "metadata": {
  "kernelspec": {
   "display_name": "Python 3",
   "language": "python",
   "name": "python3"
  },
  "language_info": {
   "codemirror_mode": {
    "name": "ipython",
    "version": 3
   },
   "file_extension": ".py",
   "mimetype": "text/x-python",
   "name": "python",
   "nbconvert_exporter": "python",
   "pygments_lexer": "ipython3",
   "version": "3.8.5"
  }
 },
 "nbformat": 4,
 "nbformat_minor": 4
}
