{
 "cells": [
  {
   "cell_type": "code",
   "execution_count": 446,
   "metadata": {},
   "outputs": [],
   "source": [
    "# for presentation purposes\n",
    "import warnings\n",
    "warnings.filterwarnings(\"ignore\")\n",
    "\n",
    "import numpy as np\n",
    "import pandas as pd\n",
    "from math import floor\n",
    "from math import sqrt\n",
    "from scipy import stats\n",
    "\n",
    "# visualize \n",
    "import matplotlib.pyplot as plt\n",
    "%matplotlib inline\n",
    "import seaborn as sns\n",
    "\n",
    "\n",
    "# working with dates\n",
    "from datetime import datetime\n",
    "\n",
    "# to evaluated performance using rmse\n",
    "from sklearn.metrics import mean_squared_error\n",
    "from math import sqrt \n",
    "\n",
    "from sklearn.model_selection import train_test_split\n",
    "\n",
    "# turn off pink boxes for demo\n",
    "import warnings\n",
    "warnings.filterwarnings(\"ignore\")\n",
    "\n",
    "# for tsa \n",
    "import statsmodels.api as sm\n",
    "\n",
    "# holt's linear trend model. \n",
    "from statsmodels.tsa.api import Holt"
   ]
  },
  {
   "cell_type": "code",
   "execution_count": 352,
   "metadata": {},
   "outputs": [],
   "source": [
    "# plotting defaults\n",
    "plt.rc('figure', figsize=(13, 7))\n",
    "plt.style.use('seaborn-whitegrid')\n",
    "plt.rc('font', size=16)"
   ]
  },
  {
   "cell_type": "markdown",
   "metadata": {},
   "source": [
    "# Acquire"
   ]
  },
  {
   "cell_type": "code",
   "execution_count": 353,
   "metadata": {},
   "outputs": [],
   "source": [
    "eth = pd.read_csv('ETH-USD.csv')"
   ]
  },
  {
   "cell_type": "code",
   "execution_count": 354,
   "metadata": {},
   "outputs": [
    {
     "data": {
      "text/html": [
       "<div>\n",
       "<style scoped>\n",
       "    .dataframe tbody tr th:only-of-type {\n",
       "        vertical-align: middle;\n",
       "    }\n",
       "\n",
       "    .dataframe tbody tr th {\n",
       "        vertical-align: top;\n",
       "    }\n",
       "\n",
       "    .dataframe thead th {\n",
       "        text-align: right;\n",
       "    }\n",
       "</style>\n",
       "<table border=\"1\" class=\"dataframe\">\n",
       "  <thead>\n",
       "    <tr style=\"text-align: right;\">\n",
       "      <th></th>\n",
       "      <th>Date</th>\n",
       "      <th>Open</th>\n",
       "      <th>High</th>\n",
       "      <th>Low</th>\n",
       "      <th>Close</th>\n",
       "      <th>Adj Close</th>\n",
       "      <th>Volume</th>\n",
       "    </tr>\n",
       "  </thead>\n",
       "  <tbody>\n",
       "    <tr>\n",
       "      <th>0</th>\n",
       "      <td>2015-08-08</td>\n",
       "      <td>2.793760</td>\n",
       "      <td>2.798810</td>\n",
       "      <td>0.714725</td>\n",
       "      <td>0.753325</td>\n",
       "      <td>0.753325</td>\n",
       "      <td>674188.0</td>\n",
       "    </tr>\n",
       "    <tr>\n",
       "      <th>1</th>\n",
       "      <td>2015-08-09</td>\n",
       "      <td>0.706136</td>\n",
       "      <td>0.879810</td>\n",
       "      <td>0.629191</td>\n",
       "      <td>0.701897</td>\n",
       "      <td>0.701897</td>\n",
       "      <td>532170.0</td>\n",
       "    </tr>\n",
       "    <tr>\n",
       "      <th>2</th>\n",
       "      <td>2015-08-10</td>\n",
       "      <td>0.713989</td>\n",
       "      <td>0.729854</td>\n",
       "      <td>0.636546</td>\n",
       "      <td>0.708448</td>\n",
       "      <td>0.708448</td>\n",
       "      <td>405283.0</td>\n",
       "    </tr>\n",
       "    <tr>\n",
       "      <th>3</th>\n",
       "      <td>2015-08-11</td>\n",
       "      <td>0.708087</td>\n",
       "      <td>1.131410</td>\n",
       "      <td>0.663235</td>\n",
       "      <td>1.067860</td>\n",
       "      <td>1.067860</td>\n",
       "      <td>1463100.0</td>\n",
       "    </tr>\n",
       "    <tr>\n",
       "      <th>4</th>\n",
       "      <td>2015-08-12</td>\n",
       "      <td>1.058750</td>\n",
       "      <td>1.289940</td>\n",
       "      <td>0.883608</td>\n",
       "      <td>1.217440</td>\n",
       "      <td>1.217440</td>\n",
       "      <td>2150620.0</td>\n",
       "    </tr>\n",
       "  </tbody>\n",
       "</table>\n",
       "</div>"
      ],
      "text/plain": [
       "         Date      Open      High       Low     Close  Adj Close     Volume\n",
       "0  2015-08-08  2.793760  2.798810  0.714725  0.753325   0.753325   674188.0\n",
       "1  2015-08-09  0.706136  0.879810  0.629191  0.701897   0.701897   532170.0\n",
       "2  2015-08-10  0.713989  0.729854  0.636546  0.708448   0.708448   405283.0\n",
       "3  2015-08-11  0.708087  1.131410  0.663235  1.067860   1.067860  1463100.0\n",
       "4  2015-08-12  1.058750  1.289940  0.883608  1.217440   1.217440  2150620.0"
      ]
     },
     "execution_count": 354,
     "metadata": {},
     "output_type": "execute_result"
    }
   ],
   "source": [
    "eth.head()"
   ]
  },
  {
   "cell_type": "code",
   "execution_count": 355,
   "metadata": {},
   "outputs": [
    {
     "name": "stdout",
     "output_type": "stream",
     "text": [
      "<class 'pandas.core.frame.DataFrame'>\n",
      "RangeIndex: 2120 entries, 0 to 2119\n",
      "Data columns (total 7 columns):\n",
      " #   Column     Non-Null Count  Dtype  \n",
      "---  ------     --------------  -----  \n",
      " 0   Date       2120 non-null   object \n",
      " 1   Open       2116 non-null   float64\n",
      " 2   High       2116 non-null   float64\n",
      " 3   Low        2116 non-null   float64\n",
      " 4   Close      2116 non-null   float64\n",
      " 5   Adj Close  2116 non-null   float64\n",
      " 6   Volume     2116 non-null   float64\n",
      "dtypes: float64(6), object(1)\n",
      "memory usage: 116.1+ KB\n"
     ]
    }
   ],
   "source": [
    "eth.info()"
   ]
  },
  {
   "cell_type": "code",
   "execution_count": 356,
   "metadata": {},
   "outputs": [
    {
     "data": {
      "text/plain": [
       "Date         0\n",
       "Open         4\n",
       "High         4\n",
       "Low          4\n",
       "Close        4\n",
       "Adj Close    4\n",
       "Volume       4\n",
       "dtype: int64"
      ]
     },
     "execution_count": 356,
     "metadata": {},
     "output_type": "execute_result"
    }
   ],
   "source": [
    "# check for missing/null data\n",
    "eth.isnull().sum()"
   ]
  },
  {
   "cell_type": "code",
   "execution_count": 357,
   "metadata": {},
   "outputs": [
    {
     "data": {
      "text/html": [
       "<div>\n",
       "<style scoped>\n",
       "    .dataframe tbody tr th:only-of-type {\n",
       "        vertical-align: middle;\n",
       "    }\n",
       "\n",
       "    .dataframe tbody tr th {\n",
       "        vertical-align: top;\n",
       "    }\n",
       "\n",
       "    .dataframe thead th {\n",
       "        text-align: right;\n",
       "    }\n",
       "</style>\n",
       "<table border=\"1\" class=\"dataframe\">\n",
       "  <thead>\n",
       "    <tr style=\"text-align: right;\">\n",
       "      <th></th>\n",
       "      <th>Open</th>\n",
       "      <th>High</th>\n",
       "      <th>Low</th>\n",
       "      <th>Close</th>\n",
       "      <th>Adj Close</th>\n",
       "      <th>Volume</th>\n",
       "    </tr>\n",
       "  </thead>\n",
       "  <tbody>\n",
       "    <tr>\n",
       "      <th>count</th>\n",
       "      <td>2116.000000</td>\n",
       "      <td>2116.000000</td>\n",
       "      <td>2116.000000</td>\n",
       "      <td>2116.000000</td>\n",
       "      <td>2116.000000</td>\n",
       "      <td>2.116000e+03</td>\n",
       "    </tr>\n",
       "    <tr>\n",
       "      <th>mean</th>\n",
       "      <td>345.996625</td>\n",
       "      <td>359.900218</td>\n",
       "      <td>330.685773</td>\n",
       "      <td>347.228301</td>\n",
       "      <td>347.228301</td>\n",
       "      <td>6.653876e+09</td>\n",
       "    </tr>\n",
       "    <tr>\n",
       "      <th>std</th>\n",
       "      <td>540.224970</td>\n",
       "      <td>566.906229</td>\n",
       "      <td>510.258962</td>\n",
       "      <td>542.654011</td>\n",
       "      <td>542.654011</td>\n",
       "      <td>1.035570e+10</td>\n",
       "    </tr>\n",
       "    <tr>\n",
       "      <th>min</th>\n",
       "      <td>0.431589</td>\n",
       "      <td>0.482988</td>\n",
       "      <td>0.420897</td>\n",
       "      <td>0.434829</td>\n",
       "      <td>0.434829</td>\n",
       "      <td>1.021280e+05</td>\n",
       "    </tr>\n",
       "    <tr>\n",
       "      <th>25%</th>\n",
       "      <td>13.281750</td>\n",
       "      <td>13.855525</td>\n",
       "      <td>13.032900</td>\n",
       "      <td>13.325150</td>\n",
       "      <td>13.325150</td>\n",
       "      <td>3.605552e+07</td>\n",
       "    </tr>\n",
       "    <tr>\n",
       "      <th>50%</th>\n",
       "      <td>194.705276</td>\n",
       "      <td>201.004501</td>\n",
       "      <td>187.054772</td>\n",
       "      <td>194.787369</td>\n",
       "      <td>194.787369</td>\n",
       "      <td>2.021149e+09</td>\n",
       "    </tr>\n",
       "    <tr>\n",
       "      <th>75%</th>\n",
       "      <td>371.200424</td>\n",
       "      <td>383.609542</td>\n",
       "      <td>363.656357</td>\n",
       "      <td>371.154121</td>\n",
       "      <td>371.154121</td>\n",
       "      <td>9.060469e+09</td>\n",
       "    </tr>\n",
       "    <tr>\n",
       "      <th>max</th>\n",
       "      <td>4174.635742</td>\n",
       "      <td>4362.350586</td>\n",
       "      <td>3785.848633</td>\n",
       "      <td>4168.701172</td>\n",
       "      <td>4168.701172</td>\n",
       "      <td>8.448291e+10</td>\n",
       "    </tr>\n",
       "  </tbody>\n",
       "</table>\n",
       "</div>"
      ],
      "text/plain": [
       "              Open         High          Low        Close    Adj Close  \\\n",
       "count  2116.000000  2116.000000  2116.000000  2116.000000  2116.000000   \n",
       "mean    345.996625   359.900218   330.685773   347.228301   347.228301   \n",
       "std     540.224970   566.906229   510.258962   542.654011   542.654011   \n",
       "min       0.431589     0.482988     0.420897     0.434829     0.434829   \n",
       "25%      13.281750    13.855525    13.032900    13.325150    13.325150   \n",
       "50%     194.705276   201.004501   187.054772   194.787369   194.787369   \n",
       "75%     371.200424   383.609542   363.656357   371.154121   371.154121   \n",
       "max    4174.635742  4362.350586  3785.848633  4168.701172  4168.701172   \n",
       "\n",
       "             Volume  \n",
       "count  2.116000e+03  \n",
       "mean   6.653876e+09  \n",
       "std    1.035570e+10  \n",
       "min    1.021280e+05  \n",
       "25%    3.605552e+07  \n",
       "50%    2.021149e+09  \n",
       "75%    9.060469e+09  \n",
       "max    8.448291e+10  "
      ]
     },
     "execution_count": 357,
     "metadata": {},
     "output_type": "execute_result"
    }
   ],
   "source": [
    "eth.describe()"
   ]
  },
  {
   "cell_type": "code",
   "execution_count": 358,
   "metadata": {},
   "outputs": [
    {
     "data": {
      "text/html": [
       "<div>\n",
       "<style scoped>\n",
       "    .dataframe tbody tr th:only-of-type {\n",
       "        vertical-align: middle;\n",
       "    }\n",
       "\n",
       "    .dataframe tbody tr th {\n",
       "        vertical-align: top;\n",
       "    }\n",
       "\n",
       "    .dataframe thead th {\n",
       "        text-align: right;\n",
       "    }\n",
       "</style>\n",
       "<table border=\"1\" class=\"dataframe\">\n",
       "  <thead>\n",
       "    <tr style=\"text-align: right;\">\n",
       "      <th></th>\n",
       "      <th>Date</th>\n",
       "      <th>Open</th>\n",
       "      <th>High</th>\n",
       "      <th>Low</th>\n",
       "      <th>Close</th>\n",
       "      <th>Adj Close</th>\n",
       "      <th>Volume</th>\n",
       "    </tr>\n",
       "  </thead>\n",
       "  <tbody>\n",
       "    <tr>\n",
       "      <th>1714</th>\n",
       "      <td>2020-04-17</td>\n",
       "      <td>NaN</td>\n",
       "      <td>NaN</td>\n",
       "      <td>NaN</td>\n",
       "      <td>NaN</td>\n",
       "      <td>NaN</td>\n",
       "      <td>NaN</td>\n",
       "    </tr>\n",
       "    <tr>\n",
       "      <th>1889</th>\n",
       "      <td>2020-10-09</td>\n",
       "      <td>NaN</td>\n",
       "      <td>NaN</td>\n",
       "      <td>NaN</td>\n",
       "      <td>NaN</td>\n",
       "      <td>NaN</td>\n",
       "      <td>NaN</td>\n",
       "    </tr>\n",
       "    <tr>\n",
       "      <th>1892</th>\n",
       "      <td>2020-10-12</td>\n",
       "      <td>NaN</td>\n",
       "      <td>NaN</td>\n",
       "      <td>NaN</td>\n",
       "      <td>NaN</td>\n",
       "      <td>NaN</td>\n",
       "      <td>NaN</td>\n",
       "    </tr>\n",
       "    <tr>\n",
       "      <th>1893</th>\n",
       "      <td>2020-10-13</td>\n",
       "      <td>NaN</td>\n",
       "      <td>NaN</td>\n",
       "      <td>NaN</td>\n",
       "      <td>NaN</td>\n",
       "      <td>NaN</td>\n",
       "      <td>NaN</td>\n",
       "    </tr>\n",
       "  </tbody>\n",
       "</table>\n",
       "</div>"
      ],
      "text/plain": [
       "            Date  Open  High  Low  Close  Adj Close  Volume\n",
       "1714  2020-04-17   NaN   NaN  NaN    NaN        NaN     NaN\n",
       "1889  2020-10-09   NaN   NaN  NaN    NaN        NaN     NaN\n",
       "1892  2020-10-12   NaN   NaN  NaN    NaN        NaN     NaN\n",
       "1893  2020-10-13   NaN   NaN  NaN    NaN        NaN     NaN"
      ]
     },
     "execution_count": 358,
     "metadata": {},
     "output_type": "execute_result"
    }
   ],
   "source": [
    "# view null rows\n",
    "eth[eth['Open'].isna()]"
   ]
  },
  {
   "cell_type": "markdown",
   "metadata": {},
   "source": [
    "Note: Looks like all nulls in same rows. Considering the minimal amount of null values, I think a simple interopation would be acceptable here"
   ]
  },
  {
   "cell_type": "markdown",
   "metadata": {},
   "source": [
    "# Prepare"
   ]
  },
  {
   "cell_type": "markdown",
   "metadata": {},
   "source": [
    "#### Data Cleanup"
   ]
  },
  {
   "cell_type": "code",
   "execution_count": 359,
   "metadata": {},
   "outputs": [],
   "source": [
    "# handle null data by interpolating missing values \n",
    "eth = eth.interpolate(method='linear')"
   ]
  },
  {
   "cell_type": "code",
   "execution_count": 360,
   "metadata": {},
   "outputs": [
    {
     "data": {
      "text/plain": [
       "Date         0\n",
       "Open         0\n",
       "High         0\n",
       "Low          0\n",
       "Close        0\n",
       "Adj Close    0\n",
       "Volume       0\n",
       "dtype: int64"
      ]
     },
     "execution_count": 360,
     "metadata": {},
     "output_type": "execute_result"
    }
   ],
   "source": [
    "eth.isnull().sum()"
   ]
  },
  {
   "cell_type": "code",
   "execution_count": 361,
   "metadata": {},
   "outputs": [
    {
     "name": "stdout",
     "output_type": "stream",
     "text": [
      "<class 'pandas.core.frame.DataFrame'>\n",
      "RangeIndex: 2120 entries, 0 to 2119\n",
      "Data columns (total 7 columns):\n",
      " #   Column     Non-Null Count  Dtype  \n",
      "---  ------     --------------  -----  \n",
      " 0   Date       2120 non-null   object \n",
      " 1   Open       2120 non-null   float64\n",
      " 2   High       2120 non-null   float64\n",
      " 3   Low        2120 non-null   float64\n",
      " 4   Close      2120 non-null   float64\n",
      " 5   Adj Close  2120 non-null   float64\n",
      " 6   Volume     2120 non-null   float64\n",
      "dtypes: float64(6), object(1)\n",
      "memory usage: 116.1+ KB\n"
     ]
    }
   ],
   "source": [
    "eth.info()"
   ]
  },
  {
   "cell_type": "code",
   "execution_count": 362,
   "metadata": {},
   "outputs": [],
   "source": [
    "# Date not in DateTime format.  Convert and set as index\n",
    "eth.Date = pd.to_datetime(eth.Date)\n",
    "eth = eth.set_index('Date').sort_index()"
   ]
  },
  {
   "cell_type": "code",
   "execution_count": 363,
   "metadata": {},
   "outputs": [
    {
     "data": {
      "text/html": [
       "<div>\n",
       "<style scoped>\n",
       "    .dataframe tbody tr th:only-of-type {\n",
       "        vertical-align: middle;\n",
       "    }\n",
       "\n",
       "    .dataframe tbody tr th {\n",
       "        vertical-align: top;\n",
       "    }\n",
       "\n",
       "    .dataframe thead th {\n",
       "        text-align: right;\n",
       "    }\n",
       "</style>\n",
       "<table border=\"1\" class=\"dataframe\">\n",
       "  <thead>\n",
       "    <tr style=\"text-align: right;\">\n",
       "      <th></th>\n",
       "      <th>Open</th>\n",
       "      <th>High</th>\n",
       "      <th>Low</th>\n",
       "      <th>Close</th>\n",
       "      <th>Adj Close</th>\n",
       "      <th>Volume</th>\n",
       "    </tr>\n",
       "    <tr>\n",
       "      <th>Date</th>\n",
       "      <th></th>\n",
       "      <th></th>\n",
       "      <th></th>\n",
       "      <th></th>\n",
       "      <th></th>\n",
       "      <th></th>\n",
       "    </tr>\n",
       "  </thead>\n",
       "  <tbody>\n",
       "  </tbody>\n",
       "</table>\n",
       "</div>"
      ],
      "text/plain": [
       "Empty DataFrame\n",
       "Columns: [Open, High, Low, Close, Adj Close, Volume]\n",
       "Index: []"
      ]
     },
     "execution_count": 363,
     "metadata": {},
     "output_type": "execute_result"
    }
   ],
   "source": [
    "# compare Close and Adj Close.  Appear to be same info, need to confirm:\n",
    "eth[eth['Close'] != eth['Adj Close']]"
   ]
  },
  {
   "cell_type": "code",
   "execution_count": 364,
   "metadata": {},
   "outputs": [],
   "source": [
    "# columns are equivalent so drop 'Adj Close'\n",
    "eth = eth.drop(columns=('Adj Close'))"
   ]
  },
  {
   "cell_type": "code",
   "execution_count": 365,
   "metadata": {},
   "outputs": [
    {
     "name": "stdout",
     "output_type": "stream",
     "text": [
      "<class 'pandas.core.frame.DataFrame'>\n",
      "DatetimeIndex: 2120 entries, 2015-08-08 to 2021-05-27\n",
      "Data columns (total 5 columns):\n",
      " #   Column  Non-Null Count  Dtype  \n",
      "---  ------  --------------  -----  \n",
      " 0   Open    2120 non-null   float64\n",
      " 1   High    2120 non-null   float64\n",
      " 2   Low     2120 non-null   float64\n",
      " 3   Close   2120 non-null   float64\n",
      " 4   Volume  2120 non-null   float64\n",
      "dtypes: float64(5)\n",
      "memory usage: 99.4 KB\n"
     ]
    }
   ],
   "source": [
    "eth.info()"
   ]
  },
  {
   "cell_type": "code",
   "execution_count": 366,
   "metadata": {},
   "outputs": [
    {
     "data": {
      "text/plain": [
       "Index(['Open', 'High', 'Low', 'Close', 'Volume'], dtype='object')"
      ]
     },
     "execution_count": 366,
     "metadata": {},
     "output_type": "execute_result"
    }
   ],
   "source": [
    "eth.columns"
   ]
  },
  {
   "cell_type": "code",
   "execution_count": 367,
   "metadata": {},
   "outputs": [],
   "source": [
    "# drop columns that aren't going to be used as features or in feature engineering\n",
    "eth = eth.drop(columns=['Open', 'High', 'Low'])"
   ]
  },
  {
   "cell_type": "code",
   "execution_count": 368,
   "metadata": {},
   "outputs": [
    {
     "data": {
      "text/html": [
       "<div>\n",
       "<style scoped>\n",
       "    .dataframe tbody tr th:only-of-type {\n",
       "        vertical-align: middle;\n",
       "    }\n",
       "\n",
       "    .dataframe tbody tr th {\n",
       "        vertical-align: top;\n",
       "    }\n",
       "\n",
       "    .dataframe thead th {\n",
       "        text-align: right;\n",
       "    }\n",
       "</style>\n",
       "<table border=\"1\" class=\"dataframe\">\n",
       "  <thead>\n",
       "    <tr style=\"text-align: right;\">\n",
       "      <th></th>\n",
       "      <th>Close</th>\n",
       "      <th>Volume</th>\n",
       "    </tr>\n",
       "    <tr>\n",
       "      <th>Date</th>\n",
       "      <th></th>\n",
       "      <th></th>\n",
       "    </tr>\n",
       "  </thead>\n",
       "  <tbody>\n",
       "    <tr>\n",
       "      <th>2015-08-08</th>\n",
       "      <td>0.753325</td>\n",
       "      <td>674188.0</td>\n",
       "    </tr>\n",
       "    <tr>\n",
       "      <th>2015-08-09</th>\n",
       "      <td>0.701897</td>\n",
       "      <td>532170.0</td>\n",
       "    </tr>\n",
       "    <tr>\n",
       "      <th>2015-08-10</th>\n",
       "      <td>0.708448</td>\n",
       "      <td>405283.0</td>\n",
       "    </tr>\n",
       "    <tr>\n",
       "      <th>2015-08-11</th>\n",
       "      <td>1.067860</td>\n",
       "      <td>1463100.0</td>\n",
       "    </tr>\n",
       "    <tr>\n",
       "      <th>2015-08-12</th>\n",
       "      <td>1.217440</td>\n",
       "      <td>2150620.0</td>\n",
       "    </tr>\n",
       "  </tbody>\n",
       "</table>\n",
       "</div>"
      ],
      "text/plain": [
       "               Close     Volume\n",
       "Date                           \n",
       "2015-08-08  0.753325   674188.0\n",
       "2015-08-09  0.701897   532170.0\n",
       "2015-08-10  0.708448   405283.0\n",
       "2015-08-11  1.067860  1463100.0\n",
       "2015-08-12  1.217440  2150620.0"
      ]
     },
     "execution_count": 368,
     "metadata": {},
     "output_type": "execute_result"
    }
   ],
   "source": [
    "eth.head()"
   ]
  },
  {
   "cell_type": "markdown",
   "metadata": {},
   "source": [
    "#### Feature Engineering "
   ]
  },
  {
   "cell_type": "code",
   "execution_count": 369,
   "metadata": {},
   "outputs": [],
   "source": [
    "# Create % change Day-over-Day data columns\n",
    "eth['close_DoD'] = round(eth.Close.pct_change(), 2)\n",
    "eth['vol_DoD'] = round(eth.Volume.pct_change(), 2)"
   ]
  },
  {
   "cell_type": "code",
   "execution_count": 370,
   "metadata": {},
   "outputs": [],
   "source": [
    "# Create Close 50 & 200 day rolling averages (Close & Volume)\n",
    "rolling_df = eth.assign(\n",
    "rolling_50C=lambda eth: eth.Close.rolling(50).mean(),\n",
    "rolling_200C=lambda eth: eth.Close.rolling(200).mean(),\n",
    "rolling_50V=lambda eth: eth.Volume.rolling(50).mean(),\n",
    "rolling_200V=lambda eth: eth.Volume.rolling(200).mean())"
   ]
  },
  {
   "cell_type": "code",
   "execution_count": 371,
   "metadata": {},
   "outputs": [
    {
     "data": {
      "text/html": [
       "<div>\n",
       "<style scoped>\n",
       "    .dataframe tbody tr th:only-of-type {\n",
       "        vertical-align: middle;\n",
       "    }\n",
       "\n",
       "    .dataframe tbody tr th {\n",
       "        vertical-align: top;\n",
       "    }\n",
       "\n",
       "    .dataframe thead th {\n",
       "        text-align: right;\n",
       "    }\n",
       "</style>\n",
       "<table border=\"1\" class=\"dataframe\">\n",
       "  <thead>\n",
       "    <tr style=\"text-align: right;\">\n",
       "      <th></th>\n",
       "      <th>Close</th>\n",
       "      <th>Volume</th>\n",
       "      <th>close_DoD</th>\n",
       "      <th>vol_DoD</th>\n",
       "      <th>rolling_50C</th>\n",
       "      <th>rolling_200C</th>\n",
       "      <th>rolling_50V</th>\n",
       "      <th>rolling_200V</th>\n",
       "    </tr>\n",
       "    <tr>\n",
       "      <th>Date</th>\n",
       "      <th></th>\n",
       "      <th></th>\n",
       "      <th></th>\n",
       "      <th></th>\n",
       "      <th></th>\n",
       "      <th></th>\n",
       "      <th></th>\n",
       "      <th></th>\n",
       "    </tr>\n",
       "  </thead>\n",
       "  <tbody>\n",
       "    <tr>\n",
       "      <th>2015-08-08</th>\n",
       "      <td>0.753325</td>\n",
       "      <td>674188.0</td>\n",
       "      <td>NaN</td>\n",
       "      <td>NaN</td>\n",
       "      <td>NaN</td>\n",
       "      <td>NaN</td>\n",
       "      <td>NaN</td>\n",
       "      <td>NaN</td>\n",
       "    </tr>\n",
       "    <tr>\n",
       "      <th>2015-08-09</th>\n",
       "      <td>0.701897</td>\n",
       "      <td>532170.0</td>\n",
       "      <td>-0.07</td>\n",
       "      <td>-0.21</td>\n",
       "      <td>NaN</td>\n",
       "      <td>NaN</td>\n",
       "      <td>NaN</td>\n",
       "      <td>NaN</td>\n",
       "    </tr>\n",
       "    <tr>\n",
       "      <th>2015-08-10</th>\n",
       "      <td>0.708448</td>\n",
       "      <td>405283.0</td>\n",
       "      <td>0.01</td>\n",
       "      <td>-0.24</td>\n",
       "      <td>NaN</td>\n",
       "      <td>NaN</td>\n",
       "      <td>NaN</td>\n",
       "      <td>NaN</td>\n",
       "    </tr>\n",
       "    <tr>\n",
       "      <th>2015-08-11</th>\n",
       "      <td>1.067860</td>\n",
       "      <td>1463100.0</td>\n",
       "      <td>0.51</td>\n",
       "      <td>2.61</td>\n",
       "      <td>NaN</td>\n",
       "      <td>NaN</td>\n",
       "      <td>NaN</td>\n",
       "      <td>NaN</td>\n",
       "    </tr>\n",
       "    <tr>\n",
       "      <th>2015-08-12</th>\n",
       "      <td>1.217440</td>\n",
       "      <td>2150620.0</td>\n",
       "      <td>0.14</td>\n",
       "      <td>0.47</td>\n",
       "      <td>NaN</td>\n",
       "      <td>NaN</td>\n",
       "      <td>NaN</td>\n",
       "      <td>NaN</td>\n",
       "    </tr>\n",
       "  </tbody>\n",
       "</table>\n",
       "</div>"
      ],
      "text/plain": [
       "               Close     Volume  close_DoD  vol_DoD  rolling_50C  \\\n",
       "Date                                                               \n",
       "2015-08-08  0.753325   674188.0        NaN      NaN          NaN   \n",
       "2015-08-09  0.701897   532170.0      -0.07    -0.21          NaN   \n",
       "2015-08-10  0.708448   405283.0       0.01    -0.24          NaN   \n",
       "2015-08-11  1.067860  1463100.0       0.51     2.61          NaN   \n",
       "2015-08-12  1.217440  2150620.0       0.14     0.47          NaN   \n",
       "\n",
       "            rolling_200C  rolling_50V  rolling_200V  \n",
       "Date                                                 \n",
       "2015-08-08           NaN          NaN           NaN  \n",
       "2015-08-09           NaN          NaN           NaN  \n",
       "2015-08-10           NaN          NaN           NaN  \n",
       "2015-08-11           NaN          NaN           NaN  \n",
       "2015-08-12           NaN          NaN           NaN  "
      ]
     },
     "execution_count": 371,
     "metadata": {},
     "output_type": "execute_result"
    }
   ],
   "source": [
    "# Housecleaning df name to make later code less clunky \n",
    "dfm = rolling_df\n",
    "dfm.head()"
   ]
  },
  {
   "cell_type": "code",
   "execution_count": 372,
   "metadata": {},
   "outputs": [],
   "source": [
    "# Exponential Moving Average Indicator Function\n",
    "def EMA(dfm, period=7, column='Close'):\n",
    "    return dfm[column].ewm(span=period, adjust=False).mean()"
   ]
  },
  {
   "cell_type": "code",
   "execution_count": 373,
   "metadata": {},
   "outputs": [],
   "source": [
    "# Relative Strength Indicator Function (Exponential Moving Average)\n",
    "def RSI(df, period, column):\n",
    "    window_length= period\n",
    "    # Dates\n",
    "    start = eth.index.min()\n",
    "    end = eth.index.max()\n",
    "    # Get the difference in price from previous step\n",
    "    delta = eth.Close.diff()\n",
    "    # Get rid of the first row, which is NaN since it did not have a previous \n",
    "    # row to calculate the differences\n",
    "    delta = delta[1:]\n",
    "    # Make the positive gains (up) and negative gains (down) Series\n",
    "    up, down = delta.clip(lower=0), delta.clip(upper=0)\n",
    "    # Calculate the EWMA\n",
    "    roll_up1 = up.ewm(span=window_length).mean()\n",
    "    roll_down1 = down.abs().ewm(span=window_length).mean()\n",
    "\n",
    "    # Calculate the RSI based on EWMA\n",
    "    RS1 = roll_up1 / roll_down1\n",
    "    RSI = 100.0 - (100.0 / (1.0 + RS1))\n",
    "    \n",
    "    df['RSI'+str(period)] = RSI\n",
    "    return df"
   ]
  },
  {
   "cell_type": "code",
   "execution_count": 374,
   "metadata": {},
   "outputs": [],
   "source": [
    "# Run functions to create columns in df\n",
    "RSI(dfm, 7, 'Close')\n",
    "RSI(dfm, 12, 'Close')\n",
    "RSI(dfm, 26, 'Close')\n",
    "dfm['EMA7'] = EMA(dfm, period=7, column='Close')\n",
    "dfm['EMA12'] = EMA(dfm, period=12, column='Close')\n",
    "dfm['EMA26'] = EMA(dfm, period=26, column='Close')"
   ]
  },
  {
   "cell_type": "code",
   "execution_count": 375,
   "metadata": {},
   "outputs": [
    {
     "data": {
      "text/html": [
       "<div>\n",
       "<style scoped>\n",
       "    .dataframe tbody tr th:only-of-type {\n",
       "        vertical-align: middle;\n",
       "    }\n",
       "\n",
       "    .dataframe tbody tr th {\n",
       "        vertical-align: top;\n",
       "    }\n",
       "\n",
       "    .dataframe thead th {\n",
       "        text-align: right;\n",
       "    }\n",
       "</style>\n",
       "<table border=\"1\" class=\"dataframe\">\n",
       "  <thead>\n",
       "    <tr style=\"text-align: right;\">\n",
       "      <th></th>\n",
       "      <th>Close</th>\n",
       "      <th>Volume</th>\n",
       "      <th>close_DoD</th>\n",
       "      <th>vol_DoD</th>\n",
       "      <th>rolling_50C</th>\n",
       "      <th>rolling_200C</th>\n",
       "      <th>rolling_50V</th>\n",
       "      <th>rolling_200V</th>\n",
       "      <th>RSI7</th>\n",
       "      <th>RSI12</th>\n",
       "      <th>RSI26</th>\n",
       "      <th>EMA7</th>\n",
       "      <th>EMA12</th>\n",
       "      <th>EMA26</th>\n",
       "    </tr>\n",
       "    <tr>\n",
       "      <th>Date</th>\n",
       "      <th></th>\n",
       "      <th></th>\n",
       "      <th></th>\n",
       "      <th></th>\n",
       "      <th></th>\n",
       "      <th></th>\n",
       "      <th></th>\n",
       "      <th></th>\n",
       "      <th></th>\n",
       "      <th></th>\n",
       "      <th></th>\n",
       "      <th></th>\n",
       "      <th></th>\n",
       "      <th></th>\n",
       "    </tr>\n",
       "  </thead>\n",
       "  <tbody>\n",
       "    <tr>\n",
       "      <th>2021-05-23</th>\n",
       "      <td>2109.579834</td>\n",
       "      <td>5.600572e+10</td>\n",
       "      <td>-0.08</td>\n",
       "      <td>0.33</td>\n",
       "      <td>2787.276658</td>\n",
       "      <td>1582.527753</td>\n",
       "      <td>4.196180e+10</td>\n",
       "      <td>3.013594e+10</td>\n",
       "      <td>18.430450</td>\n",
       "      <td>24.147085</td>\n",
       "      <td>34.381818</td>\n",
       "      <td>2634.165140</td>\n",
       "      <td>2891.064501</td>\n",
       "      <td>3015.199330</td>\n",
       "    </tr>\n",
       "    <tr>\n",
       "      <th>2021-05-24</th>\n",
       "      <td>2643.591064</td>\n",
       "      <td>5.369712e+10</td>\n",
       "      <td>0.25</td>\n",
       "      <td>-0.04</td>\n",
       "      <td>2798.286023</td>\n",
       "      <td>1593.675372</td>\n",
       "      <td>4.251561e+10</td>\n",
       "      <td>3.032722e+10</td>\n",
       "      <td>50.345309</td>\n",
       "      <td>43.950537</td>\n",
       "      <td>44.588112</td>\n",
       "      <td>2636.521621</td>\n",
       "      <td>2852.991665</td>\n",
       "      <td>2987.672792</td>\n",
       "    </tr>\n",
       "    <tr>\n",
       "      <th>2021-05-25</th>\n",
       "      <td>2706.628906</td>\n",
       "      <td>4.955833e+10</td>\n",
       "      <td>0.02</td>\n",
       "      <td>-0.08</td>\n",
       "      <td>2810.260857</td>\n",
       "      <td>1604.934920</td>\n",
       "      <td>4.292899e+10</td>\n",
       "      <td>3.049132e+10</td>\n",
       "      <td>53.225765</td>\n",
       "      <td>45.920259</td>\n",
       "      <td>45.665553</td>\n",
       "      <td>2654.048442</td>\n",
       "      <td>2830.474317</td>\n",
       "      <td>2966.854726</td>\n",
       "    </tr>\n",
       "    <tr>\n",
       "      <th>2021-05-26</th>\n",
       "      <td>2888.698730</td>\n",
       "      <td>4.249977e+10</td>\n",
       "      <td>0.07</td>\n",
       "      <td>-0.14</td>\n",
       "      <td>2825.667253</td>\n",
       "      <td>1617.199848</td>\n",
       "      <td>4.319453e+10</td>\n",
       "      <td>3.060946e+10</td>\n",
       "      <td>61.766904</td>\n",
       "      <td>51.712604</td>\n",
       "      <td>48.772639</td>\n",
       "      <td>2712.711014</td>\n",
       "      <td>2839.431919</td>\n",
       "      <td>2961.065393</td>\n",
       "    </tr>\n",
       "    <tr>\n",
       "      <th>2021-05-27</th>\n",
       "      <td>2776.133057</td>\n",
       "      <td>3.456504e+10</td>\n",
       "      <td>-0.04</td>\n",
       "      <td>-0.19</td>\n",
       "      <td>2841.768369</td>\n",
       "      <td>1628.812739</td>\n",
       "      <td>4.316350e+10</td>\n",
       "      <td>3.072582e+10</td>\n",
       "      <td>53.685726</td>\n",
       "      <td>47.959319</td>\n",
       "      <td>46.978847</td>\n",
       "      <td>2728.566525</td>\n",
       "      <td>2829.693633</td>\n",
       "      <td>2947.366701</td>\n",
       "    </tr>\n",
       "  </tbody>\n",
       "</table>\n",
       "</div>"
      ],
      "text/plain": [
       "                  Close        Volume  close_DoD  vol_DoD  rolling_50C  \\\n",
       "Date                                                                     \n",
       "2021-05-23  2109.579834  5.600572e+10      -0.08     0.33  2787.276658   \n",
       "2021-05-24  2643.591064  5.369712e+10       0.25    -0.04  2798.286023   \n",
       "2021-05-25  2706.628906  4.955833e+10       0.02    -0.08  2810.260857   \n",
       "2021-05-26  2888.698730  4.249977e+10       0.07    -0.14  2825.667253   \n",
       "2021-05-27  2776.133057  3.456504e+10      -0.04    -0.19  2841.768369   \n",
       "\n",
       "            rolling_200C   rolling_50V  rolling_200V       RSI7      RSI12  \\\n",
       "Date                                                                         \n",
       "2021-05-23   1582.527753  4.196180e+10  3.013594e+10  18.430450  24.147085   \n",
       "2021-05-24   1593.675372  4.251561e+10  3.032722e+10  50.345309  43.950537   \n",
       "2021-05-25   1604.934920  4.292899e+10  3.049132e+10  53.225765  45.920259   \n",
       "2021-05-26   1617.199848  4.319453e+10  3.060946e+10  61.766904  51.712604   \n",
       "2021-05-27   1628.812739  4.316350e+10  3.072582e+10  53.685726  47.959319   \n",
       "\n",
       "                RSI26         EMA7        EMA12        EMA26  \n",
       "Date                                                          \n",
       "2021-05-23  34.381818  2634.165140  2891.064501  3015.199330  \n",
       "2021-05-24  44.588112  2636.521621  2852.991665  2987.672792  \n",
       "2021-05-25  45.665553  2654.048442  2830.474317  2966.854726  \n",
       "2021-05-26  48.772639  2712.711014  2839.431919  2961.065393  \n",
       "2021-05-27  46.978847  2728.566525  2829.693633  2947.366701  "
      ]
     },
     "execution_count": 375,
     "metadata": {},
     "output_type": "execute_result"
    }
   ],
   "source": [
    "dfm.tail()"
   ]
  },
  {
   "cell_type": "code",
   "execution_count": 376,
   "metadata": {},
   "outputs": [],
   "source": [
    "# Add Crossover indicator (rollling 50 vs rolling 200)\n",
    "dfm['momentum-cross'] = round(dfm.rolling_50C/dfm.rolling_200C, 2)"
   ]
  },
  {
   "cell_type": "code",
   "execution_count": 377,
   "metadata": {},
   "outputs": [
    {
     "data": {
      "text/html": [
       "<div>\n",
       "<style scoped>\n",
       "    .dataframe tbody tr th:only-of-type {\n",
       "        vertical-align: middle;\n",
       "    }\n",
       "\n",
       "    .dataframe tbody tr th {\n",
       "        vertical-align: top;\n",
       "    }\n",
       "\n",
       "    .dataframe thead th {\n",
       "        text-align: right;\n",
       "    }\n",
       "</style>\n",
       "<table border=\"1\" class=\"dataframe\">\n",
       "  <thead>\n",
       "    <tr style=\"text-align: right;\">\n",
       "      <th></th>\n",
       "      <th>Close</th>\n",
       "      <th>Volume</th>\n",
       "      <th>close_DoD</th>\n",
       "      <th>vol_DoD</th>\n",
       "      <th>rolling_50C</th>\n",
       "      <th>rolling_200C</th>\n",
       "      <th>rolling_50V</th>\n",
       "      <th>rolling_200V</th>\n",
       "      <th>RSI7</th>\n",
       "      <th>RSI12</th>\n",
       "      <th>RSI26</th>\n",
       "      <th>EMA7</th>\n",
       "      <th>EMA12</th>\n",
       "      <th>EMA26</th>\n",
       "      <th>momentum-cross</th>\n",
       "    </tr>\n",
       "    <tr>\n",
       "      <th>Date</th>\n",
       "      <th></th>\n",
       "      <th></th>\n",
       "      <th></th>\n",
       "      <th></th>\n",
       "      <th></th>\n",
       "      <th></th>\n",
       "      <th></th>\n",
       "      <th></th>\n",
       "      <th></th>\n",
       "      <th></th>\n",
       "      <th></th>\n",
       "      <th></th>\n",
       "      <th></th>\n",
       "      <th></th>\n",
       "      <th></th>\n",
       "    </tr>\n",
       "  </thead>\n",
       "  <tbody>\n",
       "    <tr>\n",
       "      <th>2021-05-23</th>\n",
       "      <td>2109.579834</td>\n",
       "      <td>5.600572e+10</td>\n",
       "      <td>-0.08</td>\n",
       "      <td>0.33</td>\n",
       "      <td>2787.276658</td>\n",
       "      <td>1582.527753</td>\n",
       "      <td>4.196180e+10</td>\n",
       "      <td>3.013594e+10</td>\n",
       "      <td>18.430450</td>\n",
       "      <td>24.147085</td>\n",
       "      <td>34.381818</td>\n",
       "      <td>2634.165140</td>\n",
       "      <td>2891.064501</td>\n",
       "      <td>3015.199330</td>\n",
       "      <td>1.76</td>\n",
       "    </tr>\n",
       "    <tr>\n",
       "      <th>2021-05-24</th>\n",
       "      <td>2643.591064</td>\n",
       "      <td>5.369712e+10</td>\n",
       "      <td>0.25</td>\n",
       "      <td>-0.04</td>\n",
       "      <td>2798.286023</td>\n",
       "      <td>1593.675372</td>\n",
       "      <td>4.251561e+10</td>\n",
       "      <td>3.032722e+10</td>\n",
       "      <td>50.345309</td>\n",
       "      <td>43.950537</td>\n",
       "      <td>44.588112</td>\n",
       "      <td>2636.521621</td>\n",
       "      <td>2852.991665</td>\n",
       "      <td>2987.672792</td>\n",
       "      <td>1.76</td>\n",
       "    </tr>\n",
       "    <tr>\n",
       "      <th>2021-05-25</th>\n",
       "      <td>2706.628906</td>\n",
       "      <td>4.955833e+10</td>\n",
       "      <td>0.02</td>\n",
       "      <td>-0.08</td>\n",
       "      <td>2810.260857</td>\n",
       "      <td>1604.934920</td>\n",
       "      <td>4.292899e+10</td>\n",
       "      <td>3.049132e+10</td>\n",
       "      <td>53.225765</td>\n",
       "      <td>45.920259</td>\n",
       "      <td>45.665553</td>\n",
       "      <td>2654.048442</td>\n",
       "      <td>2830.474317</td>\n",
       "      <td>2966.854726</td>\n",
       "      <td>1.75</td>\n",
       "    </tr>\n",
       "    <tr>\n",
       "      <th>2021-05-26</th>\n",
       "      <td>2888.698730</td>\n",
       "      <td>4.249977e+10</td>\n",
       "      <td>0.07</td>\n",
       "      <td>-0.14</td>\n",
       "      <td>2825.667253</td>\n",
       "      <td>1617.199848</td>\n",
       "      <td>4.319453e+10</td>\n",
       "      <td>3.060946e+10</td>\n",
       "      <td>61.766904</td>\n",
       "      <td>51.712604</td>\n",
       "      <td>48.772639</td>\n",
       "      <td>2712.711014</td>\n",
       "      <td>2839.431919</td>\n",
       "      <td>2961.065393</td>\n",
       "      <td>1.75</td>\n",
       "    </tr>\n",
       "    <tr>\n",
       "      <th>2021-05-27</th>\n",
       "      <td>2776.133057</td>\n",
       "      <td>3.456504e+10</td>\n",
       "      <td>-0.04</td>\n",
       "      <td>-0.19</td>\n",
       "      <td>2841.768369</td>\n",
       "      <td>1628.812739</td>\n",
       "      <td>4.316350e+10</td>\n",
       "      <td>3.072582e+10</td>\n",
       "      <td>53.685726</td>\n",
       "      <td>47.959319</td>\n",
       "      <td>46.978847</td>\n",
       "      <td>2728.566525</td>\n",
       "      <td>2829.693633</td>\n",
       "      <td>2947.366701</td>\n",
       "      <td>1.74</td>\n",
       "    </tr>\n",
       "  </tbody>\n",
       "</table>\n",
       "</div>"
      ],
      "text/plain": [
       "                  Close        Volume  close_DoD  vol_DoD  rolling_50C  \\\n",
       "Date                                                                     \n",
       "2021-05-23  2109.579834  5.600572e+10      -0.08     0.33  2787.276658   \n",
       "2021-05-24  2643.591064  5.369712e+10       0.25    -0.04  2798.286023   \n",
       "2021-05-25  2706.628906  4.955833e+10       0.02    -0.08  2810.260857   \n",
       "2021-05-26  2888.698730  4.249977e+10       0.07    -0.14  2825.667253   \n",
       "2021-05-27  2776.133057  3.456504e+10      -0.04    -0.19  2841.768369   \n",
       "\n",
       "            rolling_200C   rolling_50V  rolling_200V       RSI7      RSI12  \\\n",
       "Date                                                                         \n",
       "2021-05-23   1582.527753  4.196180e+10  3.013594e+10  18.430450  24.147085   \n",
       "2021-05-24   1593.675372  4.251561e+10  3.032722e+10  50.345309  43.950537   \n",
       "2021-05-25   1604.934920  4.292899e+10  3.049132e+10  53.225765  45.920259   \n",
       "2021-05-26   1617.199848  4.319453e+10  3.060946e+10  61.766904  51.712604   \n",
       "2021-05-27   1628.812739  4.316350e+10  3.072582e+10  53.685726  47.959319   \n",
       "\n",
       "                RSI26         EMA7        EMA12        EMA26  momentum-cross  \n",
       "Date                                                                          \n",
       "2021-05-23  34.381818  2634.165140  2891.064501  3015.199330            1.76  \n",
       "2021-05-24  44.588112  2636.521621  2852.991665  2987.672792            1.76  \n",
       "2021-05-25  45.665553  2654.048442  2830.474317  2966.854726            1.75  \n",
       "2021-05-26  48.772639  2712.711014  2839.431919  2961.065393            1.75  \n",
       "2021-05-27  46.978847  2728.566525  2829.693633  2947.366701            1.74  "
      ]
     },
     "execution_count": 377,
     "metadata": {},
     "output_type": "execute_result"
    }
   ],
   "source": [
    "dfm.tail()"
   ]
  },
  {
   "cell_type": "code",
   "execution_count": 378,
   "metadata": {},
   "outputs": [],
   "source": [
    "# Add On Balance Volume indicator\n",
    "def obv(df):  \n",
    "    obv = (np.sign(df['Close'].diff()) * df['Volume']).fillna(0).cumsum()\n",
    "    df['OBV'] = round(obv, 0)\n",
    "    return df"
   ]
  },
  {
   "cell_type": "code",
   "execution_count": 379,
   "metadata": {},
   "outputs": [
    {
     "data": {
      "text/html": [
       "<div>\n",
       "<style scoped>\n",
       "    .dataframe tbody tr th:only-of-type {\n",
       "        vertical-align: middle;\n",
       "    }\n",
       "\n",
       "    .dataframe tbody tr th {\n",
       "        vertical-align: top;\n",
       "    }\n",
       "\n",
       "    .dataframe thead th {\n",
       "        text-align: right;\n",
       "    }\n",
       "</style>\n",
       "<table border=\"1\" class=\"dataframe\">\n",
       "  <thead>\n",
       "    <tr style=\"text-align: right;\">\n",
       "      <th></th>\n",
       "      <th>Close</th>\n",
       "      <th>Volume</th>\n",
       "      <th>close_DoD</th>\n",
       "      <th>vol_DoD</th>\n",
       "      <th>rolling_50C</th>\n",
       "      <th>rolling_200C</th>\n",
       "      <th>rolling_50V</th>\n",
       "      <th>rolling_200V</th>\n",
       "      <th>RSI7</th>\n",
       "      <th>RSI12</th>\n",
       "      <th>RSI26</th>\n",
       "      <th>EMA7</th>\n",
       "      <th>EMA12</th>\n",
       "      <th>EMA26</th>\n",
       "      <th>momentum-cross</th>\n",
       "      <th>OBV</th>\n",
       "    </tr>\n",
       "    <tr>\n",
       "      <th>Date</th>\n",
       "      <th></th>\n",
       "      <th></th>\n",
       "      <th></th>\n",
       "      <th></th>\n",
       "      <th></th>\n",
       "      <th></th>\n",
       "      <th></th>\n",
       "      <th></th>\n",
       "      <th></th>\n",
       "      <th></th>\n",
       "      <th></th>\n",
       "      <th></th>\n",
       "      <th></th>\n",
       "      <th></th>\n",
       "      <th></th>\n",
       "      <th></th>\n",
       "    </tr>\n",
       "  </thead>\n",
       "  <tbody>\n",
       "    <tr>\n",
       "      <th>2015-08-08</th>\n",
       "      <td>0.753325</td>\n",
       "      <td>6.741880e+05</td>\n",
       "      <td>NaN</td>\n",
       "      <td>NaN</td>\n",
       "      <td>NaN</td>\n",
       "      <td>NaN</td>\n",
       "      <td>NaN</td>\n",
       "      <td>NaN</td>\n",
       "      <td>NaN</td>\n",
       "      <td>NaN</td>\n",
       "      <td>NaN</td>\n",
       "      <td>0.753325</td>\n",
       "      <td>0.753325</td>\n",
       "      <td>0.753325</td>\n",
       "      <td>NaN</td>\n",
       "      <td>0.000000e+00</td>\n",
       "    </tr>\n",
       "    <tr>\n",
       "      <th>2015-08-09</th>\n",
       "      <td>0.701897</td>\n",
       "      <td>5.321700e+05</td>\n",
       "      <td>-0.07</td>\n",
       "      <td>-0.21</td>\n",
       "      <td>NaN</td>\n",
       "      <td>NaN</td>\n",
       "      <td>NaN</td>\n",
       "      <td>NaN</td>\n",
       "      <td>0.000000</td>\n",
       "      <td>0.000000</td>\n",
       "      <td>0.000000</td>\n",
       "      <td>0.740468</td>\n",
       "      <td>0.745413</td>\n",
       "      <td>0.749516</td>\n",
       "      <td>NaN</td>\n",
       "      <td>-5.321700e+05</td>\n",
       "    </tr>\n",
       "    <tr>\n",
       "      <th>2015-08-10</th>\n",
       "      <td>0.708448</td>\n",
       "      <td>4.052830e+05</td>\n",
       "      <td>0.01</td>\n",
       "      <td>-0.24</td>\n",
       "      <td>NaN</td>\n",
       "      <td>NaN</td>\n",
       "      <td>NaN</td>\n",
       "      <td>NaN</td>\n",
       "      <td>14.518417</td>\n",
       "      <td>13.084467</td>\n",
       "      <td>12.093517</td>\n",
       "      <td>0.732463</td>\n",
       "      <td>0.739726</td>\n",
       "      <td>0.746473</td>\n",
       "      <td>NaN</td>\n",
       "      <td>-1.268870e+05</td>\n",
       "    </tr>\n",
       "    <tr>\n",
       "      <th>2015-08-11</th>\n",
       "      <td>1.067860</td>\n",
       "      <td>1.463100e+06</td>\n",
       "      <td>0.51</td>\n",
       "      <td>2.61</td>\n",
       "      <td>NaN</td>\n",
       "      <td>NaN</td>\n",
       "      <td>NaN</td>\n",
       "      <td>NaN</td>\n",
       "      <td>92.643867</td>\n",
       "      <td>90.835392</td>\n",
       "      <td>89.234726</td>\n",
       "      <td>0.816312</td>\n",
       "      <td>0.790208</td>\n",
       "      <td>0.770280</td>\n",
       "      <td>NaN</td>\n",
       "      <td>1.336213e+06</td>\n",
       "    </tr>\n",
       "    <tr>\n",
       "      <th>2015-08-12</th>\n",
       "      <td>1.217440</td>\n",
       "      <td>2.150620e+06</td>\n",
       "      <td>0.14</td>\n",
       "      <td>0.47</td>\n",
       "      <td>NaN</td>\n",
       "      <td>NaN</td>\n",
       "      <td>NaN</td>\n",
       "      <td>NaN</td>\n",
       "      <td>95.119189</td>\n",
       "      <td>93.635631</td>\n",
       "      <td>92.279805</td>\n",
       "      <td>0.916594</td>\n",
       "      <td>0.855936</td>\n",
       "      <td>0.803403</td>\n",
       "      <td>NaN</td>\n",
       "      <td>3.486833e+06</td>\n",
       "    </tr>\n",
       "    <tr>\n",
       "      <th>...</th>\n",
       "      <td>...</td>\n",
       "      <td>...</td>\n",
       "      <td>...</td>\n",
       "      <td>...</td>\n",
       "      <td>...</td>\n",
       "      <td>...</td>\n",
       "      <td>...</td>\n",
       "      <td>...</td>\n",
       "      <td>...</td>\n",
       "      <td>...</td>\n",
       "      <td>...</td>\n",
       "      <td>...</td>\n",
       "      <td>...</td>\n",
       "      <td>...</td>\n",
       "      <td>...</td>\n",
       "      <td>...</td>\n",
       "    </tr>\n",
       "    <tr>\n",
       "      <th>2021-05-23</th>\n",
       "      <td>2109.579834</td>\n",
       "      <td>5.600572e+10</td>\n",
       "      <td>-0.08</td>\n",
       "      <td>0.33</td>\n",
       "      <td>2787.276658</td>\n",
       "      <td>1582.527753</td>\n",
       "      <td>4.196180e+10</td>\n",
       "      <td>3.013594e+10</td>\n",
       "      <td>18.430450</td>\n",
       "      <td>24.147085</td>\n",
       "      <td>34.381818</td>\n",
       "      <td>2634.165140</td>\n",
       "      <td>2891.064501</td>\n",
       "      <td>3015.199330</td>\n",
       "      <td>1.76</td>\n",
       "      <td>1.403957e+12</td>\n",
       "    </tr>\n",
       "    <tr>\n",
       "      <th>2021-05-24</th>\n",
       "      <td>2643.591064</td>\n",
       "      <td>5.369712e+10</td>\n",
       "      <td>0.25</td>\n",
       "      <td>-0.04</td>\n",
       "      <td>2798.286023</td>\n",
       "      <td>1593.675372</td>\n",
       "      <td>4.251561e+10</td>\n",
       "      <td>3.032722e+10</td>\n",
       "      <td>50.345309</td>\n",
       "      <td>43.950537</td>\n",
       "      <td>44.588112</td>\n",
       "      <td>2636.521621</td>\n",
       "      <td>2852.991665</td>\n",
       "      <td>2987.672792</td>\n",
       "      <td>1.76</td>\n",
       "      <td>1.457654e+12</td>\n",
       "    </tr>\n",
       "    <tr>\n",
       "      <th>2021-05-25</th>\n",
       "      <td>2706.628906</td>\n",
       "      <td>4.955833e+10</td>\n",
       "      <td>0.02</td>\n",
       "      <td>-0.08</td>\n",
       "      <td>2810.260857</td>\n",
       "      <td>1604.934920</td>\n",
       "      <td>4.292899e+10</td>\n",
       "      <td>3.049132e+10</td>\n",
       "      <td>53.225765</td>\n",
       "      <td>45.920259</td>\n",
       "      <td>45.665553</td>\n",
       "      <td>2654.048442</td>\n",
       "      <td>2830.474317</td>\n",
       "      <td>2966.854726</td>\n",
       "      <td>1.75</td>\n",
       "      <td>1.507212e+12</td>\n",
       "    </tr>\n",
       "    <tr>\n",
       "      <th>2021-05-26</th>\n",
       "      <td>2888.698730</td>\n",
       "      <td>4.249977e+10</td>\n",
       "      <td>0.07</td>\n",
       "      <td>-0.14</td>\n",
       "      <td>2825.667253</td>\n",
       "      <td>1617.199848</td>\n",
       "      <td>4.319453e+10</td>\n",
       "      <td>3.060946e+10</td>\n",
       "      <td>61.766904</td>\n",
       "      <td>51.712604</td>\n",
       "      <td>48.772639</td>\n",
       "      <td>2712.711014</td>\n",
       "      <td>2839.431919</td>\n",
       "      <td>2961.065393</td>\n",
       "      <td>1.75</td>\n",
       "      <td>1.549712e+12</td>\n",
       "    </tr>\n",
       "    <tr>\n",
       "      <th>2021-05-27</th>\n",
       "      <td>2776.133057</td>\n",
       "      <td>3.456504e+10</td>\n",
       "      <td>-0.04</td>\n",
       "      <td>-0.19</td>\n",
       "      <td>2841.768369</td>\n",
       "      <td>1628.812739</td>\n",
       "      <td>4.316350e+10</td>\n",
       "      <td>3.072582e+10</td>\n",
       "      <td>53.685726</td>\n",
       "      <td>47.959319</td>\n",
       "      <td>46.978847</td>\n",
       "      <td>2728.566525</td>\n",
       "      <td>2829.693633</td>\n",
       "      <td>2947.366701</td>\n",
       "      <td>1.74</td>\n",
       "      <td>1.515147e+12</td>\n",
       "    </tr>\n",
       "  </tbody>\n",
       "</table>\n",
       "<p>2120 rows × 16 columns</p>\n",
       "</div>"
      ],
      "text/plain": [
       "                  Close        Volume  close_DoD  vol_DoD  rolling_50C  \\\n",
       "Date                                                                     \n",
       "2015-08-08     0.753325  6.741880e+05        NaN      NaN          NaN   \n",
       "2015-08-09     0.701897  5.321700e+05      -0.07    -0.21          NaN   \n",
       "2015-08-10     0.708448  4.052830e+05       0.01    -0.24          NaN   \n",
       "2015-08-11     1.067860  1.463100e+06       0.51     2.61          NaN   \n",
       "2015-08-12     1.217440  2.150620e+06       0.14     0.47          NaN   \n",
       "...                 ...           ...        ...      ...          ...   \n",
       "2021-05-23  2109.579834  5.600572e+10      -0.08     0.33  2787.276658   \n",
       "2021-05-24  2643.591064  5.369712e+10       0.25    -0.04  2798.286023   \n",
       "2021-05-25  2706.628906  4.955833e+10       0.02    -0.08  2810.260857   \n",
       "2021-05-26  2888.698730  4.249977e+10       0.07    -0.14  2825.667253   \n",
       "2021-05-27  2776.133057  3.456504e+10      -0.04    -0.19  2841.768369   \n",
       "\n",
       "            rolling_200C   rolling_50V  rolling_200V       RSI7      RSI12  \\\n",
       "Date                                                                         \n",
       "2015-08-08           NaN           NaN           NaN        NaN        NaN   \n",
       "2015-08-09           NaN           NaN           NaN   0.000000   0.000000   \n",
       "2015-08-10           NaN           NaN           NaN  14.518417  13.084467   \n",
       "2015-08-11           NaN           NaN           NaN  92.643867  90.835392   \n",
       "2015-08-12           NaN           NaN           NaN  95.119189  93.635631   \n",
       "...                  ...           ...           ...        ...        ...   \n",
       "2021-05-23   1582.527753  4.196180e+10  3.013594e+10  18.430450  24.147085   \n",
       "2021-05-24   1593.675372  4.251561e+10  3.032722e+10  50.345309  43.950537   \n",
       "2021-05-25   1604.934920  4.292899e+10  3.049132e+10  53.225765  45.920259   \n",
       "2021-05-26   1617.199848  4.319453e+10  3.060946e+10  61.766904  51.712604   \n",
       "2021-05-27   1628.812739  4.316350e+10  3.072582e+10  53.685726  47.959319   \n",
       "\n",
       "                RSI26         EMA7        EMA12        EMA26  momentum-cross  \\\n",
       "Date                                                                           \n",
       "2015-08-08        NaN     0.753325     0.753325     0.753325             NaN   \n",
       "2015-08-09   0.000000     0.740468     0.745413     0.749516             NaN   \n",
       "2015-08-10  12.093517     0.732463     0.739726     0.746473             NaN   \n",
       "2015-08-11  89.234726     0.816312     0.790208     0.770280             NaN   \n",
       "2015-08-12  92.279805     0.916594     0.855936     0.803403             NaN   \n",
       "...               ...          ...          ...          ...             ...   \n",
       "2021-05-23  34.381818  2634.165140  2891.064501  3015.199330            1.76   \n",
       "2021-05-24  44.588112  2636.521621  2852.991665  2987.672792            1.76   \n",
       "2021-05-25  45.665553  2654.048442  2830.474317  2966.854726            1.75   \n",
       "2021-05-26  48.772639  2712.711014  2839.431919  2961.065393            1.75   \n",
       "2021-05-27  46.978847  2728.566525  2829.693633  2947.366701            1.74   \n",
       "\n",
       "                     OBV  \n",
       "Date                      \n",
       "2015-08-08  0.000000e+00  \n",
       "2015-08-09 -5.321700e+05  \n",
       "2015-08-10 -1.268870e+05  \n",
       "2015-08-11  1.336213e+06  \n",
       "2015-08-12  3.486833e+06  \n",
       "...                  ...  \n",
       "2021-05-23  1.403957e+12  \n",
       "2021-05-24  1.457654e+12  \n",
       "2021-05-25  1.507212e+12  \n",
       "2021-05-26  1.549712e+12  \n",
       "2021-05-27  1.515147e+12  \n",
       "\n",
       "[2120 rows x 16 columns]"
      ]
     },
     "execution_count": 379,
     "metadata": {},
     "output_type": "execute_result"
    }
   ],
   "source": [
    "# Execute obv function:\n",
    "obv(dfm)"
   ]
  },
  {
   "cell_type": "code",
   "execution_count": 380,
   "metadata": {},
   "outputs": [
    {
     "data": {
      "text/html": [
       "<div>\n",
       "<style scoped>\n",
       "    .dataframe tbody tr th:only-of-type {\n",
       "        vertical-align: middle;\n",
       "    }\n",
       "\n",
       "    .dataframe tbody tr th {\n",
       "        vertical-align: top;\n",
       "    }\n",
       "\n",
       "    .dataframe thead th {\n",
       "        text-align: right;\n",
       "    }\n",
       "</style>\n",
       "<table border=\"1\" class=\"dataframe\">\n",
       "  <thead>\n",
       "    <tr style=\"text-align: right;\">\n",
       "      <th></th>\n",
       "      <th>Close</th>\n",
       "      <th>Volume</th>\n",
       "      <th>close_DoD</th>\n",
       "      <th>vol_DoD</th>\n",
       "      <th>rolling_50C</th>\n",
       "      <th>rolling_200C</th>\n",
       "      <th>rolling_50V</th>\n",
       "      <th>rolling_200V</th>\n",
       "      <th>RSI7</th>\n",
       "      <th>RSI12</th>\n",
       "      <th>RSI26</th>\n",
       "      <th>EMA7</th>\n",
       "      <th>EMA12</th>\n",
       "      <th>EMA26</th>\n",
       "      <th>momentum-cross</th>\n",
       "      <th>OBV</th>\n",
       "    </tr>\n",
       "    <tr>\n",
       "      <th>Date</th>\n",
       "      <th></th>\n",
       "      <th></th>\n",
       "      <th></th>\n",
       "      <th></th>\n",
       "      <th></th>\n",
       "      <th></th>\n",
       "      <th></th>\n",
       "      <th></th>\n",
       "      <th></th>\n",
       "      <th></th>\n",
       "      <th></th>\n",
       "      <th></th>\n",
       "      <th></th>\n",
       "      <th></th>\n",
       "      <th></th>\n",
       "      <th></th>\n",
       "    </tr>\n",
       "  </thead>\n",
       "  <tbody>\n",
       "    <tr>\n",
       "      <th>2015-08-08</th>\n",
       "      <td>0.753325</td>\n",
       "      <td>674188.0</td>\n",
       "      <td>NaN</td>\n",
       "      <td>NaN</td>\n",
       "      <td>NaN</td>\n",
       "      <td>NaN</td>\n",
       "      <td>NaN</td>\n",
       "      <td>NaN</td>\n",
       "      <td>NaN</td>\n",
       "      <td>NaN</td>\n",
       "      <td>NaN</td>\n",
       "      <td>0.753325</td>\n",
       "      <td>0.753325</td>\n",
       "      <td>0.753325</td>\n",
       "      <td>NaN</td>\n",
       "      <td>0.0</td>\n",
       "    </tr>\n",
       "    <tr>\n",
       "      <th>2015-08-09</th>\n",
       "      <td>0.701897</td>\n",
       "      <td>532170.0</td>\n",
       "      <td>-0.07</td>\n",
       "      <td>-0.21</td>\n",
       "      <td>NaN</td>\n",
       "      <td>NaN</td>\n",
       "      <td>NaN</td>\n",
       "      <td>NaN</td>\n",
       "      <td>0.000000</td>\n",
       "      <td>0.000000</td>\n",
       "      <td>0.000000</td>\n",
       "      <td>0.740468</td>\n",
       "      <td>0.745413</td>\n",
       "      <td>0.749516</td>\n",
       "      <td>NaN</td>\n",
       "      <td>-532170.0</td>\n",
       "    </tr>\n",
       "    <tr>\n",
       "      <th>2015-08-10</th>\n",
       "      <td>0.708448</td>\n",
       "      <td>405283.0</td>\n",
       "      <td>0.01</td>\n",
       "      <td>-0.24</td>\n",
       "      <td>NaN</td>\n",
       "      <td>NaN</td>\n",
       "      <td>NaN</td>\n",
       "      <td>NaN</td>\n",
       "      <td>14.518417</td>\n",
       "      <td>13.084467</td>\n",
       "      <td>12.093517</td>\n",
       "      <td>0.732463</td>\n",
       "      <td>0.739726</td>\n",
       "      <td>0.746473</td>\n",
       "      <td>NaN</td>\n",
       "      <td>-126887.0</td>\n",
       "    </tr>\n",
       "    <tr>\n",
       "      <th>2015-08-11</th>\n",
       "      <td>1.067860</td>\n",
       "      <td>1463100.0</td>\n",
       "      <td>0.51</td>\n",
       "      <td>2.61</td>\n",
       "      <td>NaN</td>\n",
       "      <td>NaN</td>\n",
       "      <td>NaN</td>\n",
       "      <td>NaN</td>\n",
       "      <td>92.643867</td>\n",
       "      <td>90.835392</td>\n",
       "      <td>89.234726</td>\n",
       "      <td>0.816312</td>\n",
       "      <td>0.790208</td>\n",
       "      <td>0.770280</td>\n",
       "      <td>NaN</td>\n",
       "      <td>1336213.0</td>\n",
       "    </tr>\n",
       "    <tr>\n",
       "      <th>2015-08-12</th>\n",
       "      <td>1.217440</td>\n",
       "      <td>2150620.0</td>\n",
       "      <td>0.14</td>\n",
       "      <td>0.47</td>\n",
       "      <td>NaN</td>\n",
       "      <td>NaN</td>\n",
       "      <td>NaN</td>\n",
       "      <td>NaN</td>\n",
       "      <td>95.119189</td>\n",
       "      <td>93.635631</td>\n",
       "      <td>92.279805</td>\n",
       "      <td>0.916594</td>\n",
       "      <td>0.855936</td>\n",
       "      <td>0.803403</td>\n",
       "      <td>NaN</td>\n",
       "      <td>3486833.0</td>\n",
       "    </tr>\n",
       "  </tbody>\n",
       "</table>\n",
       "</div>"
      ],
      "text/plain": [
       "               Close     Volume  close_DoD  vol_DoD  rolling_50C  \\\n",
       "Date                                                               \n",
       "2015-08-08  0.753325   674188.0        NaN      NaN          NaN   \n",
       "2015-08-09  0.701897   532170.0      -0.07    -0.21          NaN   \n",
       "2015-08-10  0.708448   405283.0       0.01    -0.24          NaN   \n",
       "2015-08-11  1.067860  1463100.0       0.51     2.61          NaN   \n",
       "2015-08-12  1.217440  2150620.0       0.14     0.47          NaN   \n",
       "\n",
       "            rolling_200C  rolling_50V  rolling_200V       RSI7      RSI12  \\\n",
       "Date                                                                        \n",
       "2015-08-08           NaN          NaN           NaN        NaN        NaN   \n",
       "2015-08-09           NaN          NaN           NaN   0.000000   0.000000   \n",
       "2015-08-10           NaN          NaN           NaN  14.518417  13.084467   \n",
       "2015-08-11           NaN          NaN           NaN  92.643867  90.835392   \n",
       "2015-08-12           NaN          NaN           NaN  95.119189  93.635631   \n",
       "\n",
       "                RSI26      EMA7     EMA12     EMA26  momentum-cross        OBV  \n",
       "Date                                                                            \n",
       "2015-08-08        NaN  0.753325  0.753325  0.753325             NaN        0.0  \n",
       "2015-08-09   0.000000  0.740468  0.745413  0.749516             NaN  -532170.0  \n",
       "2015-08-10  12.093517  0.732463  0.739726  0.746473             NaN  -126887.0  \n",
       "2015-08-11  89.234726  0.816312  0.790208  0.770280             NaN  1336213.0  \n",
       "2015-08-12  92.279805  0.916594  0.855936  0.803403             NaN  3486833.0  "
      ]
     },
     "execution_count": 380,
     "metadata": {},
     "output_type": "execute_result"
    }
   ],
   "source": [
    "dfm.head()"
   ]
  },
  {
   "cell_type": "code",
   "execution_count": 381,
   "metadata": {},
   "outputs": [],
   "source": [
    "# Calculate Moving Average Convergence/Divergence\n",
    "exp1 = dfm.Close.ewm(span=12, adjust=False).mean()\n",
    "exp2 = dfm.Close.ewm(span=26, adjust=False).mean()\n",
    "dfm['macd'] = exp1 - exp2"
   ]
  },
  {
   "cell_type": "code",
   "execution_count": 382,
   "metadata": {},
   "outputs": [
    {
     "data": {
      "text/html": [
       "<div>\n",
       "<style scoped>\n",
       "    .dataframe tbody tr th:only-of-type {\n",
       "        vertical-align: middle;\n",
       "    }\n",
       "\n",
       "    .dataframe tbody tr th {\n",
       "        vertical-align: top;\n",
       "    }\n",
       "\n",
       "    .dataframe thead th {\n",
       "        text-align: right;\n",
       "    }\n",
       "</style>\n",
       "<table border=\"1\" class=\"dataframe\">\n",
       "  <thead>\n",
       "    <tr style=\"text-align: right;\">\n",
       "      <th></th>\n",
       "      <th>Close</th>\n",
       "      <th>Volume</th>\n",
       "      <th>close_DoD</th>\n",
       "      <th>vol_DoD</th>\n",
       "      <th>rolling_50C</th>\n",
       "      <th>rolling_200C</th>\n",
       "      <th>rolling_50V</th>\n",
       "      <th>rolling_200V</th>\n",
       "      <th>RSI7</th>\n",
       "      <th>RSI12</th>\n",
       "      <th>RSI26</th>\n",
       "      <th>EMA7</th>\n",
       "      <th>EMA12</th>\n",
       "      <th>EMA26</th>\n",
       "      <th>momentum-cross</th>\n",
       "      <th>OBV</th>\n",
       "      <th>macd</th>\n",
       "    </tr>\n",
       "    <tr>\n",
       "      <th>Date</th>\n",
       "      <th></th>\n",
       "      <th></th>\n",
       "      <th></th>\n",
       "      <th></th>\n",
       "      <th></th>\n",
       "      <th></th>\n",
       "      <th></th>\n",
       "      <th></th>\n",
       "      <th></th>\n",
       "      <th></th>\n",
       "      <th></th>\n",
       "      <th></th>\n",
       "      <th></th>\n",
       "      <th></th>\n",
       "      <th></th>\n",
       "      <th></th>\n",
       "      <th></th>\n",
       "    </tr>\n",
       "  </thead>\n",
       "  <tbody>\n",
       "    <tr>\n",
       "      <th>2015-08-08</th>\n",
       "      <td>0.753325</td>\n",
       "      <td>674188.0</td>\n",
       "      <td>NaN</td>\n",
       "      <td>NaN</td>\n",
       "      <td>NaN</td>\n",
       "      <td>NaN</td>\n",
       "      <td>NaN</td>\n",
       "      <td>NaN</td>\n",
       "      <td>NaN</td>\n",
       "      <td>NaN</td>\n",
       "      <td>NaN</td>\n",
       "      <td>0.753325</td>\n",
       "      <td>0.753325</td>\n",
       "      <td>0.753325</td>\n",
       "      <td>NaN</td>\n",
       "      <td>0.0</td>\n",
       "      <td>0.000000</td>\n",
       "    </tr>\n",
       "    <tr>\n",
       "      <th>2015-08-09</th>\n",
       "      <td>0.701897</td>\n",
       "      <td>532170.0</td>\n",
       "      <td>-0.07</td>\n",
       "      <td>-0.21</td>\n",
       "      <td>NaN</td>\n",
       "      <td>NaN</td>\n",
       "      <td>NaN</td>\n",
       "      <td>NaN</td>\n",
       "      <td>0.000000</td>\n",
       "      <td>0.000000</td>\n",
       "      <td>0.000000</td>\n",
       "      <td>0.740468</td>\n",
       "      <td>0.745413</td>\n",
       "      <td>0.749516</td>\n",
       "      <td>NaN</td>\n",
       "      <td>-532170.0</td>\n",
       "      <td>-0.004103</td>\n",
       "    </tr>\n",
       "    <tr>\n",
       "      <th>2015-08-10</th>\n",
       "      <td>0.708448</td>\n",
       "      <td>405283.0</td>\n",
       "      <td>0.01</td>\n",
       "      <td>-0.24</td>\n",
       "      <td>NaN</td>\n",
       "      <td>NaN</td>\n",
       "      <td>NaN</td>\n",
       "      <td>NaN</td>\n",
       "      <td>14.518417</td>\n",
       "      <td>13.084467</td>\n",
       "      <td>12.093517</td>\n",
       "      <td>0.732463</td>\n",
       "      <td>0.739726</td>\n",
       "      <td>0.746473</td>\n",
       "      <td>NaN</td>\n",
       "      <td>-126887.0</td>\n",
       "      <td>-0.006747</td>\n",
       "    </tr>\n",
       "    <tr>\n",
       "      <th>2015-08-11</th>\n",
       "      <td>1.067860</td>\n",
       "      <td>1463100.0</td>\n",
       "      <td>0.51</td>\n",
       "      <td>2.61</td>\n",
       "      <td>NaN</td>\n",
       "      <td>NaN</td>\n",
       "      <td>NaN</td>\n",
       "      <td>NaN</td>\n",
       "      <td>92.643867</td>\n",
       "      <td>90.835392</td>\n",
       "      <td>89.234726</td>\n",
       "      <td>0.816312</td>\n",
       "      <td>0.790208</td>\n",
       "      <td>0.770280</td>\n",
       "      <td>NaN</td>\n",
       "      <td>1336213.0</td>\n",
       "      <td>0.019928</td>\n",
       "    </tr>\n",
       "    <tr>\n",
       "      <th>2015-08-12</th>\n",
       "      <td>1.217440</td>\n",
       "      <td>2150620.0</td>\n",
       "      <td>0.14</td>\n",
       "      <td>0.47</td>\n",
       "      <td>NaN</td>\n",
       "      <td>NaN</td>\n",
       "      <td>NaN</td>\n",
       "      <td>NaN</td>\n",
       "      <td>95.119189</td>\n",
       "      <td>93.635631</td>\n",
       "      <td>92.279805</td>\n",
       "      <td>0.916594</td>\n",
       "      <td>0.855936</td>\n",
       "      <td>0.803403</td>\n",
       "      <td>NaN</td>\n",
       "      <td>3486833.0</td>\n",
       "      <td>0.052533</td>\n",
       "    </tr>\n",
       "  </tbody>\n",
       "</table>\n",
       "</div>"
      ],
      "text/plain": [
       "               Close     Volume  close_DoD  vol_DoD  rolling_50C  \\\n",
       "Date                                                               \n",
       "2015-08-08  0.753325   674188.0        NaN      NaN          NaN   \n",
       "2015-08-09  0.701897   532170.0      -0.07    -0.21          NaN   \n",
       "2015-08-10  0.708448   405283.0       0.01    -0.24          NaN   \n",
       "2015-08-11  1.067860  1463100.0       0.51     2.61          NaN   \n",
       "2015-08-12  1.217440  2150620.0       0.14     0.47          NaN   \n",
       "\n",
       "            rolling_200C  rolling_50V  rolling_200V       RSI7      RSI12  \\\n",
       "Date                                                                        \n",
       "2015-08-08           NaN          NaN           NaN        NaN        NaN   \n",
       "2015-08-09           NaN          NaN           NaN   0.000000   0.000000   \n",
       "2015-08-10           NaN          NaN           NaN  14.518417  13.084467   \n",
       "2015-08-11           NaN          NaN           NaN  92.643867  90.835392   \n",
       "2015-08-12           NaN          NaN           NaN  95.119189  93.635631   \n",
       "\n",
       "                RSI26      EMA7     EMA12     EMA26  momentum-cross  \\\n",
       "Date                                                                  \n",
       "2015-08-08        NaN  0.753325  0.753325  0.753325             NaN   \n",
       "2015-08-09   0.000000  0.740468  0.745413  0.749516             NaN   \n",
       "2015-08-10  12.093517  0.732463  0.739726  0.746473             NaN   \n",
       "2015-08-11  89.234726  0.816312  0.790208  0.770280             NaN   \n",
       "2015-08-12  92.279805  0.916594  0.855936  0.803403             NaN   \n",
       "\n",
       "                  OBV      macd  \n",
       "Date                             \n",
       "2015-08-08        0.0  0.000000  \n",
       "2015-08-09  -532170.0 -0.004103  \n",
       "2015-08-10  -126887.0 -0.006747  \n",
       "2015-08-11  1336213.0  0.019928  \n",
       "2015-08-12  3486833.0  0.052533  "
      ]
     },
     "execution_count": 382,
     "metadata": {},
     "output_type": "execute_result"
    }
   ],
   "source": [
    "\n",
    "dfm.head()"
   ]
  },
  {
   "cell_type": "markdown",
   "metadata": {},
   "source": [
    "#### Create the target variable.  In this case, we are going look forward one day and determine whether the Close is higher or lower for our model to reference against the current observations"
   ]
  },
  {
   "cell_type": "code",
   "execution_count": 413,
   "metadata": {},
   "outputs": [],
   "source": [
    "# Calculate and add Target +/- column\n",
    "dfm['up_down'] = np.where(dfm.Close.shift(-1) > dfm.Close, 1, 0) "
   ]
  },
  {
   "cell_type": "code",
   "execution_count": 416,
   "metadata": {},
   "outputs": [
    {
     "data": {
      "text/html": [
       "<div>\n",
       "<style scoped>\n",
       "    .dataframe tbody tr th:only-of-type {\n",
       "        vertical-align: middle;\n",
       "    }\n",
       "\n",
       "    .dataframe tbody tr th {\n",
       "        vertical-align: top;\n",
       "    }\n",
       "\n",
       "    .dataframe thead th {\n",
       "        text-align: right;\n",
       "    }\n",
       "</style>\n",
       "<table border=\"1\" class=\"dataframe\">\n",
       "  <thead>\n",
       "    <tr style=\"text-align: right;\">\n",
       "      <th></th>\n",
       "      <th>Close</th>\n",
       "      <th>Volume</th>\n",
       "      <th>close_DoD</th>\n",
       "      <th>vol_DoD</th>\n",
       "      <th>rolling_50C</th>\n",
       "      <th>rolling_200C</th>\n",
       "      <th>rolling_50V</th>\n",
       "      <th>rolling_200V</th>\n",
       "      <th>RSI7</th>\n",
       "      <th>RSI12</th>\n",
       "      <th>RSI26</th>\n",
       "      <th>EMA7</th>\n",
       "      <th>EMA12</th>\n",
       "      <th>EMA26</th>\n",
       "      <th>momentum-cross</th>\n",
       "      <th>OBV</th>\n",
       "      <th>macd</th>\n",
       "      <th>up_down</th>\n",
       "    </tr>\n",
       "    <tr>\n",
       "      <th>Date</th>\n",
       "      <th></th>\n",
       "      <th></th>\n",
       "      <th></th>\n",
       "      <th></th>\n",
       "      <th></th>\n",
       "      <th></th>\n",
       "      <th></th>\n",
       "      <th></th>\n",
       "      <th></th>\n",
       "      <th></th>\n",
       "      <th></th>\n",
       "      <th></th>\n",
       "      <th></th>\n",
       "      <th></th>\n",
       "      <th></th>\n",
       "      <th></th>\n",
       "      <th></th>\n",
       "      <th></th>\n",
       "    </tr>\n",
       "  </thead>\n",
       "  <tbody>\n",
       "    <tr>\n",
       "      <th>2016-06-01</th>\n",
       "      <td>14.0015</td>\n",
       "      <td>22471300.0</td>\n",
       "      <td>-0.01</td>\n",
       "      <td>-0.47</td>\n",
       "      <td>10.269917</td>\n",
       "      <td>6.007355</td>\n",
       "      <td>23882902.6</td>\n",
       "      <td>1.388661e+07</td>\n",
       "      <td>75.295085</td>\n",
       "      <td>67.686490</td>\n",
       "      <td>63.477274</td>\n",
       "      <td>13.134038</td>\n",
       "      <td>12.846327</td>\n",
       "      <td>12.030991</td>\n",
       "      <td>1.71</td>\n",
       "      <td>250211597.0</td>\n",
       "      <td>0.815336</td>\n",
       "      <td>0</td>\n",
       "    </tr>\n",
       "    <tr>\n",
       "      <th>2016-06-02</th>\n",
       "      <td>13.7380</td>\n",
       "      <td>10477200.0</td>\n",
       "      <td>-0.02</td>\n",
       "      <td>-0.53</td>\n",
       "      <td>10.383788</td>\n",
       "      <td>6.071513</td>\n",
       "      <td>23464380.6</td>\n",
       "      <td>1.393694e+07</td>\n",
       "      <td>65.265559</td>\n",
       "      <td>62.632817</td>\n",
       "      <td>61.268892</td>\n",
       "      <td>13.285029</td>\n",
       "      <td>12.983507</td>\n",
       "      <td>12.157436</td>\n",
       "      <td>1.71</td>\n",
       "      <td>239734397.0</td>\n",
       "      <td>0.826071</td>\n",
       "      <td>1</td>\n",
       "    </tr>\n",
       "    <tr>\n",
       "      <th>2016-06-03</th>\n",
       "      <td>13.8467</td>\n",
       "      <td>22981500.0</td>\n",
       "      <td>0.01</td>\n",
       "      <td>1.19</td>\n",
       "      <td>10.492977</td>\n",
       "      <td>6.136102</td>\n",
       "      <td>23652196.6</td>\n",
       "      <td>1.404874e+07</td>\n",
       "      <td>67.636684</td>\n",
       "      <td>63.945221</td>\n",
       "      <td>61.860057</td>\n",
       "      <td>13.425446</td>\n",
       "      <td>13.116306</td>\n",
       "      <td>12.282567</td>\n",
       "      <td>1.71</td>\n",
       "      <td>262715897.0</td>\n",
       "      <td>0.833740</td>\n",
       "      <td>0</td>\n",
       "    </tr>\n",
       "    <tr>\n",
       "      <th>2016-06-04</th>\n",
       "      <td>13.7404</td>\n",
       "      <td>15792400.0</td>\n",
       "      <td>-0.01</td>\n",
       "      <td>-0.31</td>\n",
       "      <td>10.602930</td>\n",
       "      <td>6.199764</td>\n",
       "      <td>23724464.6</td>\n",
       "      <td>1.412197e+07</td>\n",
       "      <td>62.108440</td>\n",
       "      <td>61.450859</td>\n",
       "      <td>60.878668</td>\n",
       "      <td>13.504185</td>\n",
       "      <td>13.212321</td>\n",
       "      <td>12.390554</td>\n",
       "      <td>1.71</td>\n",
       "      <td>246923497.0</td>\n",
       "      <td>0.821766</td>\n",
       "      <td>1</td>\n",
       "    </tr>\n",
       "    <tr>\n",
       "      <th>2016-06-05</th>\n",
       "      <td>13.9750</td>\n",
       "      <td>11088400.0</td>\n",
       "      <td>0.02</td>\n",
       "      <td>-0.30</td>\n",
       "      <td>10.710240</td>\n",
       "      <td>6.264673</td>\n",
       "      <td>23748463.4</td>\n",
       "      <td>1.417401e+07</td>\n",
       "      <td>69.454925</td>\n",
       "      <td>65.010711</td>\n",
       "      <td>62.304091</td>\n",
       "      <td>13.621889</td>\n",
       "      <td>13.329656</td>\n",
       "      <td>12.507921</td>\n",
       "      <td>1.71</td>\n",
       "      <td>258011897.0</td>\n",
       "      <td>0.821735</td>\n",
       "      <td>0</td>\n",
       "    </tr>\n",
       "  </tbody>\n",
       "</table>\n",
       "</div>"
      ],
      "text/plain": [
       "              Close      Volume  close_DoD  vol_DoD  rolling_50C  \\\n",
       "Date                                                               \n",
       "2016-06-01  14.0015  22471300.0      -0.01    -0.47    10.269917   \n",
       "2016-06-02  13.7380  10477200.0      -0.02    -0.53    10.383788   \n",
       "2016-06-03  13.8467  22981500.0       0.01     1.19    10.492977   \n",
       "2016-06-04  13.7404  15792400.0      -0.01    -0.31    10.602930   \n",
       "2016-06-05  13.9750  11088400.0       0.02    -0.30    10.710240   \n",
       "\n",
       "            rolling_200C  rolling_50V  rolling_200V       RSI7      RSI12  \\\n",
       "Date                                                                        \n",
       "2016-06-01      6.007355   23882902.6  1.388661e+07  75.295085  67.686490   \n",
       "2016-06-02      6.071513   23464380.6  1.393694e+07  65.265559  62.632817   \n",
       "2016-06-03      6.136102   23652196.6  1.404874e+07  67.636684  63.945221   \n",
       "2016-06-04      6.199764   23724464.6  1.412197e+07  62.108440  61.450859   \n",
       "2016-06-05      6.264673   23748463.4  1.417401e+07  69.454925  65.010711   \n",
       "\n",
       "                RSI26       EMA7      EMA12      EMA26  momentum-cross  \\\n",
       "Date                                                                     \n",
       "2016-06-01  63.477274  13.134038  12.846327  12.030991            1.71   \n",
       "2016-06-02  61.268892  13.285029  12.983507  12.157436            1.71   \n",
       "2016-06-03  61.860057  13.425446  13.116306  12.282567            1.71   \n",
       "2016-06-04  60.878668  13.504185  13.212321  12.390554            1.71   \n",
       "2016-06-05  62.304091  13.621889  13.329656  12.507921            1.71   \n",
       "\n",
       "                    OBV      macd  up_down  \n",
       "Date                                        \n",
       "2016-06-01  250211597.0  0.815336        0  \n",
       "2016-06-02  239734397.0  0.826071        1  \n",
       "2016-06-03  262715897.0  0.833740        0  \n",
       "2016-06-04  246923497.0  0.821766        1  \n",
       "2016-06-05  258011897.0  0.821735        0  "
      ]
     },
     "execution_count": 416,
     "metadata": {},
     "output_type": "execute_result"
    }
   ],
   "source": [
    "dfm.head(5)"
   ]
  },
  {
   "cell_type": "code",
   "execution_count": 385,
   "metadata": {},
   "outputs": [
    {
     "data": {
      "text/plain": [
       "(Timestamp('2015-08-08 00:00:00'), Timestamp('2021-05-27 00:00:00'))"
      ]
     },
     "execution_count": 385,
     "metadata": {},
     "output_type": "execute_result"
    }
   ],
   "source": [
    "# Cull the first year off of my df so in order to eliminate NaN\n",
    "dfm.index.min(), dfm.index.max()"
   ]
  },
  {
   "cell_type": "code",
   "execution_count": 386,
   "metadata": {},
   "outputs": [],
   "source": [
    "dfm = dfm['2016-06-01':]"
   ]
  },
  {
   "cell_type": "code",
   "execution_count": 387,
   "metadata": {},
   "outputs": [
    {
     "data": {
      "text/plain": [
       "Timestamp('2016-06-01 00:00:00')"
      ]
     },
     "execution_count": 387,
     "metadata": {},
     "output_type": "execute_result"
    }
   ],
   "source": [
    "# Control check\n",
    "dfm.index.min()"
   ]
  },
  {
   "cell_type": "code",
   "execution_count": 388,
   "metadata": {},
   "outputs": [
    {
     "data": {
      "text/plain": [
       "Close             0\n",
       "Volume            0\n",
       "close_DoD         0\n",
       "vol_DoD           0\n",
       "rolling_50C       0\n",
       "rolling_200C      0\n",
       "rolling_50V       0\n",
       "rolling_200V      0\n",
       "RSI7              0\n",
       "RSI12             0\n",
       "RSI26             0\n",
       "EMA7              0\n",
       "EMA12             0\n",
       "EMA26             0\n",
       "momentum-cross    0\n",
       "OBV               0\n",
       "macd              0\n",
       "+/-               0\n",
       "dtype: int64"
      ]
     },
     "execution_count": 388,
     "metadata": {},
     "output_type": "execute_result"
    }
   ],
   "source": [
    "dfm.isna().sum()"
   ]
  },
  {
   "cell_type": "markdown",
   "metadata": {},
   "source": [
    "# Data Split"
   ]
  },
  {
   "cell_type": "code",
   "execution_count": 435,
   "metadata": {},
   "outputs": [],
   "source": [
    "def split_data():\n",
    "    '''\n",
    "    take in a DataFrame and return train, validate, and test DataFrames; stratify on survived.\n",
    "    return train, validate, test DataFrames.\n",
    "    '''\n",
    "    train_validate, test = train_test_split(dfm, test_size=.2, random_state=123, stratify=dfm.up_down)\n",
    "    train, validate = train_test_split(train_validate, \n",
    "                                       test_size=.3, \n",
    "                                       random_state=123, \n",
    "                                       stratify=train_validate.up_down)\n",
    "    return train, validate, test"
   ]
  },
  {
   "cell_type": "code",
   "execution_count": 436,
   "metadata": {},
   "outputs": [],
   "source": [
    "train, validate, test = split_data()"
   ]
  },
  {
   "cell_type": "code",
   "execution_count": 438,
   "metadata": {},
   "outputs": [
    {
     "name": "stdout",
     "output_type": "stream",
     "text": [
      "train -> (1019, 18)\n",
      "validate -> (438, 18)\n",
      "test -> (365, 18)\n"
     ]
    }
   ],
   "source": [
    "# Validate split\n",
    "\n",
    "print(f'train -> {train.shape}')\n",
    "print(f'validate -> {validate.shape}')\n",
    "print(f'test -> {test.shape}')\n"
   ]
  },
  {
   "cell_type": "markdown",
   "metadata": {},
   "source": [
    "# Explore"
   ]
  },
  {
   "cell_type": "code",
   "execution_count": 389,
   "metadata": {},
   "outputs": [
    {
     "data": {
      "text/plain": [
       "<matplotlib.legend.Legend at 0x7fe814927700>"
      ]
     },
     "execution_count": 389,
     "metadata": {},
     "output_type": "execute_result"
    },
    {
     "data": {
      "image/png": "[encoded data removed]",
      "text/plain": [
       "<Figure size 936x504 with 2 Axes>"
      ]
     },
     "metadata": {},
     "output_type": "display_data"
    }
   ],
   "source": [
    "# Close vs rolling Volumes\n",
    "fig,ax = plt.subplots()\n",
    "ax.plot(dfm[['rolling_50C', 'rolling_200C']])\n",
    "plt.legend(['50C_roll', '200C_roll'])\n",
    "ax2=ax.twinx()\n",
    "ax2.plot(dfm.Close, color='green')\n",
    "plt.legend('Close', loc='upper right')"
   ]
  },
  {
   "cell_type": "code",
   "execution_count": 391,
   "metadata": {},
   "outputs": [
    {
     "data": {
      "text/plain": [
       "<matplotlib.legend.Legend at 0x7fe7e02239d0>"
      ]
     },
     "execution_count": 391,
     "metadata": {},
     "output_type": "execute_result"
    },
    {
     "data": {
      "image/png": "[encoded data removed]",
      "text/plain": [
       "<Figure size 1080x360 with 2 Axes>"
      ]
     },
     "metadata": {},
     "output_type": "display_data"
    }
   ],
   "source": [
    "# View RSI Indicator and compare vs Close price\n",
    "fig, ax = plt.subplots(figsize=(15,5))\n",
    "ax.plot(dfm.RSI12['2021':])\n",
    "plt.axhline(y = 70, color =\"red\", linestyle =\"--\")\n",
    "plt.axhline(y = 30, color =\"green\", linestyle =\"--\")\n",
    "plt.legend(['RSI'])\n",
    "ax2=ax.twinx()\n",
    "ax2.plot(dfm['2021':].close_DoD, color='orange')\n",
    "plt.legend('DoD', loc ='upper left')"
   ]
  },
  {
   "cell_type": "code",
   "execution_count": 392,
   "metadata": {},
   "outputs": [
    {
     "data": {
      "text/plain": [
       "<matplotlib.legend.Legend at 0x7fe821ab5580>"
      ]
     },
     "execution_count": 392,
     "metadata": {},
     "output_type": "execute_result"
    },
    {
     "data": {
      "image/png": "[encoded data removed]",
      "text/plain": [
       "<Figure size 1080x360 with 1 Axes>"
      ]
     },
     "metadata": {},
     "output_type": "display_data"
    }
   ],
   "source": [
    "fig, axes = plt.subplots(1, 1,figsize=(15,5))\n",
    "fig.suptitle('% Daily change Closing Price & Volume')\n",
    "dfm['vol_DoD'].plot()\n",
    "dfm['close_DoD'].plot()\n",
    "plt.legend()"
   ]
  },
  {
   "cell_type": "code",
   "execution_count": 394,
   "metadata": {},
   "outputs": [
    {
     "data": {
      "text/plain": [
       "<matplotlib.legend.Legend at 0x7fe7c0215310>"
      ]
     },
     "execution_count": 394,
     "metadata": {},
     "output_type": "execute_result"
    },
    {
     "data": {
      "image/png": "[encoded data removed]",
      "text/plain": [
       "<Figure size 1080x360 with 1 Axes>"
      ]
     },
     "metadata": {},
     "output_type": "display_data"
    }
   ],
   "source": [
    "fig, axes = plt.subplots(1, 1,figsize=(15,5))\n",
    "fig.suptitle('% Daily change Closing Price & Volume')\n",
    "dfm['2021':]['vol_DoD'].plot()\n",
    "dfm['2021':]['close_DoD'].plot()\n",
    "plt.legend()"
   ]
  },
  {
   "cell_type": "markdown",
   "metadata": {},
   "source": [
    "Note: on the longer data timeline it was hard to identify some connection b/w price and volume but there definitely appears to be one after zooming in a bit "
   ]
  },
  {
   "cell_type": "code",
   "execution_count": 520,
   "metadata": {},
   "outputs": [
    {
     "data": {
      "image/png": "[encoded data removed]",
      "text/plain": [
       "<Figure size 432x288 with 2 Axes>"
      ]
     },
     "metadata": {
      "needs_background": "light"
     },
     "output_type": "display_data"
    },
    {
     "data": {
      "image/png": "[encoded data removed]",
      "text/plain": [
       "<Figure size 432x288 with 2 Axes>"
      ]
     },
     "metadata": {
      "needs_background": "light"
     },
     "output_type": "display_data"
    },
    {
     "data": {
      "image/png": "[encoded data removed]",
      "text/plain": [
       "<Figure size 432x288 with 2 Axes>"
      ]
     },
     "metadata": {
      "needs_background": "light"
     },
     "output_type": "display_data"
    },
    {
     "data": {
      "image/png": "[encoded data removed]",
      "text/plain": [
       "<Figure size 432x288 with 2 Axes>"
      ]
     },
     "metadata": {
      "needs_background": "light"
     },
     "output_type": "display_data"
    },
    {
     "data": {
      "image/png": "[encoded data removed]",
      "text/plain": [
       "<Figure size 432x288 with 2 Axes>"
      ]
     },
     "metadata": {
      "needs_background": "light"
     },
     "output_type": "display_data"
    },
    {
     "data": {
      "image/png": "[encoded data removed]",
      "text/plain": [
       "<Figure size 432x288 with 2 Axes>"
      ]
     },
     "metadata": {
      "needs_background": "light"
     },
     "output_type": "display_data"
    },
    {
     "data": {
      "image/png": "[encoded data removed]",
      "text/plain": [
       "<Figure size 432x288 with 2 Axes>"
      ]
     },
     "metadata": {
      "needs_background": "light"
     },
     "output_type": "display_data"
    },
    {
     "data": {
      "image/png": "[encoded data removed]",
      "text/plain": [
       "<Figure size 432x288 with 2 Axes>"
      ]
     },
     "metadata": {
      "needs_background": "light"
     },
     "output_type": "display_data"
    },
    {
     "data": {
      "image/png": "[encoded data removed]",
      "text/plain": [
       "<Figure size 432x288 with 2 Axes>"
      ]
     },
     "metadata": {
      "needs_background": "light"
     },
     "output_type": "display_data"
    },
    {
     "data": {
      "image/png": "[encoded data removed]",
      "text/plain": [
       "<Figure size 432x288 with 2 Axes>"
      ]
     },
     "metadata": {
      "needs_background": "light"
     },
     "output_type": "display_data"
    },
    {
     "data": {
      "image/png": "[encoded data removed]",
      "text/plain": [
       "<Figure size 432x288 with 2 Axes>"
      ]
     },
     "metadata": {
      "needs_background": "light"
     },
     "output_type": "display_data"
    },
    {
     "data": {
      "image/png": "[encoded data removed]",
      "text/plain": [
       "<Figure size 432x288 with 2 Axes>"
      ]
     },
     "metadata": {
      "needs_background": "light"
     },
     "output_type": "display_data"
    },
    {
     "data": {
      "image/png": "[encoded data removed]",
      "text/plain": [
       "<Figure size 432x288 with 2 Axes>"
      ]
     },
     "metadata": {
      "needs_background": "light"
     },
     "output_type": "display_data"
    }
   ],
   "source": [
    "features = ['Close', 'Volume', 'close_DoD', 'vol_DoD', 'RSI7', 'RSI12', 'RSI26', 'EMA7', 'EMA12', 'EMA26', 'momentum-cross', 'OBV', 'macd']\n",
    "for feature in features:\n",
    "    plt.subplot(121)\n",
    "    plt.hist(train[train.up_down == 1][feature])\n",
    "    plt.title(feature + str(' Up'))\n",
    "    plt.subplot(122)\n",
    "    plt.hist(train[train.up_down == 0][feature])\n",
    "    plt.title(feature + str(' Down'))\n",
    "    plt.show()"
   ]
  },
  {
   "cell_type": "markdown",
   "metadata": {},
   "source": [
    "# Hypothesis Testing"
   ]
  },
  {
   "cell_type": "code",
   "execution_count": 439,
   "metadata": {},
   "outputs": [],
   "source": [
    "# Begin by separating the train data into up/down subgroupings\n",
    "\n",
    "up = train[train.up_down == 1]\n",
    "down = train[train.up_down == 0]"
   ]
  },
  {
   "cell_type": "code",
   "execution_count": 450,
   "metadata": {},
   "outputs": [
    {
     "data": {
      "text/plain": [
       "['Close',\n",
       " 'Volume',\n",
       " 'close_DoD',\n",
       " 'vol_DoD',\n",
       " 'rolling_50C',\n",
       " 'rolling_200C',\n",
       " 'rolling_50V',\n",
       " 'rolling_200V',\n",
       " 'RSI7',\n",
       " 'RSI12',\n",
       " 'RSI26',\n",
       " 'EMA7',\n",
       " 'EMA12',\n",
       " 'EMA26',\n",
       " 'momentum-cross',\n",
       " 'OBV',\n",
       " 'macd',\n",
       " 'up_down']"
      ]
     },
     "execution_count": 450,
     "metadata": {},
     "output_type": "execute_result"
    }
   ],
   "source": [
    "# Identify features for hypothesis testing\n",
    "train.columns.tolist()."
   ]
  },
  {
   "cell_type": "code",
   "execution_count": 458,
   "metadata": {},
   "outputs": [],
   "source": [
    "features = ['Close', 'Volume', 'close_DoD', 'vol_DoD', 'RSI7', 'RSI12', 'RSI26', 'EMA7', 'EMA12', 'EMA26', 'momentum-cross', 'OBV', 'macd']"
   ]
  },
  {
   "cell_type": "markdown",
   "metadata": {},
   "source": [
    "Null and alternative hypotheses \n",
    "\n",
    "$H_0$: there is no significant relationship between target and feature\n",
    "\n",
    "$H_a$: there is a significant relationship between target and feature\n",
    "\n",
    "Alpha = 0.05"
   ]
  },
  {
   "cell_type": "code",
   "execution_count": 522,
   "metadata": {},
   "outputs": [
    {
     "name": "stdout",
     "output_type": "stream",
     "text": [
      "Close\n",
      "MannwhitneyuResult(statistic=132460.0, pvalue=0.5573297192988111)\n",
      "Volume\n",
      "MannwhitneyuResult(statistic=137156.0, pvalue=0.11254108882941781)\n",
      "close_DoD\n",
      "MannwhitneyuResult(statistic=111685.0, pvalue=0.00011786300984206841)\n",
      "vol_DoD\n",
      "MannwhitneyuResult(statistic=139384.5, pvalue=0.03923879269590257)\n",
      "RSI7\n",
      "MannwhitneyuResult(statistic=126002.0, pvalue=0.43053708300327653)\n",
      "RSI12\n",
      "MannwhitneyuResult(statistic=129404.0, pvalue=0.9491440977343104)\n",
      "RSI26\n",
      "MannwhitneyuResult(statistic=131607.0, pvalue=0.6853619915241496)\n",
      "EMA7\n",
      "MannwhitneyuResult(statistic=132971.0, pvalue=0.4866573490253947)\n",
      "EMA12\n",
      "MannwhitneyuResult(statistic=132942.0, pvalue=0.49053427970453967)\n",
      "EMA26\n",
      "MannwhitneyuResult(statistic=132736.0, pvalue=0.5185452692734359)\n",
      "momentum-cross\n",
      "MannwhitneyuResult(statistic=130207.5, pvalue=0.9146900640315112)\n",
      "OBV\n",
      "MannwhitneyuResult(statistic=132565.0, pvalue=0.5424096256358787)\n",
      "macd\n",
      "MannwhitneyuResult(statistic=134555.0, pvalue=0.3016205488237542)\n"
     ]
    }
   ],
   "source": [
    "# T-test and significance level for all features vs target\n",
    "for feature in features:\n",
    "    print(feature)\n",
    "    print(stats.mannwhitneyu(up[feature], down[feature], alternative='two-sided'))\n",
    "    "
   ]
  },
  {
   "cell_type": "code",
   "execution_count": 524,
   "metadata": {},
   "outputs": [],
   "source": [
    "model_features = ['close_DoD', 'vol_DoD', 'RSI7', 'RSI12', 'RSI26', 'EMA7', 'EMA12', 'EMA26', 'momentum-cross', 'OBV', 'macd']"
   ]
  },
  {
   "cell_type": "markdown",
   "metadata": {},
   "source": [
    "***\n",
    "Conclusion:\n",
    "\n",
    "* I can reject the null hypothesis and establish that there is a signficant relationship between my two 'observed delta' features and my up_down target\n",
    "    * I can not reject the null hypothesis for Close & Volume alone; no significant relationship\n",
    "* My engineered feature samples do meet my confidence interval allowing me to reject the null hypothesis\n",
    "    * However, not as surprising as initially thought considering these features are constructed from prior observations without regard for target population \n",
    "***"
   ]
  },
  {
   "cell_type": "markdown",
   "metadata": {},
   "source": [
    "# Model Construction"
   ]
  },
  {
   "cell_type": "code",
   "execution_count": 526,
   "metadata": {},
   "outputs": [],
   "source": [
    "#  create X & y version of train, where y is a series with just the target feature and X are all the features. \n",
    "\n",
    "X_train = train.drop(columns=['up_down'])\n",
    "y_train = train.up_down\n",
    "\n",
    "X_validate = validate.drop(columns=['up_down'])\n",
    "y_validate = validate.up_down\n",
    "\n",
    "X_test = test.drop(columns=['up_down'])\n",
    "y_test = test.up_down"
   ]
  },
  {
   "cell_type": "code",
   "execution_count": 531,
   "metadata": {},
   "outputs": [
    {
     "name": "stdout",
     "output_type": "stream",
     "text": [
      "train -> ((1019, 17), (1019,))\n",
      "validate -> ((438, 17), (438,))\n",
      "test -> ((365, 17), (365,))\n"
     ]
    }
   ],
   "source": [
    "# Confirm splits\n",
    "print(f'train -> {X_train.shape, y_train.shape}')\n",
    "print(f'validate -> {X_validate.shape, y_validate.shape}')\n",
    "print(f'test -> {X_test.shape, y_test.shape}')"
   ]
  },
  {
   "cell_type": "markdown",
   "metadata": {},
   "source": [
    "*** Establish Baseline ***"
   ]
  },
  {
   "cell_type": "code",
   "execution_count": 546,
   "metadata": {},
   "outputs": [
    {
     "data": {
      "text/plain": [
       "0    1\n",
       "dtype: int64"
      ]
     },
     "execution_count": 546,
     "metadata": {},
     "output_type": "execute_result"
    }
   ],
   "source": [
    "mode = dfm.up_down.mode()\n",
    "mode"
   ]
  },
  {
   "cell_type": "code",
   "execution_count": 559,
   "metadata": {},
   "outputs": [
    {
     "name": "stdout",
     "output_type": "stream",
     "text": [
      "My baseline accuracy is 51.37%.\n"
     ]
    }
   ],
   "source": [
    "baseline = len(dfm[dfm.up_down == 1]) / len(dfm)\n",
    "print(f'My baseline accuracy is {round(baseline * 100,2)}%.')"
   ]
  },
  {
   "cell_type": "code",
   "execution_count": null,
   "metadata": {},
   "outputs": [],
   "source": []
  }
 ],
 "metadata": {
  "kernelspec": {
   "display_name": "Python 3",
   "language": "python",
   "name": "python3"
  },
  "language_info": {
   "codemirror_mode": {
    "name": "ipython",
    "version": 3
   },
   "file_extension": ".py",
   "mimetype": "text/x-python",
   "name": "python",
   "nbconvert_exporter": "python",
   "pygments_lexer": "ipython3",
   "version": "3.8.5"
  }
 },
 "nbformat": 4,
 "nbformat_minor": 4
}
